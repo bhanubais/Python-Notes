{
 "cells": [
  {
   "cell_type": "markdown",
   "metadata": {},
   "source": [
    "## See Available Variables, Functions or Methods"
   ]
  },
  {
   "cell_type": "code",
   "execution_count": 1,
   "metadata": {},
   "outputs": [
    {
     "data": {
      "text/plain": [
       "['In',\n",
       " 'Out',\n",
       " '_',\n",
       " '__',\n",
       " '___',\n",
       " '__builtin__',\n",
       " '__builtins__',\n",
       " '__doc__',\n",
       " '__loader__',\n",
       " '__name__',\n",
       " '__package__',\n",
       " '__spec__',\n",
       " '_dh',\n",
       " '_i',\n",
       " '_i1',\n",
       " '_ih',\n",
       " '_ii',\n",
       " '_iii',\n",
       " '_oh',\n",
       " 'exit',\n",
       " 'get_ipython',\n",
       " 'quit']"
      ]
     },
     "execution_count": 1,
     "metadata": {},
     "output_type": "execute_result"
    }
   ],
   "source": [
    "dir()"
   ]
  },
  {
   "cell_type": "code",
   "execution_count": 11,
   "metadata": {},
   "outputs": [
    {
     "data": {
      "text/plain": [
       "{'__name__': '__main__',\n",
       " '__doc__': 'Automatically created module for IPython interactive environment',\n",
       " '__package__': None,\n",
       " '__loader__': None,\n",
       " '__spec__': None,\n",
       " '__builtin__': <module 'builtins' (built-in)>,\n",
       " '__builtins__': <module 'builtins' (built-in)>,\n",
       " '_ih': ['',\n",
       "  'help(print)',\n",
       "  'help(def)',\n",
       "  'help(In)',\n",
       "  'help(exit)',\n",
       "  'import keyword\\nprint(keyword.kwlist)',\n",
       "  'vars()',\n",
       "  'vars()\\nlocals()',\n",
       "  'locals()',\n",
       "  'vars()\\n\\n# or\\n\\nlocals()',\n",
       "  'locals()',\n",
       "  'vars()'],\n",
       " '_oh': {6: {...}, 7: {...}, 8: {...}, 9: {...}, 10: {...}},\n",
       " '_dh': ['D:\\\\projects_internal\\\\Python Notes\\\\1. About Python'],\n",
       " 'In': ['',\n",
       "  'help(print)',\n",
       "  'help(def)',\n",
       "  'help(In)',\n",
       "  'help(exit)',\n",
       "  'import keyword\\nprint(keyword.kwlist)',\n",
       "  'vars()',\n",
       "  'vars()\\nlocals()',\n",
       "  'locals()',\n",
       "  'vars()\\n\\n# or\\n\\nlocals()',\n",
       "  'locals()',\n",
       "  'vars()'],\n",
       " 'Out': {6: {...}, 7: {...}, 8: {...}, 9: {...}, 10: {...}},\n",
       " 'get_ipython': <bound method InteractiveShell.get_ipython of <ipykernel.zmqshell.ZMQInteractiveShell object at 0x00000163A65680F0>>,\n",
       " 'exit': <IPython.core.autocall.ZMQExitAutocall at 0x163a6882630>,\n",
       " 'quit': <IPython.core.autocall.ZMQExitAutocall at 0x163a6882630>,\n",
       " '_': {...},\n",
       " '__': {...},\n",
       " '___': {...},\n",
       " '_i': 'locals()',\n",
       " '_ii': 'vars()\\n\\n# or\\n\\nlocals()',\n",
       " '_iii': 'locals()',\n",
       " '_i1': 'help(print)',\n",
       " '_i2': 'help(def)',\n",
       " '_i3': 'help(In)',\n",
       " '_i4': 'help(exit)',\n",
       " '_i5': 'import keyword\\nprint(keyword.kwlist)',\n",
       " 'keyword': <module 'keyword' from 'c:\\\\program files\\\\python37\\\\lib\\\\keyword.py'>,\n",
       " '_i6': 'vars()',\n",
       " '_6': {...},\n",
       " '_i7': 'vars()\\nlocals()',\n",
       " '_7': {...},\n",
       " '_i8': 'locals()',\n",
       " '_8': {...},\n",
       " '_i9': 'vars()\\n\\n# or\\n\\nlocals()',\n",
       " '_9': {...},\n",
       " '_i10': 'locals()',\n",
       " '_10': {...},\n",
       " '_i11': 'vars()'}"
      ]
     },
     "execution_count": 11,
     "metadata": {},
     "output_type": "execute_result"
    }
   ],
   "source": [
    "vars()"
   ]
  },
  {
   "cell_type": "code",
   "execution_count": 10,
   "metadata": {},
   "outputs": [
    {
     "data": {
      "text/plain": [
       "{'__name__': '__main__',\n",
       " '__doc__': 'Automatically created module for IPython interactive environment',\n",
       " '__package__': None,\n",
       " '__loader__': None,\n",
       " '__spec__': None,\n",
       " '__builtin__': <module 'builtins' (built-in)>,\n",
       " '__builtins__': <module 'builtins' (built-in)>,\n",
       " '_ih': ['',\n",
       "  'help(print)',\n",
       "  'help(def)',\n",
       "  'help(In)',\n",
       "  'help(exit)',\n",
       "  'import keyword\\nprint(keyword.kwlist)',\n",
       "  'vars()',\n",
       "  'vars()\\nlocals()',\n",
       "  'locals()',\n",
       "  'vars()\\n\\n# or\\n\\nlocals()',\n",
       "  'locals()'],\n",
       " '_oh': {6: {...}, 7: {...}, 8: {...}, 9: {...}},\n",
       " '_dh': ['D:\\\\projects_internal\\\\Python Notes\\\\1. About Python'],\n",
       " 'In': ['',\n",
       "  'help(print)',\n",
       "  'help(def)',\n",
       "  'help(In)',\n",
       "  'help(exit)',\n",
       "  'import keyword\\nprint(keyword.kwlist)',\n",
       "  'vars()',\n",
       "  'vars()\\nlocals()',\n",
       "  'locals()',\n",
       "  'vars()\\n\\n# or\\n\\nlocals()',\n",
       "  'locals()'],\n",
       " 'Out': {6: {...}, 7: {...}, 8: {...}, 9: {...}},\n",
       " 'get_ipython': <bound method InteractiveShell.get_ipython of <ipykernel.zmqshell.ZMQInteractiveShell object at 0x00000163A65680F0>>,\n",
       " 'exit': <IPython.core.autocall.ZMQExitAutocall at 0x163a6882630>,\n",
       " 'quit': <IPython.core.autocall.ZMQExitAutocall at 0x163a6882630>,\n",
       " '_': {...},\n",
       " '__': {...},\n",
       " '___': {...},\n",
       " '_i': 'vars()\\n\\n# or\\n\\nlocals()',\n",
       " '_ii': 'locals()',\n",
       " '_iii': 'vars()\\nlocals()',\n",
       " '_i1': 'help(print)',\n",
       " '_i2': 'help(def)',\n",
       " '_i3': 'help(In)',\n",
       " '_i4': 'help(exit)',\n",
       " '_i5': 'import keyword\\nprint(keyword.kwlist)',\n",
       " 'keyword': <module 'keyword' from 'c:\\\\program files\\\\python37\\\\lib\\\\keyword.py'>,\n",
       " '_i6': 'vars()',\n",
       " '_6': {...},\n",
       " '_i7': 'vars()\\nlocals()',\n",
       " '_7': {...},\n",
       " '_i8': 'locals()',\n",
       " '_8': {...},\n",
       " '_i9': 'vars()\\n\\n# or\\n\\nlocals()',\n",
       " '_9': {...},\n",
       " '_i10': 'locals()'}"
      ]
     },
     "execution_count": 10,
     "metadata": {},
     "output_type": "execute_result"
    }
   ],
   "source": [
    "locals()"
   ]
  },
  {
   "cell_type": "markdown",
   "metadata": {},
   "source": [
    "## Getting Help for Particular Function"
   ]
  },
  {
   "cell_type": "code",
   "execution_count": null,
   "metadata": {},
   "outputs": [],
   "source": [
    "help(exit)"
   ]
  },
  {
   "cell_type": "markdown",
   "metadata": {},
   "source": [
    "### help\n",
    "\n",
    "Run following command in terminal too see specific help from any keywords written in below table.\n",
    "\n",
    "`help()`\n",
    "\n",
    "|.       |.         |.         |.        |\n",
    "|--------|----------|----------|---------|\n",
    "| False  | class    | from     | or      |\n",
    "| None   | continue | global   | pass    |\n",
    "| True   | def      | if       | raise   |\n",
    "| and    | del      | import   | return  |\n",
    "| as     | elif     | in       | try     |\n",
    "| assert | else     | is       | while   |\n",
    "| async  | except   | lambda   | with    |\n",
    "| await  | finally  | nonlocal | yield   |\n",
    "| break  | for      | not      |         |\n",
    "\n",
    "`help> class`"
   ]
  },
  {
   "cell_type": "code",
   "execution_count": 5,
   "metadata": {
    "scrolled": true
   },
   "outputs": [
    {
     "name": "stdout",
     "output_type": "stream",
     "text": [
      "['False', 'None', 'True', 'and', 'as', 'assert', 'async', 'await', 'break', 'class', 'continue', 'def', 'del', 'elif', 'else', 'except', 'finally', 'for', 'from', 'global', 'if', 'import', 'in', 'is', 'lambda', 'nonlocal', 'not', 'or', 'pass', 'raise', 'return', 'try', 'while', 'with', 'yield']\n"
     ]
    }
   ],
   "source": [
    "import keyword\n",
    "print(keyword.kwlist)"
   ]
  }
 ],
 "metadata": {
  "kernelspec": {
   "display_name": "Python 3",
   "language": "python",
   "name": "python3"
  },
  "language_info": {
   "codemirror_mode": {
    "name": "ipython",
    "version": 3
   },
   "file_extension": ".py",
   "mimetype": "text/x-python",
   "name": "python",
   "nbconvert_exporter": "python",
   "pygments_lexer": "ipython3",
   "version": "3.7.2"
  }
 },
 "nbformat": 4,
 "nbformat_minor": 2
}
