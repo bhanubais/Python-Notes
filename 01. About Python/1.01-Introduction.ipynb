{
 "cells": [
  {
   "cell_type": "markdown",
   "metadata": {},
   "source": [
    "# Introduction to Python"
   ]
  },
  {
   "cell_type": "markdown",
   "metadata": {},
   "source": [
    "## Pythons is Good for\n",
    "\n",
    "Theoratically, Python can be used to develop any kind of Project. In some area it is convinent, in some area it is note wise to use Python.\n",
    "\n",
    " - Quickly Build Application (May not be most efficient)\n",
    " - Math/statics/data analysis/Machine learning Scripting\n",
    " - Scientific and Physics Computations, Graphic Computing and GUI."
   ]
  },
  {
   "cell_type": "markdown",
   "metadata": {},
   "source": [
    "## Python is not Good for\n",
    "\n",
    " - Build games in Python\n",
    " - Any Super high performance stuff (C++ is great for that)\n",
    " - Large scale complex distributed team because of Python is not Strongly type language.\n",
    " - OS\n",
    " - Browser Based Application"
   ]
  },
  {
   "cell_type": "markdown",
   "metadata": {},
   "source": [
    "## Uses of Python\n",
    "\n",
    " - **Space**: The International Space Station's Robonaut 2 robot uses Python for its central command system. Python is planned for use in a European missian to March in 2020 to collect soil samples\n",
    " - **CERN Large Hadron Collider**: Python helps understand the data analysis from some atom smashing experiments at the CERN Large Hadron Collider.\n",
    " - **Astronomy**: The Keekat Radio telescope array (the largest radio telescope in the Southern Hemisphere) uses Python for its control and moitoring systems.\n",
    " - **Movie Studio**: Automate movie production processes. Side Effectes Software's computer-generated imagery program Houdini uses Python for its programming interface and to sdcript the engine.\n",
    " - **Games**: Activision uses Python for building games, testing and analyzing stuff. They even use Python to find people cheating by boosting each other.\n",
    " - **Music**: Spotify music streaming service uses Python to send you music.\n",
    " - **Video**: Netflix uses Python to make sure movies play (stream) whitout stopping. Python is used a lot for Youtube.\n",
    " - **Internet Search**: Google used Python all over in its early development phase.\n",
    " - **Medicine**: Nodality company uses Python to handle information that they use to search for a cure to cancer.\n",
    " - **OS**: Linux and Mac OSX use Python for some of their administrative functions.\n",
    " "
   ]
  },
  {
   "cell_type": "markdown",
   "metadata": {},
   "source": [
    "## Features\n",
    "\n",
    " - Easy to read and understand Code\n",
    " - Python is Productive in Nature\n",
    " - Dynamic Typing\n",
    " - Interpreted Language\n",
    " - Rich Library"
   ]
  },
  {
   "cell_type": "markdown",
   "metadata": {},
   "source": [
    "## How Python Works\n",
    "\n",
    "**Source Code (.py) -> Byte Code (.pyc) -> Python Virtual Machine (PVM)**\n",
    "\n",
    " - Python automatically creates Byte Code(.pyc) for every script(.py) at the location where Python installed.\n",
    " - As soon as Byte Code run, Python automatically delete .pyc file."
   ]
  },
  {
   "cell_type": "markdown",
   "metadata": {},
   "source": [
    "## Manually Compile Python Code\n",
    "\n",
    "### Method 1:"
   ]
  },
  {
   "cell_type": "code",
   "execution_count": 2,
   "metadata": {},
   "outputs": [
    {
     "data": {
      "text/plain": [
       "'__pycache__\\\\test.cpython-37.pyc'"
      ]
     },
     "execution_count": 2,
     "metadata": {},
     "output_type": "execute_result"
    }
   ],
   "source": [
    "import py_compile\n",
    "py_compile.compile('test.py')"
   ]
  },
  {
   "cell_type": "markdown",
   "metadata": {},
   "source": [
    "### Method 2:\n",
    "\n",
    "`python -m py_compile test.py`\n",
    "\n",
    "it will compile given file (i.e. test.py)\n",
    "\n",
    "### Method 3:\n",
    "\n",
    "`python -m compileall`\n",
    "\n",
    "It will compile all .py files at current folder."
   ]
  },
  {
   "cell_type": "markdown",
   "metadata": {},
   "source": [
    "### Note: Make file executable in linux\n",
    "\n",
    "It's mandatory to make your python file executable before running your script in linux environments.\n",
    "\n",
    "`chmod +x filename.py`"
   ]
  }
 ],
 "metadata": {
  "kernelspec": {
   "display_name": "Python 3",
   "language": "python",
   "name": "python3"
  },
  "language_info": {
   "codemirror_mode": {
    "name": "ipython",
    "version": 3
   },
   "file_extension": ".py",
   "mimetype": "text/x-python",
   "name": "python",
   "nbconvert_exporter": "python",
   "pygments_lexer": "ipython3",
   "version": "3.7.2"
  }
 },
 "nbformat": 4,
 "nbformat_minor": 2
}
