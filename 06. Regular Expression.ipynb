{
 "cells": [
  {
   "cell_type": "markdown",
   "metadata": {},
   "source": [
    "# Regular Expression\n",
    "\n",
    "[Reference](https://docs.python.org/3/howto/regex.html) "
   ]
  },
  {
   "cell_type": "markdown",
   "metadata": {},
   "source": [
    "### metacharacters: `. ^ $ * + ? { } [ ] \\ | ( )`\n",
    "\n",
    "### character class:__ `[ ]`\n",
    " - **metacharacters are not active inside classes**\n",
    " - **complementing the set using `^` inside character class**"
   ]
  },
  {
   "cell_type": "code",
   "execution_count": 1,
   "metadata": {},
   "outputs": [
    {
     "data": {
      "text/plain": [
       "''"
      ]
     },
     "execution_count": 1,
     "metadata": {},
     "output_type": "execute_result"
    }
   ],
   "source": [
    "'''\n",
    "[abc]       A single character of: a, b or c\n",
    "[a-z]       A character in the range: a to z\n",
    "[^abc]      A character except: a, b or c; complement of [abc]\n",
    "[^a-z]      A character not in the range: a-z; complement of [a-z]\n",
    "[a-zA-Z]    A character in the range: a-z or A-Z\n",
    "\n",
    "[akm$]      match any of the characters 'a', 'k', 'm', or '$'; \n",
    "            '$' is usually a metacharacter, but inside a character class it’s stripped of its special nature.\n",
    "'''\n",
    "''"
   ]
  },
  {
   "cell_type": "markdown",
   "metadata": {},
   "source": [
    "### Special sequences:"
   ]
  },
  {
   "cell_type": "code",
   "execution_count": 2,
   "metadata": {},
   "outputs": [
    {
     "data": {
      "text/plain": [
       "''"
      ]
     },
     "execution_count": 2,
     "metadata": {},
     "output_type": "execute_result"
    }
   ],
   "source": [
    "'''\n",
    "\\w        [a-zA-Z0-9_]    : any alphanumeric character\n",
    "\\W        [^a-zA-Z0-9_]   [^\\w]\n",
    "\n",
    "\\d        [0-9]\n",
    "\\D        [^0-9]\n",
    "\n",
    "\\s        [ \\t\\n\\r\\f\\v]   : any whitespace character\n",
    "\\S        [^ \\t\\n\\r\\f\\v]\n",
    "\n",
    ".         [^\\n]           : Dot-anything except a newline character\n",
    "\n",
    "'''\n",
    "''"
   ]
  },
  {
   "cell_type": "markdown",
   "metadata": {},
   "source": [
    "### Repeating things:\n",
    "\n",
    " 1. __zero or more: `*`__\n",
    " 2. __one or more: `+`__\n",
    " 3. __zero or once: `?`__ (marking something as being optional)\n",
    " 4. __m times: `{m}`__\n",
    " 5. __m to n times: `{m, n}`__\n",
    " 6. __zero to m times: `{, m}`__\n",
    " 7. __m to more: `{m, }`__"
   ]
  },
  {
   "cell_type": "code",
   "execution_count": 3,
   "metadata": {},
   "outputs": [
    {
     "data": {
      "text/plain": [
       "''"
      ]
     },
     "execution_count": 3,
     "metadata": {},
     "output_type": "execute_result"
    }
   ],
   "source": [
    "'''\n",
    "ca*t         ct, cat, caaat, ...\n",
    "ca+t         cat, caat, caaat, ...\n",
    "home-?brew   homebrew, home-brew\n",
    "\n",
    "a/{3}b       a///b\n",
    "a/{2, 5}     a//b, a///b, a////b, a/////b\n",
    "a/{, 2}      ab, a/b, a//b\n",
    "a/{2, }      a//b, a///b, a////b, ...\n",
    "\n",
    "*            {0, }\n",
    "+            {1, }\n",
    "?            {0, 1}\n",
    "\n",
    "'''\n",
    "''"
   ]
  },
  {
   "cell_type": "markdown",
   "metadata": {},
   "source": [
    "## Using Regular Expresions"
   ]
  },
  {
   "cell_type": "markdown",
   "metadata": {},
   "source": [
    "### Pattern Object\n",
    "\n",
    "In pattern object **we can use various usefull regular expression flags.**"
   ]
  },
  {
   "cell_type": "code",
   "execution_count": 4,
   "metadata": {},
   "outputs": [
    {
     "name": "stdout",
     "output_type": "stream",
     "text": [
      "<class 're.Pattern'>\n"
     ]
    },
    {
     "data": {
      "text/plain": [
       "re.compile(r'ab*', re.UNICODE)"
      ]
     },
     "execution_count": 4,
     "metadata": {},
     "output_type": "execute_result"
    }
   ],
   "source": [
    "import re\n",
    "\n",
    "p1 = re.compile('ab*')\n",
    "print(type(p1))\n",
    "p1"
   ]
  },
  {
   "cell_type": "code",
   "execution_count": 5,
   "metadata": {},
   "outputs": [
    {
     "data": {
      "text/plain": [
       "re.compile(r'ab*', re.IGNORECASE|re.UNICODE)"
      ]
     },
     "execution_count": 5,
     "metadata": {},
     "output_type": "execute_result"
    }
   ],
   "source": [
    "p2 = re.compile('ab*', re.IGNORECASE)\n",
    "p2"
   ]
  },
  {
   "cell_type": "markdown",
   "metadata": {},
   "source": [
    "### The Backslash Effect\n",
    "\n",
    "Backslash `\\` is used to \n",
    " - Indicate special forms or\n",
    " - Allow special characters to be used without invoking their special meaning.\n",
    " \n",
    "**This conflicts with Python's usage to the same character for the same purpose in string literals.** \\\n",
    "Let's say you want to write a RE that matches the string **\\section**, which might be found in a LaTeX file. To figure out what to write in the program code, start with the desired string to be matched. Next, you must escape any backslashes and other metacharacters by preceding them with a backslash, resulting the the **string `\\\\section`**. The resulting string that **must be passed to `re.compile()` must be `\\\\section`.** \\\n",
    "\n",
    "**However, to express this as a Python string literal, both backslashes must be escaped again.**\n",
    "\n",
    "| Characters    |      Stage                                |\n",
    "|---------------|:------------------------------------------|\n",
    "| \\section      |  Text string to be matched                |\n",
    "| \\\\section     |  Escaped backslash for `re.compile()`     |\n",
    "| \"\\\\\\\\section\" |  Escaped backslashes for a string literal |\n",
    "\n",
    "In short, to match literal backslash, you have to write `\\\\\\\\` as a RE string, because the rgular expression must be `\\\\` and each backslash must be expressed as `\\\\` inside a regular Python string literal. This leads to lots of repeated backslashes and makes the resulting strings difficult to understand.\n",
    "\n",
    "__Solution: Use Python's raw string notation for regular expresions__; backslashes are not handled in any special way in a string literal prefixed with `r`. eg.: __r\"\\n\"__ to literally select `\\` and `n` not a newline character.\n",
    "\n",
    "In addition, special escape sequences that are valid in regular expressions, but not valid as Python string literals, not result in a `DeprecationWarning` and will eventually become a `SyntaxError` which means the sequences will be invalid if raw string notation or escaping the backslashes isn't used.\n",
    "\n",
    "| Regular String   |  Raw string    |\n",
    "|------------------|:---------------|\n",
    "| \"ab*\"            |  r\"ab*\"        |\n",
    "| \"\\\\\\\\section\"    |  r\"\\\\section\"  |\n",
    "| \"\\\\w+\\\\s+\\\\1\"    |  r\"\\w+\\s+\\1\"   |"
   ]
  },
  {
   "cell_type": "markdown",
   "metadata": {},
   "source": [
    "### Performing Matches\n",
    "\n",
    "| Method/Attribute |  Porpose                                                                    |\n",
    "|------------------|:----------------------------------------------------------------------------|\n",
    "| `match()`        |  Determine if the RE matches at the beginning of the string.                |\n",
    "| `search()`       |  Scan through a string, looking for any location where this RE matches.     |\n",
    "| `findall()`      |  Find all substrings where the RE matches, and returns them as a list.      |\n",
    "| `finditer()`     |  Find all substrings where the RE matches, and returns them as an iterator  |"
   ]
  },
  {
   "cell_type": "code",
   "execution_count": 5,
   "metadata": {},
   "outputs": [
    {
     "name": "stdout",
     "output_type": "stream",
     "text": [
      "<class 're.Pattern'>\n"
     ]
    },
    {
     "data": {
      "text/plain": [
       "re.compile(r'[a-z]+', re.UNICODE)"
      ]
     },
     "execution_count": 5,
     "metadata": {},
     "output_type": "execute_result"
    }
   ],
   "source": [
    "import re\n",
    "\n",
    "# Creating RE Object\n",
    "ptrn = re.compile('[a-z]+')\n",
    "print(type(ptrn))\n",
    "ptrn"
   ]
  },
  {
   "cell_type": "code",
   "execution_count": 7,
   "metadata": {},
   "outputs": [
    {
     "name": "stdout",
     "output_type": "stream",
     "text": [
      "None\n",
      "None\n",
      "[]\n",
      "\n",
      "<callable_iterator object at 0x0000024D36B1BB20>\n",
      "[]\n"
     ]
    }
   ],
   "source": [
    "# Matching against Blank String\n",
    "print(ptrn.match(\"\"))\n",
    "print(ptrn.search(\"\"))\n",
    "print(ptrn.findall(\"\"))\n",
    "print()\n",
    "\n",
    "print(ptrn.finditer(\"\"))\n",
    "print(list(ptrn.finditer(\"\")))"
   ]
  },
  {
   "cell_type": "code",
   "execution_count": 8,
   "metadata": {},
   "outputs": [
    {
     "name": "stdout",
     "output_type": "stream",
     "text": [
      "<re.Match object; span=(0, 5), match='tempo'>\n",
      "<re.Match object; span=(0, 5), match='tempo'>\n",
      "['tempo']\n",
      "\n",
      "<callable_iterator object at 0x0000024D36B20EE0>\n",
      "[<re.Match object; span=(0, 5), match='tempo'>, <re.Match object; span=(6, 10), match='taxi'>]\n"
     ]
    }
   ],
   "source": [
    "# Matching against 'tempo'\n",
    "print(ptrn.match('tempo'))\n",
    "print(ptrn.search('tempo'))\n",
    "print(ptrn.findall('tempo'))\n",
    "print()\n",
    "\n",
    "print(ptrn.finditer('tempo taxi'))\n",
    "print(list(ptrn.finditer('tempo taxi')))"
   ]
  },
  {
   "cell_type": "markdown",
   "metadata": {},
   "source": [
    "### re.Match object\n",
    "\n",
    "| Method/Attribute | Purpose                                                           |\n",
    "|------------------|:------------------------------------------------------------------|\n",
    "| `group()`        | Return the string matched by the RE                               |\n",
    "| `start()`        | Return the starting position of the match                         |\n",
    "| `end()`          | Return the ending position of the match                           |\n",
    "| `span()`         | Return a tuple containing the (start, end) positions of the match |"
   ]
  },
  {
   "cell_type": "code",
   "execution_count": 13,
   "metadata": {},
   "outputs": [
    {
     "name": "stdout",
     "output_type": "stream",
     "text": [
      "<re.Match object; span=(0, 6), match='maxtor'>\n",
      "\n",
      "maxtor\n",
      "0\n",
      "6\n",
      "(0, 6)\n"
     ]
    }
   ],
   "source": [
    "ptrn = re.compile('[a-z]+')\n",
    "mtch = ptrn.match('maxtor desney hollywood')\n",
    "print(mtch)\n",
    "print()\n",
    "\n",
    "print(mtch.group())\n",
    "print(mtch.start())\n",
    "print(mtch.end())\n",
    "print(mtch.span())"
   ]
  },
  {
   "cell_type": "code",
   "execution_count": 14,
   "metadata": {},
   "outputs": [
    {
     "name": "stdout",
     "output_type": "stream",
     "text": [
      "None\n"
     ]
    }
   ],
   "source": [
    "mtch = ptrn.match('::: maxtor disney hollywood')\n",
    "print(mtch)"
   ]
  },
  {
   "cell_type": "code",
   "execution_count": 15,
   "metadata": {},
   "outputs": [
    {
     "name": "stdout",
     "output_type": "stream",
     "text": [
      "<re.Match object; span=(4, 10), match='maxtor'>\n",
      "\n",
      "maxtor\n",
      "4\n",
      "10\n",
      "(4, 10)\n"
     ]
    }
   ],
   "source": [
    "mtch = ptrn.search('::: maxtor disney hollywood')\n",
    "print(mtch)\n",
    "print()\n",
    "\n",
    "print(mtch.group())\n",
    "print(mtch.start())\n",
    "print(mtch.end())\n",
    "print(mtch.span())"
   ]
  },
  {
   "cell_type": "code",
   "execution_count": 16,
   "metadata": {},
   "outputs": [
    {
     "name": "stdout",
     "output_type": "stream",
     "text": [
      "['maxtor', 'disney', 'hollywood']\n"
     ]
    }
   ],
   "source": [
    "mtch = ptrn.findall('::: maxtor disney hollywood')\n",
    "print(mtch)"
   ]
  },
  {
   "cell_type": "code",
   "execution_count": 17,
   "metadata": {},
   "outputs": [
    {
     "name": "stdout",
     "output_type": "stream",
     "text": [
      "<callable_iterator object at 0x0000024D36C1F160>\n",
      "\n",
      "group-> maxtor, span->(4, 10)\n",
      "group-> disney, span->(11, 17)\n",
      "group-> hollywood, span->(18, 27)\n"
     ]
    }
   ],
   "source": [
    "mtch = ptrn.finditer('::: maxtor disney hollywood')\n",
    "print(mtch)\n",
    "print()\n",
    "\n",
    "for m in mtch:\n",
    "    print(f'group-> {m.group()}, span->{m.span()}')"
   ]
  },
  {
   "cell_type": "markdown",
   "metadata": {},
   "source": [
    "### Example: show all position of digits in a given string"
   ]
  },
  {
   "cell_type": "code",
   "execution_count": 38,
   "metadata": {},
   "outputs": [
    {
     "name": "stdout",
     "output_type": "stream",
     "text": [
      "['56', '74', '115', '117', '1864', '1899', '1998', '2008', '36', '99']\n",
      "\n",
      "(24, 26)\n",
      "(27, 29)\n",
      "(31, 34)\n",
      "(35, 38)\n",
      "(47, 51)\n",
      "(52, 56)\n",
      "(58, 62)\n",
      "(63, 67)\n",
      "(77, 79)\n",
      "(80, 82)\n"
     ]
    }
   ],
   "source": [
    "astr = 'Use digits (e.g. pages: 56–74, 115–117; years: 1864–1899, 1998–2008; streets 36–99 Spa St).'\n",
    "ptrn = re.compile(r'\\d+')\n",
    "\n",
    "print(ptrn.findall(astr))\n",
    "print()\n",
    "\n",
    "for p in ptrn.finditer(astr):\n",
    "    print(p.span())"
   ]
  },
  {
   "cell_type": "markdown",
   "metadata": {},
   "source": [
    "## Module-Level Functions\n",
    "\n",
    "You don't have to create a pattern object and call its methods; the `re` module also provide top-level functions called `match()`, `search()`, `findall()`, `sub()` and so forth. These functions take the same arguments as the corresponding pattern method with the RE string added as the first argument, and still return either `None` or a `match object` instance.\n",
    "\n",
    "__Which is Better?__ module-level functions, or get the pattern and call its method yourself. \\\n",
    "If you're accesssing a regex within a loop, pre-compiling it will save a few function calls."
   ]
  },
  {
   "cell_type": "code",
   "execution_count": 41,
   "metadata": {},
   "outputs": [
    {
     "name": "stdout",
     "output_type": "stream",
     "text": [
      "None\n"
     ]
    }
   ],
   "source": [
    "print(re.match(r'From\\s+', 'Fromage amk'))"
   ]
  },
  {
   "cell_type": "code",
   "execution_count": 42,
   "metadata": {},
   "outputs": [
    {
     "data": {
      "text/plain": [
       "<re.Match object; span=(0, 5), match='From '>"
      ]
     },
     "execution_count": 42,
     "metadata": {},
     "output_type": "execute_result"
    }
   ],
   "source": [
    "re.match(r'From\\s+', 'From amk Thu May 14 19:12:10 1998')"
   ]
  },
  {
   "cell_type": "markdown",
   "metadata": {},
   "source": [
    "## Compilation Flags\n",
    "\n",
    " - Modify some aspects of how regular expressions work.\n",
    " - Available in two names, a long name as `IGNORECASE` and short, one-letter from such as `I`\n",
    " \n",
    "| Flag               |  Meaning                                                                                                           |\n",
    "|:-------------------|:-------------------------------------------------------------------------------------------------------------------|\n",
    "| `ASCII`, `A`       |  Makes several escapes like `\\w`, `\\b`, `\\s` and `\\d` match only on ASCII characters with the respective property. |\n",
    "| `DOTALL`, `S`      |  Make `.` match any character, including newlines.                                                                 |\n",
    "| `IGNORECASE`, `I`  |  Do case-insensitive matches. |\n",
    "| `LOCALE`, `l`      |  Do a locale-aware match. |\n",
    "| `MULTILINE`, `M`   |  Multi-line matching, affecting `^` and `$`. |\n",
    "| `VERBOSE`, `X`     |  Enable verbose REs, which can be organized more cleanly and understandably. |\n"
   ]
  },
  {
   "cell_type": "markdown",
   "metadata": {},
   "source": [
    "### Comments inside Regular Expression"
   ]
  },
  {
   "cell_type": "code",
   "execution_count": 44,
   "metadata": {},
   "outputs": [],
   "source": [
    "# See how much easier it is to read\n",
    "charref = re.compile(r\"\"\"\n",
    "&[#]             # Start of a numeric entity reference\n",
    "(\n",
    "   0[0-7]+       # Octal form\n",
    " | [0-9]+        # Decimal form\n",
    " | x[0-9a-fA-F]+ # Hexadecimal form\n",
    ")\n",
    ";                # Trailing semicolon\n",
    "\"\"\", re.VERBOSE)"
   ]
  },
  {
   "cell_type": "code",
   "execution_count": 45,
   "metadata": {},
   "outputs": [],
   "source": [
    "# Without verbose setting, the RE would look like this:\n",
    "charref = re.compile(\"&#(0[0-7]+\"\n",
    "                     \"|[0-9]+\"\n",
    "                     \"|x[0-9a-fA-F]+);\")"
   ]
  },
  {
   "cell_type": "markdown",
   "metadata": {},
   "source": [
    "## Example: Stressful Subject\n",
    "\n",
    "Sofia has had a very stressful month and decided to take a vacation for a week. To avoid any stress during her vacation she wants to forward emails with a stressful subject line to Stephen.\n",
    "\n",
    "The function should recognise if a subject line is stressful. \n",
    "\n",
    "__A stressful subject line:__\n",
    " - all letters in uppercase and/or\n",
    " - ends by at least 3 exclamation marks and/or\n",
    " - contains at least one of the following words: \"help\", \"asap\", \"urgent\"\n",
    "     + red words can be spelled in different ways: \\\n",
    "       \"HTLP\", \"help\", \"HeLp\", \"H!E!L!P!\", \"H-E-L-P\" \\\n",
    "       \"HHHEEEEEEEEELLP\" (they just can't have any other \\\n",
    "       letters interspersed between them.)\n"
   ]
  },
  {
   "cell_type": "code",
   "execution_count": 9,
   "metadata": {},
   "outputs": [],
   "source": [
    "# Method: 1\n",
    "import re\n",
    "def is_stressful(subj):\n",
    "    test1 = subj.isupper()\n",
    "    test2 = bool(re.search(r'h+[^a-z]?e+[^a-z]?l+[^a-z]?p|!!!$', subj.lower())) or \\\n",
    "            bool(re.search(r'a+[^a-z]?s+[^a-z]?a+[^a-z]?p|!!!$', subj.lower())) or \\\n",
    "            bool(re.search(r'u+[^a-z]?r+[^a-z]?g+[^a-z]?e+[^a-z]?n+[^a-z]?t|!!!$', subj.lower()))\n",
    "    return test1 or test2"
   ]
  },
  {
   "cell_type": "code",
   "execution_count": 10,
   "metadata": {},
   "outputs": [],
   "source": [
    "# Method: 2\n",
    "def is_stressful(subj):\n",
    "    test1 = subj.isupper() or subj.endswith('!!!')\n",
    "    \n",
    "    red = 'help asap urgent'.split()\n",
    "    red_re = [''.join(p + '+[^a-z]?' for p in word) for word in red]\n",
    "    test2 = any(re.search(r, subj.lower()) for r in red_re)\n",
    "    \n",
    "    return test1 or test2"
   ]
  },
  {
   "cell_type": "code",
   "execution_count": 11,
   "metadata": {},
   "outputs": [
    {
     "name": "stdout",
     "output_type": "stream",
     "text": [
      "True\n",
      "True\n",
      "True\n",
      "True\n",
      "True\n",
      "True\n",
      "True\n",
      "True\n",
      "True\n"
     ]
    }
   ],
   "source": [
    "# Tests\n",
    "print(is_stressful(\"Hi\") == False)\n",
    "print(is_stressful(\"I neeed HELP\") == True)\n",
    "print(is_stressful(\"I neeed help\") == True)\n",
    "print(is_stressful(\"I neeed HeLp\") == True)\n",
    "print(is_stressful(\"I neeed H!E!L!P!\") == True)\n",
    "print(is_stressful(\"I neeed H-E-L-P\") == True)\n",
    "print(is_stressful(\"I neeed HHHEEEEEEEEELLP\") == True)\n",
    "print(is_stressful(\"I neeed H-E-t-L-P\") == False)\n",
    "print(is_stressful(\"Heeeeeey!!! I’m having so much fun!\\”\") == False)"
   ]
  }
 ],
 "metadata": {
  "kernelspec": {
   "display_name": "Python 3",
   "language": "python",
   "name": "python3"
  },
  "language_info": {
   "codemirror_mode": {
    "name": "ipython",
    "version": 3
   },
   "file_extension": ".py",
   "mimetype": "text/x-python",
   "name": "python",
   "nbconvert_exporter": "python",
   "pygments_lexer": "ipython3",
   "version": "3.8.2"
  }
 },
 "nbformat": 4,
 "nbformat_minor": 4
}
