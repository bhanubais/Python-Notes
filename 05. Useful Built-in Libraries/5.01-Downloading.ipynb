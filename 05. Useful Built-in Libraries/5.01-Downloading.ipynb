{
 "cells": [
  {
   "cell_type": "markdown",
   "metadata": {},
   "source": [
    "## Download files in a series\n",
    "\n",
    "Download Multiple Files named \"Appendix A' to 'Appendix D' from uniq location"
   ]
  },
  {
   "cell_type": "code",
   "execution_count": null,
   "metadata": {},
   "outputs": [],
   "source": [
    "import requests\n",
    "\n",
    "for x in range(65, 69):\n",
    "    url = f'https://sites.math.rutgers.edu/~ajl213/CLRS/Appendix%20{chr(x)}.pdf'\n",
    "    file_name = f'Appendix {chr(x)}.pdf'\n",
    "    r = requests.get(url, stream=True) # create HTTP responce object\n",
    "    print(f'Downloading {file_name}')\n",
    "    with open(file_name, 'wb') as pdf:\n",
    "        for chunk in r.iter_content(chunk_size=1024):\n",
    "            # writing one chunk at a time to pdf file\n",
    "            if chunk:\n",
    "                pdf.write(chunk)\n",
    "    print(\"All Files Downloaded\")"
   ]
  },
  {
   "cell_type": "markdown",
   "metadata": {},
   "source": [
    "## Downloading Videos\n",
    "\n",
    "Download all videos available on this [web-page](http://www-personal.umich.edu/~csev/books/py4inf/media/) \\\n",
    "We first scrape the webpage to extract all video links and then download the videos one by one."
   ]
  },
  {
   "cell_type": "code",
   "execution_count": null,
   "metadata": {},
   "outputs": [],
   "source": [
    "import requests\n",
    "from bs4 import BeautifulSoup\n",
    "archive_url = 'http://www-personal.umich.edu/~csev/books/py4inf/media/'\n",
    "\n",
    "def get_video_links():\n",
    "    r = requests.get(archive_url)\n",
    "    soup = BeautifulSoup(r.content, 'html5lib')\n",
    "    links = soup.findall('a')\n",
    "    video_links = [f'{archive_url}{link['href']}' for link in links if link['href'].endswith('mp4')]\n",
    "    return video_links\n",
    "\n",
    "def download_video_series(video_links):\n",
    "    for link in video_links:\n",
    "        file_name = link.split('/')[-1]\n",
    "        print(f'Downloading {file_name}')\n",
    "        r = requests.get(link, stream=True)\n",
    "        with open(file_name, 'wb') as file:\n",
    "            for chunk in r.iter_content(chunk_size=1024*1024):\n",
    "                if chunk:\n",
    "                    file.write(chunk)\n",
    "        print(f'{file_name} Downloaded!')\n",
    "    print(f'All videos downloaded!')\n",
    "    return None\n",
    "\n",
    "if __name__ == '__main__':\n",
    "    video_links = get_video_links()\n",
    "    download_video_links(video_links)\n"
   ]
  }
 ],
 "metadata": {
  "kernelspec": {
   "display_name": "Python 3",
   "language": "python",
   "name": "python3"
  },
  "language_info": {
   "codemirror_mode": {
    "name": "ipython",
    "version": 3
   },
   "file_extension": ".py",
   "mimetype": "text/x-python",
   "name": "python",
   "nbconvert_exporter": "python",
   "pygments_lexer": "ipython3",
   "version": "3.8.2"
  }
 },
 "nbformat": 4,
 "nbformat_minor": 4
}
