{
 "cells": [
  {
   "cell_type": "markdown",
   "metadata": {},
   "source": [
    "## Input & Output"
   ]
  },
  {
   "cell_type": "code",
   "execution_count": 9,
   "metadata": {},
   "outputs": [
    {
     "name": "stdout",
     "output_type": "stream",
     "text": [
      "Hello World\n",
      "O Hai 23\n",
      "O | Hai | 23\n",
      "O Hai 23 !!\n",
      "\n",
      "False\n",
      "True\n",
      "True\n"
     ]
    }
   ],
   "source": [
    "print(\"Hello World\")\n",
    "print(\"O\", \"Hai\", 23)\n",
    "print(\"O\", \"Hai\", 23, sep=\" | \")\n",
    "print(\"O\", \"Hai\", 23, end=\" !!\\n\\n\")\n",
    "\n",
    "print(\"A\" == \"B\")\n",
    "print(\"A\" is \"A\")\n",
    "print(2 is 2)"
   ]
  },
  {
   "cell_type": "code",
   "execution_count": 5,
   "metadata": {},
   "outputs": [
    {
     "name": "stdout",
     "output_type": "stream",
     "text": [
      "Please enter a number: adlfkj\n",
      "you entered 'adlfkj'.\n"
     ]
    }
   ],
   "source": [
    "user_input = input(\"Please enter a number: \")\n",
    "print(f\"you entered '{user_input}'.\")"
   ]
  },
  {
   "cell_type": "code",
   "execution_count": 1,
   "metadata": {
    "scrolled": true
   },
   "outputs": [
    {
     "name": "stdout",
     "output_type": "stream",
     "text": [
      "Please enter a number: 50\n",
      "You have entered 50 as number.\n"
     ]
    }
   ],
   "source": [
    "num = int(input(\"Please enter a number: \"))\n",
    "print(f\"You have entered {num} as number.\")"
   ]
  }
 ],
 "metadata": {
  "kernelspec": {
   "display_name": "Python 3",
   "language": "python",
   "name": "python3"
  },
  "language_info": {
   "codemirror_mode": {
    "name": "ipython",
    "version": 3
   },
   "file_extension": ".py",
   "mimetype": "text/x-python",
   "name": "python",
   "nbconvert_exporter": "python",
   "pygments_lexer": "ipython3",
   "version": "3.7.2"
  }
 },
 "nbformat": 4,
 "nbformat_minor": 2
}
