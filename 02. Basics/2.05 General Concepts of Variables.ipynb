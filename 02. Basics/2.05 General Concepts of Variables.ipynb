{
 "cells": [
  {
   "cell_type": "markdown",
   "metadata": {},
   "source": [
    "## General Concepts of Variables\n",
    "\n",
    "Python eleminate duplicate data by nature. It create real copies only if it has to be. i.e. if the use/programmer explicitly demands it."
   ]
  },
  {
   "cell_type": "code",
   "execution_count": 7,
   "metadata": {
    "scrolled": false
   },
   "outputs": [
    {
     "name": "stdout",
     "output_type": "stream",
     "text": [
      "True\n",
      "140713592612976\n",
      "140713592612976\n"
     ]
    }
   ],
   "source": [
    "# Althow we assigned values for x and y separately,\n",
    "# they are refering same data(42).\n",
    "\n",
    "x = 42\n",
    "y = 42\n",
    "\n",
    "print(x is y)\n",
    "\n",
    "print(id(x))\n",
    "print(id(y))"
   ]
  },
  {
   "cell_type": "code",
   "execution_count": 8,
   "metadata": {},
   "outputs": [
    {
     "name": "stdout",
     "output_type": "stream",
     "text": [
      "False\n",
      "140713592613008\n",
      "140713592612976\n"
     ]
    }
   ],
   "source": [
    "# As we change value of one of variable well as \n",
    "# both started to point different data\n",
    "\n",
    "x += 1\n",
    "\n",
    "print(x is y)\n",
    "\n",
    "print(id(x))\n",
    "print(id(y))"
   ]
  }
 ],
 "metadata": {
  "kernelspec": {
   "display_name": "Python 3",
   "language": "python",
   "name": "python3"
  },
  "language_info": {
   "codemirror_mode": {
    "name": "ipython",
    "version": 3
   },
   "file_extension": ".py",
   "mimetype": "text/x-python",
   "name": "python",
   "nbconvert_exporter": "python",
   "pygments_lexer": "ipython3",
   "version": "3.7.2"
  }
 },
 "nbformat": 4,
 "nbformat_minor": 2
}
