{
 "cells": [
  {
   "cell_type": "markdown",
   "metadata": {},
   "source": [
    "## if, elif, and else\n",
    "\n",
    "If you use all if, elif, and else altogether, Only One of them will be executed."
   ]
  },
  {
   "cell_type": "code",
   "execution_count": 1,
   "metadata": {
    "scrolled": true
   },
   "outputs": [
    {
     "name": "stdout",
     "output_type": "stream",
     "text": [
      "This line always prints.\n"
     ]
    }
   ],
   "source": [
    "num = 0\n",
    "\n",
    "if num > 0:\n",
    "    print(\"Positive\")\n",
    "\n",
    "print(\"This line always prints.\")"
   ]
  },
  {
   "cell_type": "code",
   "execution_count": 2,
   "metadata": {},
   "outputs": [
    {
     "name": "stdout",
     "output_type": "stream",
     "text": [
      "Negative\n",
      "This line always prints.\n"
     ]
    }
   ],
   "source": [
    "if num > 0:\n",
    "    print(\"Positive\")\n",
    "else:\n",
    "    print(\"Negative\")\n",
    "\n",
    "print(\"This line always prints.\")"
   ]
  },
  {
   "cell_type": "code",
   "execution_count": 3,
   "metadata": {},
   "outputs": [
    {
     "name": "stdout",
     "output_type": "stream",
     "text": [
      "Zero\n",
      "This line will print always.\n"
     ]
    }
   ],
   "source": [
    "if num > 0:\n",
    "    print(\"Positive\")\n",
    "elif num == 0:\n",
    "    print(\"Zero\")\n",
    "else:\n",
    "    print(\"Negative\")\n",
    "\n",
    "print(\"This line will print always.\")"
   ]
  },
  {
   "cell_type": "code",
   "execution_count": 12,
   "metadata": {
    "scrolled": true
   },
   "outputs": [
    {
     "name": "stdout",
     "output_type": "stream",
     "text": [
      "Enter your Grade between 0 to 100 (inclusive)65\n",
      "D Grade\n"
     ]
    }
   ],
   "source": [
    "grade = int(input(\"Enter your Grade between 0 to 100 (inclusive)\"))\n",
    "\n",
    "if 0 <= grade and grade < 65:\n",
    "    print(\"F Grade\")\n",
    "\n",
    "elif grade < 70:\n",
    "    print(\"D Grade\")\n",
    "\n",
    "elif grade < 80:\n",
    "    print(\"C Grade\")\n",
    "\n",
    "elif grade < 90:\n",
    "    print(\"B Grade\")\n",
    "\n",
    "elif grade <= 100:\n",
    "    print(\"A Grade\")\n",
    "\n",
    "else:\n",
    "    print(\"Invalid Marks!\")\n"
   ]
  },
  {
   "cell_type": "markdown",
   "metadata": {},
   "source": [
    "## switch\n",
    "\n",
    "Surprisingly Python **have NOT** built-in `switch` statement.\n",
    "Don't worry we can simulate switch using Python's Dictionary."
   ]
  },
  {
   "cell_type": "code",
   "execution_count": 4,
   "metadata": {},
   "outputs": [
    {
     "name": "stdout",
     "output_type": "stream",
     "text": [
      "Enter Month Number between 1 to 12: 6\n",
      "June\n"
     ]
    }
   ],
   "source": [
    "month = int(input(\"Enter Month Number between 1 to 12: \"))\n",
    "month_name = None\n",
    "\n",
    "months = {\n",
    "    1: \"January\",\n",
    "    2: \"February\",\n",
    "    3: \"March\",\n",
    "    4: \"April\",\n",
    "    5: \"May\",\n",
    "    6: \"June\",\n",
    "    7: \"July\",\n",
    "    8: \"August\",\n",
    "    9: \"September\",\n",
    "    10: \"October\",\n",
    "    11: \"November\",\n",
    "    12: \"December\"\n",
    "}\n",
    "print(months.get(month, \"Invalid Month\"))"
   ]
  }
 ],
 "metadata": {
  "kernelspec": {
   "display_name": "Python 3",
   "language": "python",
   "name": "python3"
  },
  "language_info": {
   "codemirror_mode": {
    "name": "ipython",
    "version": 3
   },
   "file_extension": ".py",
   "mimetype": "text/x-python",
   "name": "python",
   "nbconvert_exporter": "python",
   "pygments_lexer": "ipython3",
   "version": "3.8.2"
  }
 },
 "nbformat": 4,
 "nbformat_minor": 4
}
