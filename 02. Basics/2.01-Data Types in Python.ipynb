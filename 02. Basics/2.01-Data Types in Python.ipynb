{
 "cells": [
  {
   "cell_type": "markdown",
   "metadata": {},
   "source": [
    "## Common Data Types\n",
    "\n",
    "- __Numeric__: int, float, complex (Immutable)\n",
    "- __Strings__: Sequence of characters (Immutable)\n",
    "- __Tuple__  : (Immutable, faster compared to List)\n",
    "- __List__   : (Mutable, mostly used to store homogeneous data types)\n",
    "- __Set__    : (Unordered collection of items, mutable, removes duplicates)\n",
    "- __Dictionary__: (Unordered collection of Key-Value Pairs, Mutable, Keys are Unique - values may not be unique. Keys are Immutable)"
   ]
  },
  {
   "cell_type": "markdown",
   "metadata": {},
   "source": [
    "## Other Data Types\n",
    "\n",
    "- __Boolean__     : True, False\n",
    "- __Pandas Type__ : DataFrame, Series\n",
    "- __Customized__  : Object Oriented Classes"
   ]
  }
 ],
 "metadata": {
  "kernelspec": {
   "display_name": "Python 3",
   "language": "python",
   "name": "python3"
  },
  "language_info": {
   "codemirror_mode": {
    "name": "ipython",
    "version": 3
   },
   "file_extension": ".py",
   "mimetype": "text/x-python",
   "name": "python",
   "nbconvert_exporter": "python",
   "pygments_lexer": "ipython3",
   "version": "3.7.2"
  }
 },
 "nbformat": 4,
 "nbformat_minor": 2
}
