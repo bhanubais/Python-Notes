{
 "cells": [
  {
   "cell_type": "markdown",
   "metadata": {},
   "source": [
    "## Common Data Types\n",
    "\n",
    "- **`Numeric`**: Immutable | int, float, complex\n",
    "- **`Strings`**: Immutable | Sequence of characters\n",
    "- **`Tuple`**  : (v) Immutable | Faster compared to List\n",
    "- **`List`**   : [v] Mutable | Mostly used to store homogeneous data types)\n",
    "- **`Set`**    : {v} Mutable | Unordered collection of items, removes duplicates\n",
    "- **`Dictionary`**: {k:v} key: Immutable, Value: Mutable | Unordered collection of Key-Value Pairs, Keys are Unique, values may not be unique."
   ]
  },
  {
   "cell_type": "markdown",
   "metadata": {},
   "source": [
    "## Other Data Types\n",
    "\n",
    "- **`Boolean`**     : True, False\n",
    "- **`Numpy Array`** : Numpy Object\n",
    "- **`Pandas Type`** : DataFrame, Series\n",
    "- **`Customized`**  : Object Oriented Classes"
   ]
  }
 ],
 "metadata": {
  "kernelspec": {
   "display_name": "Python 3",
   "language": "python",
   "name": "python3"
  },
  "language_info": {
   "codemirror_mode": {
    "name": "ipython",
    "version": 3
   },
   "file_extension": ".py",
   "mimetype": "text/x-python",
   "name": "python",
   "nbconvert_exporter": "python",
   "pygments_lexer": "ipython3",
   "version": "3.7.2"
  }
 },
 "nbformat": 4,
 "nbformat_minor": 2
}
