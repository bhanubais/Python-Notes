{
 "cells": [
  {
   "cell_type": "markdown",
   "metadata": {},
   "source": [
    "## Mutable: Static\n",
    "\n",
    " - Mutable objects can change their value but keep their id() same.\n",
    " - **Examples**: `list`, `dict`, `set`, `bytearray`, user-defined classes.\n",
    "\n",
    "## Immutable: Dynamic\n",
    "\n",
    " - Immutable objects **can not** change their value or id. A new object has to be created if a different value has to be stored.\n",
    " - Immutable objects are quicker to access than mutable objects.\n",
    " - These play an important role in places where a constant hash() value is needed.\n",
    " - **Examples**: `int`, `float`, `complex`, `bool`, `string`, `tuple`, `range`, `flozenset`, `bytes`."
   ]
  },
  {
   "cell_type": "markdown",
   "metadata": {},
   "source": [
    "## `hash()` value\n",
    "\n",
    " - Every Object has a unique `id()` but Only Immutable objects and instances of user-defined classes have an respective `hash()` value.\n",
    " - An object is hashable if it has a hash value which never changes during its lifetime.\n",
    " - All Python's immutable built-in objects are hashable.\n",
    " - Mutable Objects are not hashable.\n",
    " - Hash values are just integers which are used to compare dictionary keys during a dictionary lookup quickly."
   ]
  },
  {
   "cell_type": "code",
   "execution_count": 9,
   "metadata": {},
   "outputs": [],
   "source": [
    "astr = \"hello\"\n",
    "bstr = \"world\"\n",
    "atupl = ('a','b','c')\n",
    "btupl = ('a','b','c')\n",
    "alist = ['a','b','c']\n",
    "blist = ['a','b','c']"
   ]
  },
  {
   "cell_type": "code",
   "execution_count": 10,
   "metadata": {},
   "outputs": [
    {
     "name": "stdout",
     "output_type": "stream",
     "text": [
      "-7004276268282863679\n",
      "-7004276268282863679\n"
     ]
    }
   ],
   "source": [
    "print(hash(astr))\n",
    "print(astr.__hash__())"
   ]
  },
  {
   "cell_type": "code",
   "execution_count": 11,
   "metadata": {},
   "outputs": [
    {
     "name": "stdout",
     "output_type": "stream",
     "text": [
      "-6930995490026418754\n",
      "-6930995490026418754\n"
     ]
    }
   ],
   "source": [
    "print(hash(bstr))\n",
    "print(bstr.__hash__())"
   ]
  },
  {
   "cell_type": "code",
   "execution_count": 14,
   "metadata": {},
   "outputs": [
    {
     "name": "stdout",
     "output_type": "stream",
     "text": [
      "849143647089894330\n",
      "849143647089894330\n"
     ]
    }
   ],
   "source": [
    "print(hash(atupl))\n",
    "print(hash(btupl))"
   ]
  },
  {
   "cell_type": "code",
   "execution_count": 15,
   "metadata": {},
   "outputs": [
    {
     "ename": "TypeError",
     "evalue": "unhashable type: 'list'",
     "output_type": "error",
     "traceback": [
      "\u001b[1;31m------------------------------------------------------------\u001b[0m",
      "\u001b[1;31mTypeError\u001b[0m                  Traceback (most recent call last)",
      "\u001b[1;32m<ipython-input-15-bd38da131205>\u001b[0m in \u001b[0;36m<module>\u001b[1;34m\u001b[0m\n\u001b[1;32m----> 1\u001b[1;33m \u001b[0mhash\u001b[0m\u001b[1;33m(\u001b[0m\u001b[0malist\u001b[0m\u001b[1;33m)\u001b[0m\u001b[1;33m\u001b[0m\u001b[1;33m\u001b[0m\u001b[0m\n\u001b[0m",
      "\u001b[1;31mTypeError\u001b[0m: unhashable type: 'list'"
     ]
    }
   ],
   "source": [
    "hash(alist)"
   ]
  },
  {
   "cell_type": "code",
   "execution_count": 20,
   "metadata": {},
   "outputs": [
    {
     "name": "stdout",
     "output_type": "stream",
     "text": [
      "2608608247288\n",
      "2608608247456\n",
      "2608608794592\n",
      "2608608447728\n",
      "2608607513288\n",
      "2608608440712\n"
     ]
    }
   ],
   "source": [
    "print(id(astr))\n",
    "print(id(bstr))\n",
    "print(id(atupl))\n",
    "print(id(btupl))\n",
    "print(id(alist))\n",
    "print(id(blist))"
   ]
  },
  {
   "cell_type": "markdown",
   "metadata": {},
   "source": [
    "### `hash()` for custom objects"
   ]
  },
  {
   "cell_type": "code",
   "execution_count": 19,
   "metadata": {
    "scrolled": true
   },
   "outputs": [
    {
     "name": "stdout",
     "output_type": "stream",
     "text": [
      "The hash is:\n",
      "-548111535084032191\n",
      "The hash is:\n",
      "-548060996899950541\n"
     ]
    }
   ],
   "source": [
    "class Person:\n",
    "    def __init__(self, age, name):\n",
    "        self.age = age\n",
    "        self.name = name\n",
    "\n",
    "    def __eq__(self, other):\n",
    "        return self.age == other.age and self.name == other.name\n",
    "\n",
    "    def __hash__(self):\n",
    "        print('The hash is:')\n",
    "        return hash((self.age, self.name))\n",
    "\n",
    "person1 = Person(23, 'Adam')\n",
    "person2 = Person(65, 'Adam')\n",
    "\n",
    "print(hash(person1))\n",
    "print(hash(person2))"
   ]
  }
 ],
 "metadata": {
  "kernelspec": {
   "display_name": "Python 3",
   "language": "python",
   "name": "python3"
  },
  "language_info": {
   "codemirror_mode": {
    "name": "ipython",
    "version": 3
   },
   "file_extension": ".py",
   "mimetype": "text/x-python",
   "name": "python",
   "nbconvert_exporter": "python",
   "pygments_lexer": "ipython3",
   "version": "3.7.2"
  }
 },
 "nbformat": 4,
 "nbformat_minor": 2
}
