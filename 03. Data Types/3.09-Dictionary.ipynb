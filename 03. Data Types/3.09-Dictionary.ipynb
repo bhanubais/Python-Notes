{
 "cells": [
  {
   "cell_type": "markdown",
   "metadata": {},
   "source": [
    "# Dictionary\n",
    "------------\n",
    "\n",
    " - Dictionaries are unordered key-value-pair sets\n",
    " - Dictionaries are implemented as hash tables, and that is \n",
    "   the reason why they are known as \"Hashes\" in the \n",
    "   programming language \"Perl\". \n",
    " - Keys must be different, but value may be same.\n",
    "\n",
    "\n",
    " - **Keys**:\n",
    "   + must be unique\n",
    "   + immutable type (int, float, string, tuple, bool)\n",
    "     * actually need an object that is hashable, but think \n",
    "       of as immutable as all immutable types are hashable\n",
    "   + careful with float type as a key\n",
    "\n",
    "\n",
    " - **Values**:\n",
    "   + any type (immutable and mutable)\n",
    "   + can be duplicates\n",
    "   + dictionary values can be lists or other dictionaries!"
   ]
  },
  {
   "cell_type": "markdown",
   "metadata": {},
   "source": [
    "## Creating Dictionary\n",
    "----------"
   ]
  },
  {
   "cell_type": "code",
   "execution_count": 1,
   "metadata": {},
   "outputs": [
    {
     "name": "stdout",
     "output_type": "stream",
     "text": [
      "{}\n",
      "{}\n",
      "{1: 'apple', 2: 'ball'}\n",
      "{'name': 'John', 1: [2, 4, 3]}\n"
     ]
    }
   ],
   "source": [
    "print({})                         # empty dictionary\n",
    "print(dict())                     # empty dictionary\n",
    "print({1: 'apple', 2: 'ball'})    # dict. with integer keys\n",
    "print({'name':'John', 1:[2,4,3]}) # dict. with mixed keys"
   ]
  },
  {
   "cell_type": "code",
   "execution_count": 2,
   "metadata": {},
   "outputs": [
    {
     "name": "stdout",
     "output_type": "stream",
     "text": [
      "{1: 'apple', 2: 'ball'}\n",
      "{1: 'apple', 2: 'ball'}\n",
      "{1: 'apple', 2: 'ball'}\n",
      "{1: 'apple', 2: 'ball'}\n",
      "{1: 'apple', 2: 'ball'}\n",
      "{1: 'apple', 2: 'ball'}\n"
     ]
    }
   ],
   "source": [
    "print(dict( [ (1,'apple'), (2,'ball') ] ))\n",
    "print(dict( [ [1,'apple'], [2,'ball'] ] ))\n",
    "print(dict( [ (1,'apple'), (2,'ball') ] ))\n",
    "print(dict( [ (1,'apple'), [2,'ball'] ] ))\n",
    "print(dict( ( (1,'apple'), [2,'ball'] ) ))\n",
    "print(dict( ( (1,'apple'), (2,'ball') ) ))"
   ]
  },
  {
   "cell_type": "markdown",
   "metadata": {},
   "source": [
    "### Creating with default value\n",
    "\n",
    "**`adict.fromkeys(iterable, value=None, /)`**:\n",
    " - Create a new dictionary with keys from iterable and \n",
    " - values set to value."
   ]
  },
  {
   "cell_type": "code",
   "execution_count": 3,
   "metadata": {
    "scrolled": true
   },
   "outputs": [
    {
     "name": "stdout",
     "output_type": "stream",
     "text": [
      "{'Math': None, 'English': None, 'Science': None}\n",
      "{'Math': 0, 'English': 0, 'Science': 0}\n",
      "{'Math': 50, 'English': 50, 'Science': 50}\n"
     ]
    }
   ],
   "source": [
    "alist = ['Math', 'English', 'Science']\n",
    "\n",
    "print({}.fromkeys(alist))\n",
    "print({}.fromkeys(alist, 0))\n",
    "print({}.fromkeys(alist, 50))"
   ]
  },
  {
   "cell_type": "markdown",
   "metadata": {},
   "source": [
    "## Accessing a Dictionary\n",
    "----------"
   ]
  },
  {
   "cell_type": "code",
   "execution_count": 4,
   "metadata": {},
   "outputs": [
    {
     "name": "stdout",
     "output_type": "stream",
     "text": [
      "A+\n",
      "\n",
      "A+\n",
      "None\n",
      "C\n",
      "\n"
     ]
    }
   ],
   "source": [
    "grades = {'Ana':'B','John':'A+','Denise':'A','Katy':'A'}\n",
    "\n",
    "# Using Leteral\n",
    "print(grades['John'])\n",
    "# print(grades['Saheli'])        # KeyError\n",
    "print()\n",
    "\n",
    "# Using get method\n",
    "print(grades.get('John'))\n",
    "print(grades.get('Saheli'))      # None\n",
    "print(grades.get('Saheli', 'C')) # 'c' Default Value\n",
    "print()"
   ]
  },
  {
   "cell_type": "markdown",
   "metadata": {},
   "source": [
    "### Getting all Items"
   ]
  },
  {
   "cell_type": "code",
   "execution_count": 5,
   "metadata": {
    "scrolled": true
   },
   "outputs": [
    {
     "name": "stdout",
     "output_type": "stream",
     "text": [
      "dict_items([('Ana', 'B'), ('John', 'A+'), ('Denise', 'A'), ('Katy', 'A')])\n",
      "dict_values(['B', 'A+', 'A', 'A'])\n",
      "dict_keys(['Ana', 'John', 'Denise', 'Katy'])\n"
     ]
    }
   ],
   "source": [
    "grades = {'Ana':'B','John':'A+','Denise':'A','Katy':'A'}\n",
    "\n",
    "# Get all items\n",
    "print(grades.items())\n",
    "\n",
    "# Get all values\n",
    "print(grades.values())\n",
    "\n",
    "# Get all keys\n",
    "print(grades.keys())"
   ]
  },
  {
   "cell_type": "markdown",
   "metadata": {},
   "source": [
    "## Check a key in a dictionary\n",
    "------------"
   ]
  },
  {
   "cell_type": "code",
   "execution_count": 6,
   "metadata": {},
   "outputs": [
    {
     "name": "stdout",
     "output_type": "stream",
     "text": [
      "True\n",
      "False\n",
      "False\n"
     ]
    }
   ],
   "source": [
    "grades = {'Ana':'B', 'John':'A+', 'Denise':'A', 'Katy':'A'}\n",
    "\n",
    "print('Ana' in grades)\n",
    "print('None_Exist' in grades)\n",
    "print('A' in grades)"
   ]
  },
  {
   "cell_type": "markdown",
   "metadata": {},
   "source": [
    "### Dictionary Examples"
   ]
  },
  {
   "cell_type": "code",
   "execution_count": 7,
   "metadata": {
    "scrolled": true
   },
   "outputs": [
    {
     "name": "stdout",
     "output_type": "stream",
     "text": [
      "red = rouge\n"
     ]
    }
   ],
   "source": [
    "# English-German Dictionary\n",
    "en_de = {\"red\" : \"rot\", \"green\" : \"grün\", \"blue\" : \"blau\", \\\n",
    "        \"yellow\":\"gelb\"}\n",
    "\n",
    "# German-French Dictionary\n",
    "de_fr = {\"rot\" : \"rouge\", \"grün\" : \"vert\", \"blau\" : \"bleu\",\\\n",
    "        \"gelb\":\"jaune\"}\n",
    "\n",
    "# Translate English to Frence Directly\n",
    "print(f'red = {de_fr[en_de[\"red\"]]}')   # red = rouge"
   ]
  },
  {
   "cell_type": "markdown",
   "metadata": {},
   "source": [
    "## Adding into Dictionary\n",
    "-------------"
   ]
  },
  {
   "cell_type": "code",
   "execution_count": 8,
   "metadata": {
    "scrolled": true
   },
   "outputs": [
    {
     "name": "stdout",
     "output_type": "stream",
     "text": [
      "{'name': 'John', 'age': 26} \n",
      "\n",
      "{'name': 'John', 'age': 26, 'city': 'Paris', 'country': 'France'}\n"
     ]
    }
   ],
   "source": [
    "adict = {}\n",
    "\n",
    "# Adding new items \n",
    "adict['name'] = 'John'\n",
    "adict['age']  = 26\n",
    "print(adict, '\\n')\n",
    "\n",
    "# Adding Multiple Items\n",
    "adict.update({'city': 'Paris', 'country': 'France'})\n",
    "print(adict)"
   ]
  },
  {
   "cell_type": "markdown",
   "metadata": {},
   "source": [
    "**NOT working Examples**:"
   ]
  },
  {
   "cell_type": "code",
   "execution_count": 9,
   "metadata": {},
   "outputs": [
    {
     "ename": "TypeError",
     "evalue": "unsupported operand type(s) for +=: 'dict' and 'dict'",
     "output_type": "error",
     "traceback": [
      "\u001b[1;31m---------------------------------------------------------------------------\u001b[0m",
      "\u001b[1;31mTypeError\u001b[0m                                 Traceback (most recent call last)",
      "\u001b[1;32m<ipython-input-9-a481b9cc8618>\u001b[0m in \u001b[0;36m<module>\u001b[1;34m\u001b[0m\n\u001b[0;32m      1\u001b[0m \u001b[0madict\u001b[0m \u001b[1;33m=\u001b[0m \u001b[1;33m{\u001b[0m\u001b[1;33m}\u001b[0m\u001b[1;33m\u001b[0m\u001b[1;33m\u001b[0m\u001b[0m\n\u001b[1;32m----> 2\u001b[1;33m \u001b[0madict\u001b[0m \u001b[1;33m+=\u001b[0m \u001b[1;33m{\u001b[0m\u001b[1;34m'city'\u001b[0m\u001b[1;33m:\u001b[0m \u001b[1;34m'Jaipur'\u001b[0m\u001b[1;33m}\u001b[0m\u001b[1;33m\u001b[0m\u001b[1;33m\u001b[0m\u001b[0m\n\u001b[0m",
      "\u001b[1;31mTypeError\u001b[0m: unsupported operand type(s) for +=: 'dict' and 'dict'"
     ]
    }
   ],
   "source": [
    "adict = {}\n",
    "adict += {'city': 'Jaipur'}"
   ]
  },
  {
   "cell_type": "code",
   "execution_count": 10,
   "metadata": {},
   "outputs": [
    {
     "ename": "AttributeError",
     "evalue": "'dict' object has no attribute 'append'",
     "output_type": "error",
     "traceback": [
      "\u001b[1;31m---------------------------------------------------------------------------\u001b[0m",
      "\u001b[1;31mAttributeError\u001b[0m                            Traceback (most recent call last)",
      "\u001b[1;32m<ipython-input-10-98a98e6ecdbf>\u001b[0m in \u001b[0;36m<module>\u001b[1;34m\u001b[0m\n\u001b[0;32m      1\u001b[0m \u001b[0madict\u001b[0m \u001b[1;33m=\u001b[0m \u001b[1;33m{\u001b[0m\u001b[1;33m}\u001b[0m\u001b[1;33m\u001b[0m\u001b[1;33m\u001b[0m\u001b[0m\n\u001b[1;32m----> 2\u001b[1;33m \u001b[0madict\u001b[0m\u001b[1;33m.\u001b[0m\u001b[0mappend\u001b[0m\u001b[1;33m(\u001b[0m\u001b[1;33m{\u001b[0m\u001b[1;34m'city'\u001b[0m\u001b[1;33m:\u001b[0m \u001b[1;34m'Jaipur'\u001b[0m\u001b[1;33m}\u001b[0m\u001b[1;33m)\u001b[0m\u001b[1;33m\u001b[0m\u001b[1;33m\u001b[0m\u001b[0m\n\u001b[0m",
      "\u001b[1;31mAttributeError\u001b[0m: 'dict' object has no attribute 'append'"
     ]
    }
   ],
   "source": [
    "adict = {}\n",
    "adict.append({'city': 'Jaipur'})"
   ]
  },
  {
   "cell_type": "markdown",
   "metadata": {},
   "source": [
    "## Updating a Dictionary\n",
    "---------------\n",
    "\n",
    "### Updating Existing Value"
   ]
  },
  {
   "cell_type": "code",
   "execution_count": 11,
   "metadata": {},
   "outputs": [
    {
     "name": "stdout",
     "output_type": "stream",
     "text": [
      "{'age': 45} \n",
      "\n"
     ]
    }
   ],
   "source": [
    "adict = {}\n",
    "adict['age'] = 45\n",
    "print(adict, '\\n')"
   ]
  },
  {
   "cell_type": "markdown",
   "metadata": {},
   "source": [
    "### Updating Non-Existing Value"
   ]
  },
  {
   "cell_type": "code",
   "execution_count": 12,
   "metadata": {},
   "outputs": [
    {
     "name": "stdout",
     "output_type": "stream",
     "text": [
      "{'name': 'Rahul', 'city': 'paris'} \n",
      "\n",
      "{'name': 'Rahul', 'city': 'paris'} \n",
      "\n"
     ]
    }
   ],
   "source": [
    "adict = {'name': 'Rahul'}\n",
    "adict.setdefault('city', 'paris')\n",
    "print(adict, '\\n')\n",
    "\n",
    "# It will not touch Existing Value\n",
    "adict.setdefault('name', 'Dinesh')\n",
    "print(adict, '\\n')"
   ]
  },
  {
   "cell_type": "markdown",
   "metadata": {},
   "source": [
    "## Getting Value\n",
    "----------"
   ]
  },
  {
   "cell_type": "markdown",
   "metadata": {},
   "source": [
    "### Using Literal"
   ]
  },
  {
   "cell_type": "code",
   "execution_count": 13,
   "metadata": {},
   "outputs": [
    {
     "name": "stdout",
     "output_type": "stream",
     "text": [
      "John\n"
     ]
    }
   ],
   "source": [
    "adict = {'age': 26, 'name': 'John', 'country': 'France'}\n",
    "print(adict['name'])"
   ]
  },
  {
   "cell_type": "markdown",
   "metadata": {},
   "source": [
    "### Using `adict.setdefault(self, key, default=None, /)`\n",
    "\n",
    " - Insert key with a value of default if key is not in the dictionary.\n",
    " - Return the value for key if key is in the dictionary, else default."
   ]
  },
  {
   "cell_type": "code",
   "execution_count": 14,
   "metadata": {
    "scrolled": true
   },
   "outputs": [
    {
     "name": "stdout",
     "output_type": "stream",
     "text": [
      "John \n",
      "\n",
      "Jaipur\n"
     ]
    }
   ],
   "source": [
    "adict = {'age': 26, 'name': 'John', 'country': 'France'}\n",
    "print(adict.setdefault('name'), '\\n')\n",
    "print(adict.setdefault('city', 'Jaipur'))"
   ]
  },
  {
   "cell_type": "markdown",
   "metadata": {},
   "source": [
    "## Deleting Element\n",
    "------------"
   ]
  },
  {
   "cell_type": "markdown",
   "metadata": {},
   "source": [
    "### `D.pop(k[,d]) -> v`:\n",
    " \n",
    " - **Remove specified key element** and return the corresponding value. \n",
    " - If key is not found, d is returned if given, otherwise KeyError is raised"
   ]
  },
  {
   "cell_type": "code",
   "execution_count": 15,
   "metadata": {
    "scrolled": true
   },
   "outputs": [
    {
     "name": "stdout",
     "output_type": "stream",
     "text": [
      "26\n",
      "{'name': 'John', 'country': 'France'}\n",
      "2nd\n"
     ]
    },
    {
     "ename": "NameError",
     "evalue": "name 'pritn' is not defined",
     "output_type": "error",
     "traceback": [
      "\u001b[1;31m---------------------------------------------------------------------------\u001b[0m",
      "\u001b[1;31mNameError\u001b[0m                                 Traceback (most recent call last)",
      "\u001b[1;32m<ipython-input-15-074fbe53734d>\u001b[0m in \u001b[0;36m<module>\u001b[1;34m\u001b[0m\n\u001b[0;32m      4\u001b[0m \u001b[1;33m\u001b[0m\u001b[0m\n\u001b[0;32m      5\u001b[0m \u001b[0mprint\u001b[0m\u001b[1;33m(\u001b[0m\u001b[0madict\u001b[0m\u001b[1;33m.\u001b[0m\u001b[0mpop\u001b[0m\u001b[1;33m(\u001b[0m\u001b[1;34m'class'\u001b[0m\u001b[1;33m,\u001b[0m \u001b[1;34m'2nd'\u001b[0m\u001b[1;33m)\u001b[0m\u001b[1;33m)\u001b[0m \u001b[1;31m# return provided value if not found\u001b[0m\u001b[1;33m\u001b[0m\u001b[1;33m\u001b[0m\u001b[0m\n\u001b[1;32m----> 6\u001b[1;33m \u001b[0mpritn\u001b[0m\u001b[1;33m(\u001b[0m\u001b[0madict\u001b[0m\u001b[1;33m.\u001b[0m\u001b[0mpop\u001b[0m\u001b[1;33m(\u001b[0m\u001b[1;34m'address'\u001b[0m\u001b[1;33m)\u001b[0m\u001b[1;33m)\u001b[0m      \u001b[1;31m# KeyError\u001b[0m\u001b[1;33m\u001b[0m\u001b[1;33m\u001b[0m\u001b[0m\n\u001b[0m",
      "\u001b[1;31mNameError\u001b[0m: name 'pritn' is not defined"
     ]
    }
   ],
   "source": [
    "adict = {'age': 26, 'name': 'John', 'country': 'France'}\n",
    "print(adict.pop('age'))\n",
    "print(adict)\n",
    "\n",
    "print(adict.pop('class', '2nd')) # return provided value if not found\n",
    "pritn(adict.pop('address'))      # KeyError"
   ]
  },
  {
   "cell_type": "markdown",
   "metadata": {},
   "source": [
    "### `D.popitem() -> (k, v)`:\n",
    "\n",
    " - Remove **Any Arbitrary Element**\n",
    " - remove and return some (key, value) pair as a 2-tuple.\n",
    " - Raise KeyError if D is empty."
   ]
  },
  {
   "cell_type": "code",
   "execution_count": 16,
   "metadata": {},
   "outputs": [
    {
     "name": "stdout",
     "output_type": "stream",
     "text": [
      "('country', 'France')\n",
      "{'age': 26, 'name': 'John'}\n"
     ]
    }
   ],
   "source": [
    "adict = {'age': 26, 'name': 'John', 'country': 'France'}\n",
    "print(adict.popitem())\n",
    "print(adict)"
   ]
  },
  {
   "cell_type": "markdown",
   "metadata": {},
   "source": [
    "### `del D(key)`\n",
    "\n",
    " - **Delete Specified Key element**\n",
    " - returns NOTHING."
   ]
  },
  {
   "cell_type": "code",
   "execution_count": 17,
   "metadata": {
    "scrolled": true
   },
   "outputs": [
    {
     "name": "stdout",
     "output_type": "stream",
     "text": [
      "{'name': 'John', 'country': 'France'}\n"
     ]
    }
   ],
   "source": [
    "adict = {'age': 26, 'name': 'John', 'country': 'France'}\n",
    "del adict['age']\n",
    "\n",
    "print(adict)"
   ]
  },
  {
   "cell_type": "markdown",
   "metadata": {},
   "source": [
    "## Copy a Dictionary\n",
    "-----------"
   ]
  },
  {
   "cell_type": "markdown",
   "metadata": {},
   "source": [
    "### Common Sense Method (but Wrong)\n",
    "\n",
    " - Both pointing to the same object. \n",
    " - It is not really copy of a dictionary."
   ]
  },
  {
   "cell_type": "code",
   "execution_count": 18,
   "metadata": {
    "scrolled": true
   },
   "outputs": [
    {
     "name": "stdout",
     "output_type": "stream",
     "text": [
      "{'age': 26, 'name': 'John'}\n",
      "{'age': 26, 'name': 'John'}\n"
     ]
    }
   ],
   "source": [
    "adict = {'age': 26, 'name': 'John', 'country': 'France'}\n",
    "bdict = adict\n",
    "\n",
    "bdict.popitem()\n",
    "print(bdict)\n",
    "print(adict)"
   ]
  },
  {
   "cell_type": "markdown",
   "metadata": {},
   "source": [
    "### Right Method"
   ]
  },
  {
   "cell_type": "code",
   "execution_count": 19,
   "metadata": {
    "scrolled": true
   },
   "outputs": [
    {
     "name": "stdout",
     "output_type": "stream",
     "text": [
      "{'age': 26, 'name': 'John'}\n",
      "{'age': 26, 'name': 'John', 'country': 'France'}\n"
     ]
    }
   ],
   "source": [
    "adict = {'age': 26, 'name': 'John', 'country': 'France'}\n",
    "bdict = adict.copy()\n",
    "\n",
    "bdict.popitem()\n",
    "print(bdict)\n",
    "print(adict)"
   ]
  },
  {
   "cell_type": "markdown",
   "metadata": {},
   "source": [
    "# Sorting a Dictionary"
   ]
  },
  {
   "cell_type": "code",
   "execution_count": 20,
   "metadata": {},
   "outputs": [],
   "source": [
    "fruits = {'banana': 3, 'apple': 4, 'pear': 1, 'orange': 2}"
   ]
  },
  {
   "cell_type": "markdown",
   "metadata": {},
   "source": [
    "## Sorted by key"
   ]
  },
  {
   "cell_type": "code",
   "execution_count": 21,
   "metadata": {},
   "outputs": [
    {
     "name": "stdout",
     "output_type": "stream",
     "text": [
      "[('apple', 4), ('banana', 3), ('orange', 2), ('pear', 1)]\n",
      "[('pear', 1), ('orange', 2), ('banana', 3), ('apple', 4)]\n"
     ]
    }
   ],
   "source": [
    "# Sorted by key\n",
    "print(sorted(fruits.items(), key = lambda t: t[0]))\n",
    "\n",
    "# Reverse Sorting by key\n",
    "print(sorted(fruits.items(), key = lambda t: t[0], reverse = True))"
   ]
  },
  {
   "cell_type": "markdown",
   "metadata": {},
   "source": [
    "## Sorted by Value"
   ]
  },
  {
   "cell_type": "code",
   "execution_count": 22,
   "metadata": {},
   "outputs": [
    {
     "name": "stdout",
     "output_type": "stream",
     "text": [
      "[('pear', 1), ('orange', 2), ('banana', 3), ('apple', 4)]\n",
      "[('apple', 4), ('banana', 3), ('orange', 2), ('pear', 1)]\n",
      "[('apple', 4), ('banana', 3), ('orange', 2), ('pear', 1)]\n"
     ]
    }
   ],
   "source": [
    "# Sorted by Value\n",
    "print(sorted(fruits.items(), key = lambda t: t[1]))\n",
    "\n",
    "# Reverse Sorted by Value\n",
    "print(sorted(fruits.items(), key = lambda t: t[1], reverse = True))\n",
    "print(sorted(fruits.items(), key = lambda t: -t[1]))"
   ]
  },
  {
   "cell_type": "markdown",
   "metadata": {},
   "source": [
    "## Sorted by Key Length"
   ]
  },
  {
   "cell_type": "code",
   "execution_count": 23,
   "metadata": {},
   "outputs": [
    {
     "name": "stdout",
     "output_type": "stream",
     "text": [
      "[('pear', 1), ('apple', 4), ('banana', 3), ('orange', 2)]\n",
      "[('banana', 3), ('orange', 2), ('apple', 4), ('pear', 1)]\n",
      "[('banana', 3), ('orange', 2), ('apple', 4), ('pear', 1)]\n"
     ]
    }
   ],
   "source": [
    "# Sorted by Key Length\n",
    "print(sorted(fruits.items(), key = lambda t: len(t[0])))\n",
    "\n",
    "# Reverse Sorted by Key Length\n",
    "print(sorted(fruits.items(), key = lambda t: len(t[0]), reverse = True))\n",
    "print(sorted(fruits.items(), key = lambda t: -len(t[0])))"
   ]
  },
  {
   "cell_type": "markdown",
   "metadata": {},
   "source": [
    "## Multi Sorting"
   ]
  },
  {
   "cell_type": "code",
   "execution_count": 24,
   "metadata": {},
   "outputs": [],
   "source": [
    "adir = {'b': 5, 'd': 4, 'a': 4, 'e': 2, 'c': 1}"
   ]
  },
  {
   "cell_type": "code",
   "execution_count": 25,
   "metadata": {
    "scrolled": true
   },
   "outputs": [
    {
     "name": "stdout",
     "output_type": "stream",
     "text": [
      "[('a', 4), ('b', 5), ('c', 1), ('d', 4), ('e', 2)]\n"
     ]
    }
   ],
   "source": [
    "# Sort first by value then by key\n",
    "print(sorted(adir.items(), key = lambda p: (p[0], p[1])))"
   ]
  },
  {
   "cell_type": "markdown",
   "metadata": {},
   "source": [
    "# Unpacking a dictionary with `**`"
   ]
  },
  {
   "cell_type": "code",
   "execution_count": 26,
   "metadata": {
    "scrolled": true
   },
   "outputs": [
    {
     "name": "stdout",
     "output_type": "stream",
     "text": [
      "john passed with 89% marks in class 8th\n"
     ]
    }
   ],
   "source": [
    "def student_status(name, std, marks):\n",
    "    print (name, 'passed with', marks, 'marks in class', std)\n",
    "\n",
    "student = {\n",
    "    'name'  : 'john',\n",
    "    'std'   : '8th',\n",
    "    'marks' : '89%'\n",
    "}\n",
    "\n",
    "student_status(** student)\n",
    "# john passed with 89% marks in class 8th"
   ]
  },
  {
   "cell_type": "markdown",
   "metadata": {},
   "source": [
    "# Top 10 Most Common Words in a Text File"
   ]
  },
  {
   "cell_type": "code",
   "execution_count": 27,
   "metadata": {},
   "outputs": [
    {
     "name": "stdout",
     "output_type": "stream",
     "text": [
      "[('the', 146), ('of', 74), ('to', 40), ('and', 37), ('is', 27), ('a', 26), ('in', 25), ('The', 22), ('as', 20), ('Mahābhārata', 19)]\n"
     ]
    }
   ],
   "source": [
    "fhand = open('mahabharat.txt', 'r', encoding = 'utf-8')\n",
    "\n",
    "# Create a Words Dictionary\n",
    "count = {}\n",
    "for line in fhand:\n",
    "    line = line.strip()\n",
    "    words = line.split()\n",
    "    for word in words:\n",
    "        count[word] = count.get(word, 0) + 1\n",
    "\n",
    "# Sorting by Keys\n",
    "print(sorted(count.items(), key = lambda p: -p[1])[:10])"
   ]
  },
  {
   "cell_type": "markdown",
   "metadata": {},
   "source": [
    "# Popular Words\n",
    "\n",
    "In this mission your task is to determine the popularity of certain words in the text.\n",
    "\n",
    "At the input of your function are given 2 arguments: the text and the array of words the popularity of which you need to determine.\n",
    "\n",
    "When solving this task pay attention to the following points:\n",
    "\n",
    "The words should be sought in all registers. This means that if you need to find a word \"one\" then words like \"one\", \"One\", \"oNe\", \"ONE\" etc. will do.\n",
    "The search words are always indicated in the lowercase.\n",
    "If the word wasn’t found even once, it has to be returned in the dictionary with 0 (zero) value.\n",
    "Input: The text and the search words array.\n",
    "\n",
    "Output: The dictionary where the search words are the keys and values are the number of times when those words are occurring in a given text.\n",
    "\n",
    "### Example:\n",
    "`\n",
    "popular_words('''\n",
    "When I was One\n",
    "I had just begun\n",
    "When I was Two\n",
    "I was nearly new\n",
    "''', ['i', 'was', 'three', 'near']) == {\n",
    "    'i': 4,\n",
    "    'was': 3,\n",
    "    'three': 0,\n",
    "    'near': 0\n",
    "}\n",
    "`"
   ]
  },
  {
   "cell_type": "code",
   "execution_count": 29,
   "metadata": {},
   "outputs": [
    {
     "name": "stdout",
     "output_type": "stream",
     "text": [
      "Example:\n",
      "{'i': 4, 'was': 3, 'three': 0, 'near': 0}\n",
      "Coding complete? Click 'Check' to earn cool rewards!\n"
     ]
    }
   ],
   "source": [
    "def popular_words(text: str, words: list) -> dict:\n",
    "    text_count = text.lower().split().count\n",
    "    return {word: text_count(word) for word in words}\n",
    "\n",
    "\n",
    "if __name__ == '__main__':\n",
    "    print(\"Example:\")\n",
    "    print(popular_words('''\n",
    "When I was One\n",
    "I had just begun\n",
    "When I was Two\n",
    "I was nearly new\n",
    "''', ['i', 'was', 'three', 'near']))\n",
    "\n",
    "    # These \"asserts\" are used for self-checking and not for an auto-testing\n",
    "    assert popular_words('''\n",
    "When I was One\n",
    "I had just begun\n",
    "When I was Two\n",
    "I was nearly new\n",
    "''', ['i', 'was', 'three', 'near']) == {\n",
    "        'i': 4,\n",
    "        'was': 3,\n",
    "        'three': 0,\n",
    "        'near': 0\n",
    "    }\n",
    "    print(\"Coding complete? Click 'Check' to earn cool rewards!\")\n"
   ]
  }
 ],
 "metadata": {
  "kernelspec": {
   "display_name": "Python 3",
   "language": "python",
   "name": "python3"
  },
  "language_info": {
   "codemirror_mode": {
    "name": "ipython",
    "version": 3
   },
   "file_extension": ".py",
   "mimetype": "text/x-python",
   "name": "python",
   "nbconvert_exporter": "python",
   "pygments_lexer": "ipython3",
   "version": "3.8.2"
  }
 },
 "nbformat": 4,
 "nbformat_minor": 4
}
