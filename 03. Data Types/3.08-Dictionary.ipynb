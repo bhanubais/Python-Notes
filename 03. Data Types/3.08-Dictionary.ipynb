{
 "cells": [
  {
   "cell_type": "markdown",
   "metadata": {},
   "source": [
    "# Dictionary\n",
    "------------\n",
    "\n",
    " - Dictionaries are unordered key-value-pair sets\n",
    " - Dictionaries are implemented as hash tables, and that is \n",
    "   the reason why they are known as \"Hashes\" in the \n",
    "   programming language \"Perl\". \n",
    " - Keys must be different, but value may be same.\n",
    "\n",
    "\n",
    " - **Keys**:\n",
    "   + must be unique\n",
    "   + immutable type (int, float, string, tuple, bool)\n",
    "     * actually need an object that is hashable, but think \n",
    "       of as immutable as all immutable types are hashable\n",
    "   + careful with float type as a key\n",
    "\n",
    "\n",
    " - **Values**:\n",
    "   + any type (immutable and mutable)\n",
    "   + can be duplicates\n",
    "   + dictionary values can be lists or other dictionaries!"
   ]
  },
  {
   "cell_type": "markdown",
   "metadata": {},
   "source": [
    "## Creating Dictionary\n",
    "----------"
   ]
  },
  {
   "cell_type": "code",
   "execution_count": 2,
   "metadata": {},
   "outputs": [
    {
     "name": "stdout",
     "output_type": "stream",
     "text": [
      "{}\n",
      "{}\n",
      "{1: 'apple', 2: 'ball'}\n",
      "{'name': 'John', 1: [2, 4, 3]}\n"
     ]
    }
   ],
   "source": [
    "print({})                         # empty dictionary\n",
    "print(dict())                     # empty dictionary\n",
    "print({1: 'apple', 2: 'ball'})    # dict. with integer keys\n",
    "print({'name':'John',1:[2,4,3]})  # dict. with mixed keys"
   ]
  },
  {
   "cell_type": "code",
   "execution_count": 3,
   "metadata": {},
   "outputs": [
    {
     "name": "stdout",
     "output_type": "stream",
     "text": [
      "{1: 'apple', 2: 'ball'}\n",
      "{1: 'apple', 2: 'ball'}\n",
      "{1: 'apple', 2: 'ball'}\n",
      "{1: 'apple', 2: 'ball'}\n",
      "{1: 'apple', 2: 'ball'}\n",
      "{1: 'apple', 2: 'ball'}\n"
     ]
    }
   ],
   "source": [
    "print(dict( [ (1,'apple'), (2,'ball') ] ))\n",
    "print(dict( [ [1,'apple'], [2,'ball'] ] ))\n",
    "print(dict( [ (1,'apple'), (2,'ball') ] ))\n",
    "print(dict( [ (1,'apple'), [2,'ball'] ] ))\n",
    "print(dict( ( (1,'apple'), [2,'ball'] ) ))\n",
    "print(dict( ( (1,'apple'), (2,'ball') ) ))"
   ]
  },
  {
   "cell_type": "markdown",
   "metadata": {},
   "source": [
    "### Creating with default value\n",
    "\n",
    "**`adict.fromkeys(iterable, value=None, /)`**:\n",
    " - Create a new dictionary with keys from iterable and \n",
    " - values set to value."
   ]
  },
  {
   "cell_type": "code",
   "execution_count": 9,
   "metadata": {
    "scrolled": true
   },
   "outputs": [
    {
     "name": "stdout",
     "output_type": "stream",
     "text": [
      "{'Math': None, 'English': None, 'Science': None}\n",
      "{'Math': 0, 'English': 0, 'Science': 0}\n",
      "{'Math': 50, 'English': 50, 'Science': 50}\n"
     ]
    }
   ],
   "source": [
    "alist = ['Math', 'English', 'Science']\n",
    "\n",
    "print({}.fromkeys(alist))\n",
    "print({}.fromkeys(alist, 0))\n",
    "print({}.fromkeys(alist, 50))"
   ]
  },
  {
   "cell_type": "markdown",
   "metadata": {},
   "source": [
    "## Accessing a Dictionary\n",
    "----------"
   ]
  },
  {
   "cell_type": "code",
   "execution_count": 2,
   "metadata": {
    "scrolled": false
   },
   "outputs": [
    {
     "name": "stdout",
     "output_type": "stream",
     "text": [
      "A+\n",
      "\n",
      "A+\n",
      "None\n",
      "\n"
     ]
    }
   ],
   "source": [
    "grades = {'Ana':'B','John':'A+','Denise':'A','Katy':'A'}\n",
    "\n",
    "# Using Leteral\n",
    "print(grades['John'])\n",
    "# print(grades['Saheli'])        # KeyError\n",
    "print()\n",
    "\n",
    "# Using get method\n",
    "print(grades.get('John'))\n",
    "print(grades.get('Saheli'))      # None\n",
    "print(grades.get('Saheli', 'C')) # 'c' Default Value\n",
    "print()"
   ]
  },
  {
   "cell_type": "markdown",
   "metadata": {},
   "source": [
    "### Getting all Items"
   ]
  },
  {
   "cell_type": "code",
   "execution_count": 5,
   "metadata": {
    "scrolled": true
   },
   "outputs": [
    {
     "name": "stdout",
     "output_type": "stream",
     "text": [
      "dict_items([('Ana', 'B'), ('John', 'A+'), ('Denise', 'A'), ('Katy', 'A')])\n",
      "dict_values(['B', 'A+', 'A', 'A'])\n",
      "dict_keys(['Ana', 'John', 'Denise', 'Katy'])\n"
     ]
    }
   ],
   "source": [
    "grades = {'Ana':'B','John':'A+','Denise':'A','Katy':'A'}\n",
    "\n",
    "# Get all items\n",
    "print(grades.items())\n",
    "\n",
    "# Get all values\n",
    "print(grades.values())\n",
    "\n",
    "# Get all keys\n",
    "print(grades.keys())"
   ]
  },
  {
   "cell_type": "markdown",
   "metadata": {},
   "source": [
    "## Check a key in a dictionary\n",
    "------------"
   ]
  },
  {
   "cell_type": "code",
   "execution_count": 6,
   "metadata": {
    "scrolled": false
   },
   "outputs": [
    {
     "name": "stdout",
     "output_type": "stream",
     "text": [
      "True\n",
      "False\n",
      "False\n"
     ]
    }
   ],
   "source": [
    "grades = {'Ana':'B', 'John':'A+', 'Denise':'A', 'Katy':'A'}\n",
    "\n",
    "print('Ana' in grades)\n",
    "print('None_Exist' in grades)\n",
    "print('A' in grades)"
   ]
  },
  {
   "cell_type": "markdown",
   "metadata": {},
   "source": [
    "### Dictionary Examples"
   ]
  },
  {
   "cell_type": "code",
   "execution_count": 7,
   "metadata": {
    "scrolled": true
   },
   "outputs": [
    {
     "name": "stdout",
     "output_type": "stream",
     "text": [
      "red = rouge\n"
     ]
    }
   ],
   "source": [
    "# English-German Dictionary\n",
    "en_de = {\"red\" : \"rot\", \"green\" : \"grün\", \"blue\" : \"blau\", \\\n",
    "        \"yellow\":\"gelb\"}\n",
    "\n",
    "# German-French Dictionary\n",
    "de_fr = {\"rot\" : \"rouge\", \"grün\" : \"vert\", \"blau\" : \"bleu\",\\\n",
    "        \"gelb\":\"jaune\"}\n",
    "\n",
    "# Translate English to Frence Directly\n",
    "print(\"red = \" + de_fr[en_de[\"red\"]])   # red = rouge"
   ]
  },
  {
   "cell_type": "markdown",
   "metadata": {},
   "source": [
    "## Adding into Dictionary\n",
    "-------------"
   ]
  },
  {
   "cell_type": "code",
   "execution_count": 11,
   "metadata": {
    "scrolled": true
   },
   "outputs": [
    {
     "name": "stdout",
     "output_type": "stream",
     "text": [
      "{'name': 'John', 'age': 26} \n",
      "\n",
      "{'name': 'John', 'age': 26, 'city': 'Paris', 'country': 'France'}\n"
     ]
    }
   ],
   "source": [
    "adict = {}\n",
    "\n",
    "# Adding new items \n",
    "adict['name'] = 'John'\n",
    "adict['age']  = 26\n",
    "print(adict, '\\n')\n",
    "\n",
    "# Adding Multiple Items\n",
    "adict.update({'city': 'Paris', 'country': 'France'})\n",
    "print(adict)"
   ]
  },
  {
   "cell_type": "markdown",
   "metadata": {},
   "source": [
    "**NOT working Examples**:"
   ]
  },
  {
   "cell_type": "code",
   "execution_count": 12,
   "metadata": {},
   "outputs": [
    {
     "ename": "TypeError",
     "evalue": "unsupported operand type(s) for +=: 'dict' and 'dict'",
     "output_type": "error",
     "traceback": [
      "\u001b[1;31m------------------------------------------------------------\u001b[0m",
      "\u001b[1;31mTypeError\u001b[0m                  Traceback (most recent call last)",
      "\u001b[1;32m<ipython-input-12-a481b9cc8618>\u001b[0m in \u001b[0;36m<module>\u001b[1;34m\u001b[0m\n\u001b[0;32m      1\u001b[0m \u001b[0madict\u001b[0m \u001b[1;33m=\u001b[0m \u001b[1;33m{\u001b[0m\u001b[1;33m}\u001b[0m\u001b[1;33m\u001b[0m\u001b[1;33m\u001b[0m\u001b[0m\n\u001b[1;32m----> 2\u001b[1;33m \u001b[0madict\u001b[0m \u001b[1;33m+=\u001b[0m \u001b[1;33m{\u001b[0m\u001b[1;34m'city'\u001b[0m\u001b[1;33m:\u001b[0m \u001b[1;34m'Jaipur'\u001b[0m\u001b[1;33m}\u001b[0m\u001b[1;33m\u001b[0m\u001b[1;33m\u001b[0m\u001b[0m\n\u001b[0m",
      "\u001b[1;31mTypeError\u001b[0m: unsupported operand type(s) for +=: 'dict' and 'dict'"
     ]
    }
   ],
   "source": [
    "adict = {}\n",
    "adict += {'city': 'Jaipur'}"
   ]
  },
  {
   "cell_type": "code",
   "execution_count": 13,
   "metadata": {},
   "outputs": [
    {
     "ename": "AttributeError",
     "evalue": "'dict' object has no attribute 'append'",
     "output_type": "error",
     "traceback": [
      "\u001b[1;31m------------------------------------------------------------\u001b[0m",
      "\u001b[1;31mAttributeError\u001b[0m             Traceback (most recent call last)",
      "\u001b[1;32m<ipython-input-13-98a98e6ecdbf>\u001b[0m in \u001b[0;36m<module>\u001b[1;34m\u001b[0m\n\u001b[0;32m      1\u001b[0m \u001b[0madict\u001b[0m \u001b[1;33m=\u001b[0m \u001b[1;33m{\u001b[0m\u001b[1;33m}\u001b[0m\u001b[1;33m\u001b[0m\u001b[1;33m\u001b[0m\u001b[0m\n\u001b[1;32m----> 2\u001b[1;33m \u001b[0madict\u001b[0m\u001b[1;33m.\u001b[0m\u001b[0mappend\u001b[0m\u001b[1;33m(\u001b[0m\u001b[1;33m{\u001b[0m\u001b[1;34m'city'\u001b[0m\u001b[1;33m:\u001b[0m \u001b[1;34m'Jaipur'\u001b[0m\u001b[1;33m}\u001b[0m\u001b[1;33m)\u001b[0m\u001b[1;33m\u001b[0m\u001b[1;33m\u001b[0m\u001b[0m\n\u001b[0m",
      "\u001b[1;31mAttributeError\u001b[0m: 'dict' object has no attribute 'append'"
     ]
    }
   ],
   "source": [
    "adict = {}\n",
    "adict.append({'city': 'Jaipur'})"
   ]
  },
  {
   "cell_type": "markdown",
   "metadata": {},
   "source": [
    "## Updating a Dictionary\n",
    "---------------\n",
    "\n",
    "### Updating Existing Value"
   ]
  },
  {
   "cell_type": "code",
   "execution_count": 19,
   "metadata": {},
   "outputs": [
    {
     "name": "stdout",
     "output_type": "stream",
     "text": [
      "{'age': 45} \n",
      "\n"
     ]
    }
   ],
   "source": [
    "adict = {}\n",
    "adict['age'] = 45\n",
    "print(adict, '\\n')"
   ]
  },
  {
   "cell_type": "markdown",
   "metadata": {},
   "source": [
    "### Updating Non-Existing Value"
   ]
  },
  {
   "cell_type": "code",
   "execution_count": 20,
   "metadata": {
    "scrolled": false
   },
   "outputs": [
    {
     "name": "stdout",
     "output_type": "stream",
     "text": [
      "{'name': 'Rahul', 'city': 'paris'} \n",
      "\n",
      "{'name': 'Rahul', 'city': 'paris'} \n",
      "\n"
     ]
    }
   ],
   "source": [
    "adict = {'name': 'Rahul'}\n",
    "adict.setdefault('city', 'paris')\n",
    "print(adict, '\\n')\n",
    "\n",
    "# It will not touch Existing Value\n",
    "adict.setdefault('name', 'Dinesh')\n",
    "print(adict, '\\n')"
   ]
  },
  {
   "cell_type": "markdown",
   "metadata": {},
   "source": [
    "## Getting Value\n",
    "----------"
   ]
  },
  {
   "cell_type": "markdown",
   "metadata": {},
   "source": [
    "### Using Literal"
   ]
  },
  {
   "cell_type": "code",
   "execution_count": 22,
   "metadata": {},
   "outputs": [
    {
     "name": "stdout",
     "output_type": "stream",
     "text": [
      "John\n"
     ]
    }
   ],
   "source": [
    "adict = {'age': 26, 'name': 'John', 'country': 'France'}\n",
    "print(adict['name'])"
   ]
  },
  {
   "cell_type": "markdown",
   "metadata": {},
   "source": [
    "### Using `adict.setdefault(self, key, default=None, /)`\n",
    "\n",
    " - Insert key with a value of default if key is not in the dictionary.\n",
    " - Return the value for key if key is in the dictionary, else default."
   ]
  },
  {
   "cell_type": "code",
   "execution_count": 1,
   "metadata": {
    "scrolled": true
   },
   "outputs": [
    {
     "name": "stdout",
     "output_type": "stream",
     "text": [
      "John \n",
      "\n",
      "Jaipur\n"
     ]
    }
   ],
   "source": [
    "adict = {'age': 26, 'name': 'John', 'country': 'France'}\n",
    "print(adict.setdefault('name'), '\\n')\n",
    "print(adict.setdefault('city', 'Jaipur'))"
   ]
  },
  {
   "cell_type": "markdown",
   "metadata": {},
   "source": [
    "## Deleting Element\n",
    "------------"
   ]
  },
  {
   "cell_type": "markdown",
   "metadata": {},
   "source": [
    "### `D.pop(k[,d]) -> v`:\n",
    " \n",
    " - **Remove specified key element** and return the corresponding value. \n",
    " - If key is not found, d is returned if given, otherwise KeyError is raised"
   ]
  },
  {
   "cell_type": "code",
   "execution_count": 17,
   "metadata": {
    "scrolled": true
   },
   "outputs": [
    {
     "name": "stdout",
     "output_type": "stream",
     "text": [
      "26\n",
      "{'name': 'John', 'country': 'France'}\n",
      "2nd\n"
     ]
    },
    {
     "ename": "NameError",
     "evalue": "name 'pritn' is not defined",
     "output_type": "error",
     "traceback": [
      "\u001b[1;31m------------------------------------------------------------\u001b[0m",
      "\u001b[1;31mNameError\u001b[0m                  Traceback (most recent call last)",
      "\u001b[1;32m<ipython-input-17-074fbe53734d>\u001b[0m in \u001b[0;36m<module>\u001b[1;34m\u001b[0m\n\u001b[0;32m      4\u001b[0m \u001b[1;33m\u001b[0m\u001b[0m\n\u001b[0;32m      5\u001b[0m \u001b[0mprint\u001b[0m\u001b[1;33m(\u001b[0m\u001b[0madict\u001b[0m\u001b[1;33m.\u001b[0m\u001b[0mpop\u001b[0m\u001b[1;33m(\u001b[0m\u001b[1;34m'class'\u001b[0m\u001b[1;33m,\u001b[0m \u001b[1;34m'2nd'\u001b[0m\u001b[1;33m)\u001b[0m\u001b[1;33m)\u001b[0m \u001b[1;31m# return provided value if not found\u001b[0m\u001b[1;33m\u001b[0m\u001b[1;33m\u001b[0m\u001b[0m\n\u001b[1;32m----> 6\u001b[1;33m \u001b[0mpritn\u001b[0m\u001b[1;33m(\u001b[0m\u001b[0madict\u001b[0m\u001b[1;33m.\u001b[0m\u001b[0mpop\u001b[0m\u001b[1;33m(\u001b[0m\u001b[1;34m'address'\u001b[0m\u001b[1;33m)\u001b[0m\u001b[1;33m)\u001b[0m      \u001b[1;31m# KeyError\u001b[0m\u001b[1;33m\u001b[0m\u001b[1;33m\u001b[0m\u001b[0m\n\u001b[0m",
      "\u001b[1;31mNameError\u001b[0m: name 'pritn' is not defined"
     ]
    }
   ],
   "source": [
    "adict = {'age': 26, 'name': 'John', 'country': 'France'}\n",
    "print(adict.pop('age'))\n",
    "print(adict)\n",
    "\n",
    "print(adict.pop('class', '2nd')) # return provided value if not found\n",
    "pritn(adict.pop('address'))      # KeyError"
   ]
  },
  {
   "cell_type": "markdown",
   "metadata": {},
   "source": [
    "### `D.popitem() -> (k, v)`:\n",
    "\n",
    " - Remove **Any Arbitrary Element**\n",
    " - remove and return some (key, value) pair as a 2-tuple.\n",
    " - Raise KeyError if D is empty."
   ]
  },
  {
   "cell_type": "code",
   "execution_count": 16,
   "metadata": {
    "scrolled": false
   },
   "outputs": [
    {
     "name": "stdout",
     "output_type": "stream",
     "text": [
      "('country', 'France')\n",
      "{'age': 26, 'name': 'John'}\n"
     ]
    }
   ],
   "source": [
    "adict = {'age': 26, 'name': 'John', 'country': 'France'}\n",
    "print(adict.popitem())\n",
    "print(adict)"
   ]
  },
  {
   "cell_type": "markdown",
   "metadata": {},
   "source": [
    "### `del D(key)`\n",
    "\n",
    " - **Delete Specified Key element**\n",
    " - returns NOTHING."
   ]
  },
  {
   "cell_type": "code",
   "execution_count": 20,
   "metadata": {
    "scrolled": true
   },
   "outputs": [
    {
     "name": "stdout",
     "output_type": "stream",
     "text": [
      "{'name': 'John', 'country': 'France'}\n"
     ]
    }
   ],
   "source": [
    "adict = {'age': 26, 'name': 'John', 'country': 'France'}\n",
    "del adict['age']\n",
    "\n",
    "print(adict)"
   ]
  },
  {
   "cell_type": "markdown",
   "metadata": {},
   "source": [
    "## Copy a Dictionary\n",
    "-----------"
   ]
  },
  {
   "cell_type": "markdown",
   "metadata": {},
   "source": [
    "### Common Sense Method (but Wrong)\n",
    "\n",
    " - Both pointing to the same object. \n",
    " - It is not really copy of a dictionary."
   ]
  },
  {
   "cell_type": "code",
   "execution_count": 21,
   "metadata": {
    "scrolled": true
   },
   "outputs": [
    {
     "name": "stdout",
     "output_type": "stream",
     "text": [
      "{'age': 26, 'name': 'John'}\n",
      "{'age': 26, 'name': 'John'}\n"
     ]
    }
   ],
   "source": [
    "adict = {'age': 26, 'name': 'John', 'country': 'France'}\n",
    "bdict = adict\n",
    "\n",
    "bdict.popitem()\n",
    "print(bdict)\n",
    "print(adict)"
   ]
  },
  {
   "cell_type": "markdown",
   "metadata": {},
   "source": [
    "### Right Method"
   ]
  },
  {
   "cell_type": "code",
   "execution_count": 22,
   "metadata": {
    "scrolled": true
   },
   "outputs": [
    {
     "name": "stdout",
     "output_type": "stream",
     "text": [
      "{'age': 26, 'name': 'John'}\n",
      "{'age': 26, 'name': 'John', 'country': 'France'}\n"
     ]
    }
   ],
   "source": [
    "adict = {'age': 26, 'name': 'John', 'country': 'France'}\n",
    "bdict = adict.copy()\n",
    "\n",
    "bdict.popitem()\n",
    "print(bdict)\n",
    "print(adict)"
   ]
  }
 ],
 "metadata": {
  "kernelspec": {
   "display_name": "Python 3",
   "language": "python",
   "name": "python3"
  },
  "language_info": {
   "codemirror_mode": {
    "name": "ipython",
    "version": 3
   },
   "file_extension": ".py",
   "mimetype": "text/x-python",
   "name": "python",
   "nbconvert_exporter": "python",
   "pygments_lexer": "ipython3",
   "version": "3.7.2"
  }
 },
 "nbformat": 4,
 "nbformat_minor": 2
}
