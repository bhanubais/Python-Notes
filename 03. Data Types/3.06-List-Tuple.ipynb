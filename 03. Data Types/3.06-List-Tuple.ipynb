{
 "cells": [
  {
   "cell_type": "markdown",
   "metadata": {},
   "source": [
    "# About List\n",
    "----------\n",
    "\n",
    " - order sequence of elements/objects, accessible by index\n",
    " - mutable\n",
    " - denoted by square brackets, []\n",
    " - usually contains homogeneous \n",
    "   (i.e., all integers or all strings...)\n",
    " - may be contain mix types (not common)"
   ]
  },
  {
   "cell_type": "markdown",
   "metadata": {},
   "source": [
    "# About Tuple\n",
    "----------\n",
    "\n",
    " - order sequence of elements/objects, accessible by index\n",
    " - Immutable\n",
    " - denoted by parantheses, ()\n",
    " - usually contains multiple type of Elements \n",
    " - **All Immutable list methods can be applied on Tuple**"
   ]
  },
  {
   "cell_type": "markdown",
   "metadata": {},
   "source": [
    "# Making List\n",
    "--------------"
   ]
  },
  {
   "cell_type": "code",
   "execution_count": 2,
   "metadata": {
    "scrolled": true
   },
   "outputs": [
    {
     "name": "stdout",
     "output_type": "stream",
     "text": [
      "[]\n",
      "[]\n",
      "['ab', 'cd', 'ef']\n",
      "['a', 'b', 'c', 'd']\n",
      "['a']\n",
      "['one', 'two', 'three']\n"
     ]
    }
   ],
   "source": [
    "print([])                        # Square Brackets\n",
    "print(list())                    # list function\n",
    "print('ab-cd-ef'.split('-'))     # String's split function\n",
    "print(list(\"abcd\"))              # ['a','b','c','d']\n",
    "print(['a'])                     # single value list\n",
    "print([\"one\", \"two\", \"three\"])   # multiple values"
   ]
  },
  {
   "cell_type": "code",
   "execution_count": 6,
   "metadata": {
    "scrolled": true
   },
   "outputs": [
    {
     "name": "stdout",
     "output_type": "stream",
     "text": [
      "['a', 'b', 'c', 'd', 'e', 'f', 'g']\n"
     ]
    }
   ],
   "source": [
    "alist = list('abcdefg')\n",
    "print(alist)"
   ]
  },
  {
   "cell_type": "markdown",
   "metadata": {},
   "source": [
    "# Making Tuple\n",
    "--------------"
   ]
  },
  {
   "cell_type": "code",
   "execution_count": 3,
   "metadata": {},
   "outputs": [
    {
     "name": "stdout",
     "output_type": "stream",
     "text": [
      "()\n",
      "()\n",
      "('a', 'b', 'c', 'd')\n",
      "('one', 'two', 'three')\n",
      "\n",
      "a\n",
      "('a',)\n"
     ]
    }
   ],
   "source": [
    "print(())                        # Parantheses\n",
    "print(tuple())                   # tuple function\n",
    "print(tuple(\"abcd\"))             # ('a','b','c','d')\n",
    "print((\"one\", \"two\", \"three\"))   # multiple values\n",
    "print()\n",
    "\n",
    "# NOTE:\n",
    "print(('a'))                     # single value list (Doesn't work)\n",
    "print(('a', ))                   # single value list"
   ]
  },
  {
   "cell_type": "markdown",
   "metadata": {},
   "source": [
    "# List Manipulations\n",
    "-----------\n",
    "\n",
    "A list can be seen as a stack. A stack in computer science\n",
    "is a data structure, which has at least two operations: one\n",
    "which can be used to put or push data on the stack and\n",
    "another one to take away the most upper element of the\n",
    "stack. The way of working can be imagined with a stack of\n",
    "plates. If you need a plate you will usually take the most\n",
    "upper one. The used plates will be put back on the top of\n",
    "the stack after cleaning. If a programming language supports\n",
    "a stack like data structure, it will also supply at least\n",
    "two operations:\n",
    " - pop: returns the most upper element of the stack\n",
    " - push: putting a new object on the stack\n",
    " - peek: view upper element without removing it"
   ]
  },
  {
   "cell_type": "markdown",
   "metadata": {},
   "source": [
    "## `pop(self, index=-1, /)`"
   ]
  },
  {
   "cell_type": "code",
   "execution_count": 7,
   "metadata": {},
   "outputs": [
    {
     "name": "stdout",
     "output_type": "stream",
     "text": [
      "g\n",
      "['a', 'b', 'c', 'd', 'e', 'f']\n"
     ]
    }
   ],
   "source": [
    "print(alist.pop())\n",
    "print(alist)"
   ]
  },
  {
   "cell_type": "code",
   "execution_count": 8,
   "metadata": {},
   "outputs": [
    {
     "name": "stdout",
     "output_type": "stream",
     "text": [
      "b\n",
      "['a', 'c', 'd', 'e', 'f']\n"
     ]
    }
   ],
   "source": [
    "print(alist.pop(1))\n",
    "print(alist)"
   ]
  },
  {
   "cell_type": "markdown",
   "metadata": {},
   "source": [
    "## `append(self, object, /)`\n",
    "\n",
    " - pushing single element"
   ]
  },
  {
   "cell_type": "code",
   "execution_count": 9,
   "metadata": {},
   "outputs": [
    {
     "name": "stdout",
     "output_type": "stream",
     "text": [
      "None\n",
      "['a', 'c', 'd', 'e', 'f', 'p']\n"
     ]
    }
   ],
   "source": [
    "print(alist.append('p'))\n",
    "print(alist)"
   ]
  },
  {
   "cell_type": "code",
   "execution_count": 14,
   "metadata": {},
   "outputs": [
    {
     "name": "stdout",
     "output_type": "stream",
     "text": [
      "None\n",
      "['a', 'c', 'd', 'e', 'f', 'p', ['q', 'r', 's']]\n"
     ]
    }
   ],
   "source": [
    "print(alist.append(list('qrs')))\n",
    "print(alist)"
   ]
  },
  {
   "cell_type": "markdown",
   "metadata": {},
   "source": [
    "## `extend(self, iterable, /)`\n",
    "\n",
    " - pushing multiple elements"
   ]
  },
  {
   "cell_type": "code",
   "execution_count": 15,
   "metadata": {},
   "outputs": [
    {
     "name": "stdout",
     "output_type": "stream",
     "text": [
      "None\n",
      "['a', 'c', 'd', 'e', 'f', 'p', ['q', 'r', 's'], 'q', 'r', 's']\n"
     ]
    }
   ],
   "source": [
    "print(alist.extend(list('qrs')))\n",
    "print(alist)"
   ]
  },
  {
   "cell_type": "markdown",
   "metadata": {},
   "source": [
    "## extending list with + operator"
   ]
  },
  {
   "cell_type": "code",
   "execution_count": 16,
   "metadata": {},
   "outputs": [
    {
     "name": "stdout",
     "output_type": "stream",
     "text": [
      "['beginner', 'intermediate', 'advanced', 'novice', 'expert']\n"
     ]
    }
   ],
   "source": [
    "level = [\"beginner\", \"intermediate\", \"advanced\"]\n",
    "other_words = [\"novice\", \"expert\"]\n",
    "print(level + other_words)"
   ]
  },
  {
   "cell_type": "markdown",
   "metadata": {},
   "source": [
    "### NOTE:\n",
    "\n",
    "**Never ever do the following even though we get the same\n",
    "results, it is not alternative to `append` and `extend`**\n",
    "\n",
    " - It is Very Insufficient."
   ]
  },
  {
   "cell_type": "code",
   "execution_count": 17,
   "metadata": {},
   "outputs": [
    {
     "name": "stdout",
     "output_type": "stream",
     "text": [
      "[3, 4, 24]\n"
     ]
    }
   ],
   "source": [
    "L = [3, 4]\n",
    "L = L + [24]\n",
    "print(L)"
   ]
  },
  {
   "cell_type": "markdown",
   "metadata": {},
   "source": [
    "**The augmented assignment (+=) is an alternative:**"
   ]
  },
  {
   "cell_type": "code",
   "execution_count": 18,
   "metadata": {
    "scrolled": true
   },
   "outputs": [
    {
     "name": "stdout",
     "output_type": "stream",
     "text": [
      "[3, 4, 24]\n"
     ]
    }
   ],
   "source": [
    "M = [3, 4]\n",
    "M += [24]\n",
    "print(M)"
   ]
  },
  {
   "cell_type": "markdown",
   "metadata": {},
   "source": [
    "## Deleting List Items\n",
    "\n",
    "### `del <Object>`\n",
    "\n",
    "The `del` keyword is used to delete objects. In Python everything is an object, so the `del` keyword can also be used to delete variables, lists, or parts of a list etc."
   ]
  },
  {
   "cell_type": "code",
   "execution_count": 10,
   "metadata": {
    "scrolled": true
   },
   "outputs": [
    {
     "name": "stdout",
     "output_type": "stream",
     "text": [
      "['a', 'b', 'c', 'd', 'e', 'f', 'g']\n",
      "['a', 'b', 'd', 'e', 'f', 'g']\n"
     ]
    }
   ],
   "source": [
    "# Removing specified indexed item\n",
    "\n",
    "alist = list('abcdefg')\n",
    "print(alist)\n",
    "\n",
    "del(alist[2])\n",
    "print(alist)"
   ]
  },
  {
   "cell_type": "code",
   "execution_count": 11,
   "metadata": {},
   "outputs": [
    {
     "name": "stdout",
     "output_type": "stream",
     "text": [
      "['a', 'b', 'c', 'd', 'e', 'f', 'g']\n",
      "['a', 'b', 'c', 'd']\n"
     ]
    }
   ],
   "source": [
    "# Remove multiple elements in a range\n",
    "\n",
    "alist = list('abcdefg')\n",
    "print(alist)\n",
    "\n",
    "del(alist[-3:])\n",
    "print(alist)"
   ]
  },
  {
   "cell_type": "code",
   "execution_count": 12,
   "metadata": {},
   "outputs": [
    {
     "name": "stdout",
     "output_type": "stream",
     "text": [
      "['a', 'b', 'c', 'd', 'e', 'f', 'g']\n",
      "[]\n"
     ]
    }
   ],
   "source": [
    "# Delete all elements of a list\n",
    "\n",
    "alist = list('abcdefg')\n",
    "print(alist)\n",
    "\n",
    "del(alist[:])\n",
    "print(alist)"
   ]
  },
  {
   "cell_type": "markdown",
   "metadata": {},
   "source": [
    "### alist.remove(self, value, /)\n",
    "\n",
    " - Remove first occurrence of value.\n",
    " - Raises ValueError if the value is not present."
   ]
  },
  {
   "cell_type": "code",
   "execution_count": 13,
   "metadata": {
    "scrolled": true
   },
   "outputs": [
    {
     "name": "stdout",
     "output_type": "stream",
     "text": [
      "['a', 'b', '-', 'c', 'd', 'e', '-', 'f', '-', 'g']\n",
      "['a', 'b', 'c', 'd', 'e', '-', 'f', '-', 'g']\n"
     ]
    }
   ],
   "source": [
    "alist = list('ab-cde-f-g')\n",
    "print(alist)\n",
    "\n",
    "alist.remove('-')\n",
    "print(alist)"
   ]
  },
  {
   "cell_type": "markdown",
   "metadata": {},
   "source": [
    "# `+` vs `+=` vs `append` operator\n",
    "-----------\n",
    "\n",
    "## 1. Efficiency"
   ]
  },
  {
   "cell_type": "code",
   "execution_count": 19,
   "metadata": {},
   "outputs": [],
   "source": [
    "from time import time\n",
    "n = 50000"
   ]
  },
  {
   "cell_type": "markdown",
   "metadata": {},
   "source": [
    "### `+` Operator:"
   ]
  },
  {
   "cell_type": "code",
   "execution_count": 20,
   "metadata": {},
   "outputs": [
    {
     "name": "stdout",
     "output_type": "stream",
     "text": [
      "8.758614301681519\n"
     ]
    }
   ],
   "source": [
    "start_time = time()\n",
    "L = []\n",
    "for i in range(n):\n",
    "    L = L + [i * 2]\n",
    "print(time() - start_time)"
   ]
  },
  {
   "cell_type": "markdown",
   "metadata": {},
   "source": [
    "### `+=` Operator:"
   ]
  },
  {
   "cell_type": "code",
   "execution_count": 21,
   "metadata": {},
   "outputs": [
    {
     "name": "stdout",
     "output_type": "stream",
     "text": [
      "0.027984142303466797\n"
     ]
    }
   ],
   "source": [
    "start_time = time()\n",
    "L = []\n",
    "for i in range(n):\n",
    "    L += [i * 2]\n",
    "print(time() - start_time)"
   ]
  },
  {
   "cell_type": "markdown",
   "metadata": {},
   "source": [
    "### `append` Method:"
   ]
  },
  {
   "cell_type": "code",
   "execution_count": 22,
   "metadata": {},
   "outputs": [
    {
     "name": "stdout",
     "output_type": "stream",
     "text": [
      "0.020984888076782227\n"
     ]
    }
   ],
   "source": [
    "start_time = time()\n",
    "L = []\n",
    "for i in range(n):\n",
    "    L.append(i * 2)\n",
    "print(time() - start_time)"
   ]
  },
  {
   "cell_type": "markdown",
   "metadata": {},
   "source": [
    "### Conclusion:\n",
    "\n",
    "**In `+` operator**, the list copied in every loop pass.\n",
    "The new element will be added to the copy of the list\n",
    "and result will be reassigned to the variable L. After\n",
    "this the old list will have to be removed by Python, \n",
    "because it is not referenced anymore.\n",
    "\n",
    "**By seeing results** we can say about time consumption all these methods as follows.\n",
    "\n",
    "**`append` < `+=` < `+`**"
   ]
  },
  {
   "cell_type": "markdown",
   "metadata": {},
   "source": [
    "## 2. Pointing Effect"
   ]
  },
  {
   "cell_type": "code",
   "execution_count": 22,
   "metadata": {},
   "outputs": [
    {
     "name": "stdout",
     "output_type": "stream",
     "text": [
      "[1, 2, 3, 4] [1, 2, 3, 4]\n",
      "[1, 2, 3, 4, 5] [1, 2, 3, 4]\n"
     ]
    }
   ],
   "source": [
    "list1 = [1,2,3,4]\n",
    "list2 = list1\n",
    "print(list1, list2)\n",
    "\n",
    "list1 = list1 + [5]\n",
    "print(list1, list2)"
   ]
  },
  {
   "cell_type": "code",
   "execution_count": 18,
   "metadata": {},
   "outputs": [
    {
     "name": "stdout",
     "output_type": "stream",
     "text": [
      "[1, 2, 3, 4] [1, 2, 3, 4]\n",
      "[1, 2, 3, 4, 5] [1, 2, 3, 4, 5]\n"
     ]
    }
   ],
   "source": [
    "list1 = [1,2,3,4]\n",
    "list2 = list1\n",
    "print(list1, list2)\n",
    "\n",
    "list1 += [5]\n",
    "print(list1, list2)"
   ]
  },
  {
   "cell_type": "code",
   "execution_count": 19,
   "metadata": {},
   "outputs": [
    {
     "name": "stdout",
     "output_type": "stream",
     "text": [
      "[1, 2, 3, 4] [1, 2, 3, 4]\n",
      "[1, 2, 3, 4, 5] [1, 2, 3, 4, 5]\n"
     ]
    }
   ],
   "source": [
    "list1 = [1,2,3,4]\n",
    "list2 = list1\n",
    "print(list1, list2)\n",
    "\n",
    "list1.append(5)\n",
    "print(list1, list2)"
   ]
  },
  {
   "cell_type": "markdown",
   "metadata": {},
   "source": [
    "# Copy a list:\n",
    "--------------\n",
    "\n",
    "## Shallow List:"
   ]
  },
  {
   "cell_type": "code",
   "execution_count": 23,
   "metadata": {},
   "outputs": [
    {
     "name": "stdout",
     "output_type": "stream",
     "text": [
      "['a', 'b', 'c']\n"
     ]
    }
   ],
   "source": [
    "L1 = ['a', 'b', 'c']\n",
    "L2 = L1[:]\n",
    "\n",
    "print(L2)"
   ]
  },
  {
   "cell_type": "markdown",
   "metadata": {},
   "source": [
    "## Deep Copy:"
   ]
  },
  {
   "cell_type": "code",
   "execution_count": 24,
   "metadata": {},
   "outputs": [
    {
     "name": "stdout",
     "output_type": "stream",
     "text": [
      "['a', 'b', ['ab', 'ba', ['p', 'q']], 'x', 'y']\n"
     ]
    }
   ],
   "source": [
    "from copy import deepcopy\n",
    "\n",
    "P1 = ['a', 'b', ['ab', 'ba', ['p', 'q']], 'x', 'y']\n",
    "P2 = deepcopy(P1)\n",
    "print(P2)"
   ]
  },
  {
   "cell_type": "markdown",
   "metadata": {},
   "source": [
    "# String to List and vice versa\n",
    "-------------\n",
    "\n",
    "## String to List:"
   ]
  },
  {
   "cell_type": "code",
   "execution_count": 27,
   "metadata": {},
   "outputs": [
    {
     "name": "stdout",
     "output_type": "stream",
     "text": [
      "['a', 'b', 'c', 'd']\n",
      "['abc', 'def', 'ghi']\n",
      "['ab', 'cd', 'ef', '', 'ghi']\n"
     ]
    }
   ],
   "source": [
    "print(list('abcd'))\n",
    "print('abc def ghi'.split())\n",
    "print('ab<cd<ef<<ghi'.split('<'))"
   ]
  },
  {
   "cell_type": "markdown",
   "metadata": {},
   "source": [
    "## List to String:"
   ]
  },
  {
   "cell_type": "code",
   "execution_count": null,
   "metadata": {},
   "outputs": [],
   "source": [
    "print(repr(''.join(['a', 'b', 'c'])))\n",
    "print(repr(' '.join(['abc', 'def', 'ghi'])))\n",
    "print(repr('<'.join(['ab', 'cd', 'ef', '', 'ghi'])))"
   ]
  },
  {
   "cell_type": "markdown",
   "metadata": {},
   "source": [
    "# Unpacking a list with `*`\n",
    "-------------------"
   ]
  },
  {
   "cell_type": "code",
   "execution_count": 25,
   "metadata": {},
   "outputs": [
    {
     "name": "stdout",
     "output_type": "stream",
     "text": [
      "range(2, 7)\n"
     ]
    }
   ],
   "source": [
    "args = [2, 7]\n",
    "print(range(*args))"
   ]
  },
  {
   "cell_type": "markdown",
   "metadata": {},
   "source": [
    "# Mutation and iteration\n",
    "--------------\n",
    "\n",
    " - Avoid mutating a list as you are iterating over it.\n",
    " \n",
    "## WRONG way: Not Working"
   ]
  },
  {
   "cell_type": "code",
   "execution_count": 23,
   "metadata": {},
   "outputs": [
    {
     "name": "stdout",
     "output_type": "stream",
     "text": [
      "[2, 3, 4]\n"
     ]
    }
   ],
   "source": [
    "def remove_dups(L1, L2):\n",
    "    for e in L1:\n",
    "        if e in L2:\n",
    "            L1.remove(e)\n",
    "\n",
    "L1 = [1, 2, 3, 4]\n",
    "L2 = [1, 2, 5, 6]\n",
    "remove_dups(L1, L2)\n",
    "\n",
    "print(L1)"
   ]
  },
  {
   "cell_type": "markdown",
   "metadata": {},
   "source": [
    "### RIGHT way: Works Great"
   ]
  },
  {
   "cell_type": "code",
   "execution_count": 24,
   "metadata": {
    "scrolled": true
   },
   "outputs": [
    {
     "name": "stdout",
     "output_type": "stream",
     "text": [
      "[3, 4]\n"
     ]
    }
   ],
   "source": [
    "def remove_dups(L1, L2):\n",
    "    L1_copy = L1[:]\n",
    "    for e in L1_copy:\n",
    "        if e in L2:\n",
    "            L1.remove(e)\n",
    "\n",
    "L1 = [1, 2, 3, 4]\n",
    "L2 = [1, 2, 5, 6]\n",
    "remove_dups(L1, L2)\n",
    "\n",
    "print(L1)"
   ]
  }
 ],
 "metadata": {
  "kernelspec": {
   "display_name": "Python 3",
   "language": "python",
   "name": "python3"
  },
  "language_info": {
   "codemirror_mode": {
    "name": "ipython",
    "version": 3
   },
   "file_extension": ".py",
   "mimetype": "text/x-python",
   "name": "python",
   "nbconvert_exporter": "python",
   "pygments_lexer": "ipython3",
   "version": "3.8.2"
  }
 },
 "nbformat": 4,
 "nbformat_minor": 4
}
