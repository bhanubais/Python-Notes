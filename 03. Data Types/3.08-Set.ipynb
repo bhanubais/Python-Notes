{
 "cells": [
  {
   "cell_type": "markdown",
   "metadata": {},
   "source": [
    "# Set Introduction\n",
    "------------\n",
    "\n",
    "A set is an unordered collection of elements without duplicate entries.\n",
    "When printed, iterated or converted into a sequence, its elements will appear in an arbitrary order.\n",
    "\n",
    "Basically, sets are used for membership testing and eliminating duplicate entries. A single set contains values of any immutable data type\n",
    " \n",
    " - Unorder sequence of immutable elements/objects\n",
    " - cann't contain duplicate elements.\n",
    " - denoted by curly braces, {}\n",
    " - Mutable\n",
    " - NO indexing"
   ]
  },
  {
   "cell_type": "markdown",
   "metadata": {},
   "source": [
    "# Creating Sets\n",
    "------------"
   ]
  },
  {
   "cell_type": "code",
   "execution_count": 8,
   "metadata": {
    "scrolled": true
   },
   "outputs": [
    {
     "name": "stdout",
     "output_type": "stream",
     "text": [
      "{}\n",
      "set()\n",
      "{'c', 'a', 'b', 'd'}\n",
      "{'c', 'a', 'b'}\n",
      "{'c', 'a', 'b'} \n",
      "\n",
      "{'John', 'Katy', 'Ana', 'Denise'}\n"
     ]
    }
   ],
   "source": [
    "print({})                         # Blank Set\n",
    "print(set())                      # Blank Set\n",
    "print(set(\"abcdabcab\"))           # String to Set\n",
    "print(set(['a', 'b', 'b', 'c']))  # List to Set\n",
    "print({'a', 'b', 'b', 'c'}, '\\n') # Literal Declaration\n",
    "\n",
    "# Dictionary to Set\n",
    "print(set({'Ana':'B','John':'A+','Denise':'A','Katy':'A'}))"
   ]
  },
  {
   "cell_type": "markdown",
   "metadata": {},
   "source": [
    "# Adding Item(s) in Set\n",
    "------------------\n",
    "\n",
    "## `aset.add(<value>)`\n",
    "\n",
    " - Add an element to a set.\n",
    " - This has no effect if the element is already present.\n",
    " - add() takes exactly one argument "
   ]
  },
  {
   "cell_type": "code",
   "execution_count": 18,
   "metadata": {
    "scrolled": true
   },
   "outputs": [
    {
     "name": "stdout",
     "output_type": "stream",
     "text": [
      "{'a', 'b'} \n",
      "\n",
      "{'c', 'a', 'b'}\n",
      "{'c', 'a', 'b'}\n",
      "{'c', 'a', 'b', (5, 4)}\n"
     ]
    }
   ],
   "source": [
    "aset = set('ab')\n",
    "print(aset, '\\n')\n",
    "\n",
    "aset.add('c')      # adding a single element\n",
    "print(aset)\n",
    "aset.add('a')      # Nothing Happens, because 'a' is already exists\n",
    "print(aset)\n",
    "aset.add((5, 4))   # Adding a tuple\n",
    "print(aset)"
   ]
  },
  {
   "cell_type": "markdown",
   "metadata": {},
   "source": [
    "## `aset.update(<iterable object>)`\n",
    "\n",
    " - Inserting Multiple Elements\n",
    " - Update a set with the union of itself and others."
   ]
  },
  {
   "cell_type": "code",
   "execution_count": 1,
   "metadata": {},
   "outputs": [
    {
     "name": "stdout",
     "output_type": "stream",
     "text": [
      "{'b', 'a'} \n",
      "\n",
      "{'j', 'k', 'a', 'i', 'b'}\n",
      "{'j', 'd', 'k', 'a', 'c', 'i', 'b'}\n",
      "{'j', 'd', 4, 5, 6, 7, 100, 'k', 200, 'a', 'c', 'i', 150, 'b'}\n"
     ]
    }
   ],
   "source": [
    "aset = set('ab')\n",
    "print(aset, '\\n')\n",
    "\n",
    "aset.update('ijk')            # insert string characters\n",
    "print(aset)\n",
    "aset.update(list('abcd'))     # insert list items\n",
    "print(aset)\n",
    "aset.update([4,5], [5,6,7], [100,150,200])   # insert multiple items\n",
    "print(aset)"
   ]
  },
  {
   "cell_type": "markdown",
   "metadata": {},
   "source": [
    "# Removing Set item(s)\n",
    "-------------"
   ]
  },
  {
   "cell_type": "markdown",
   "metadata": {},
   "source": [
    "## `aset.remove(<value>)`\n",
    "\n",
    " - Remove an element from a set; **it must be a member**.\n",
    " - If the element is **not a member, raise a KeyError**.\n",
    " - remove() takes exactly one argument"
   ]
  },
  {
   "cell_type": "code",
   "execution_count": 35,
   "metadata": {
    "scrolled": false
   },
   "outputs": [
    {
     "name": "stdout",
     "output_type": "stream",
     "text": [
      "{'i', 'c', 5, 4, 6, 7, 'a', 'k', 'b', 'd', 'j'} \n",
      "\n",
      "{'i', 'c', 5, 4, 6, 7, 'a', 'b', 'd', 'j'}\n",
      "{'i', 'c', 4, 6, 7, 'a', 'b', 'd', 'j'}\n"
     ]
    },
    {
     "ename": "KeyError",
     "evalue": "'z'",
     "output_type": "error",
     "traceback": [
      "\u001b[1;31m------------------------------------------------------------\u001b[0m",
      "\u001b[1;31mKeyError\u001b[0m                   Traceback (most recent call last)",
      "\u001b[1;32m<ipython-input-35-969189faffdb>\u001b[0m in \u001b[0;36m<module>\u001b[1;34m\u001b[0m\n\u001b[0;32m      6\u001b[0m \u001b[0maset\u001b[0m\u001b[1;33m.\u001b[0m\u001b[0mremove\u001b[0m\u001b[1;33m(\u001b[0m\u001b[1;36m5\u001b[0m\u001b[1;33m)\u001b[0m      \u001b[1;31m# remove 5\u001b[0m\u001b[1;33m\u001b[0m\u001b[1;33m\u001b[0m\u001b[0m\n\u001b[0;32m      7\u001b[0m \u001b[0mprint\u001b[0m\u001b[1;33m(\u001b[0m\u001b[0maset\u001b[0m\u001b[1;33m)\u001b[0m\u001b[1;33m\u001b[0m\u001b[1;33m\u001b[0m\u001b[0m\n\u001b[1;32m----> 8\u001b[1;33m \u001b[0maset\u001b[0m\u001b[1;33m.\u001b[0m\u001b[0mremove\u001b[0m\u001b[1;33m(\u001b[0m\u001b[1;34m'z'\u001b[0m\u001b[1;33m)\u001b[0m    \u001b[1;31m# KeyError, because 'z' doesn't exists\u001b[0m\u001b[1;33m\u001b[0m\u001b[1;33m\u001b[0m\u001b[0m\n\u001b[0m\u001b[0;32m      9\u001b[0m \u001b[0mprint\u001b[0m\u001b[1;33m(\u001b[0m\u001b[0maset\u001b[0m\u001b[1;33m)\u001b[0m\u001b[1;33m\u001b[0m\u001b[1;33m\u001b[0m\u001b[0m\n",
      "\u001b[1;31mKeyError\u001b[0m: 'z'"
     ]
    }
   ],
   "source": [
    "aset = {'i', 'c', 4, 5, 6, 7, 'a', 'k', 'b', 'd', 'j'}\n",
    "print(aset, '\\n')\n",
    "\n",
    "aset.remove('k')    # remove 'k'\n",
    "print(aset)\n",
    "aset.remove(5)      # remove 5\n",
    "print(aset)\n",
    "aset.remove('z')    # KeyError, because 'z' doesn't exists\n",
    "print(aset)"
   ]
  },
  {
   "cell_type": "markdown",
   "metadata": {},
   "source": [
    "## `aset.discard(<value>)`\n",
    "\n",
    " - Remove an element from a set if it is a member.\n",
    " - If the element is **not a member, do nothing**.\n",
    " - discard() takes exactly one argument"
   ]
  },
  {
   "cell_type": "code",
   "execution_count": 31,
   "metadata": {
    "scrolled": true
   },
   "outputs": [
    {
     "name": "stdout",
     "output_type": "stream",
     "text": [
      "{'i', 'c', 5, 4, 6, 7, 'a', 'k', 'b', 'd', 'j'} \n",
      "\n",
      "{'i', 'c', 5, 4, 6, 7, 'a', 'b', 'd', 'j'}\n",
      "{'i', 'c', 4, 6, 7, 'a', 'b', 'd', 'j'}\n",
      "{'i', 'c', 4, 6, 7, 'a', 'b', 'd', 'j'}\n"
     ]
    }
   ],
   "source": [
    "aset = {'i', 'c', 4, 5, 6, 7, 'a', 'k', 'b', 'd', 'j'}\n",
    "print(aset, '\\n')\n",
    "\n",
    "aset.discard('k')    # remove 'k'\n",
    "print(aset)\n",
    "aset.discard(5)      # remove 5\n",
    "print(aset)\n",
    "aset.discard('z')    # remove nothing, because 'z' doesn't exists\n",
    "print(aset)"
   ]
  },
  {
   "cell_type": "markdown",
   "metadata": {},
   "source": [
    "## `aset.pop()`\n",
    "\n",
    " - pop() **takes NO argument**.\n",
    " - Remove and return an arbitrary set element\n",
    " - Raises KeyError if the set is empty"
   ]
  },
  {
   "cell_type": "code",
   "execution_count": 43,
   "metadata": {
    "scrolled": false
   },
   "outputs": [
    {
     "name": "stdout",
     "output_type": "stream",
     "text": [
      "{'i', 'c', 5, 4, 6, 7, 'a', 'k', 'b', 'd', 'j'} \n",
      "\n",
      "removed:  i\n",
      "{'c', 5, 4, 6, 7, 'a', 'k', 'b', 'd', 'j'} \n",
      "\n"
     ]
    },
    {
     "ename": "TypeError",
     "evalue": "pop expected at least 1 arguments, got 0",
     "output_type": "error",
     "traceback": [
      "\u001b[1;31m------------------------------------------------------------\u001b[0m",
      "\u001b[1;31mTypeError\u001b[0m                  Traceback (most recent call last)",
      "\u001b[1;32m<ipython-input-43-8413601f62f9>\u001b[0m in \u001b[0;36m<module>\u001b[1;34m\u001b[0m\n\u001b[0;32m      6\u001b[0m \u001b[1;33m\u001b[0m\u001b[0m\n\u001b[0;32m      7\u001b[0m \u001b[0mbset\u001b[0m \u001b[1;33m=\u001b[0m \u001b[1;33m{\u001b[0m\u001b[1;33m}\u001b[0m\u001b[1;33m\u001b[0m\u001b[1;33m\u001b[0m\u001b[0m\n\u001b[1;32m----> 8\u001b[1;33m \u001b[0mprint\u001b[0m\u001b[1;33m(\u001b[0m\u001b[0mbset\u001b[0m\u001b[1;33m.\u001b[0m\u001b[0mpop\u001b[0m\u001b[1;33m(\u001b[0m\u001b[1;33m)\u001b[0m\u001b[1;33m)\u001b[0m                 \u001b[1;31m# TypeError, because set is empty\u001b[0m\u001b[1;33m\u001b[0m\u001b[1;33m\u001b[0m\u001b[0m\n\u001b[0m",
      "\u001b[1;31mTypeError\u001b[0m: pop expected at least 1 arguments, got 0"
     ]
    }
   ],
   "source": [
    "aset = {'i', 'c', 4, 5, 6, 7, 'a', 'k', 'b', 'd', 'j'}\n",
    "print(aset, '\\n')\n",
    "\n",
    "print('removed: ', aset.pop())    # remove any arbitrary element\n",
    "print(aset, '\\n')\n",
    "\n",
    "bset = {}\n",
    "print(bset.pop())                 # TypeError, because set is empty"
   ]
  },
  {
   "cell_type": "markdown",
   "metadata": {},
   "source": [
    "# Immutable Set Operations\n",
    "-------------"
   ]
  },
  {
   "cell_type": "markdown",
   "metadata": {},
   "source": [
    "## Union"
   ]
  },
  {
   "cell_type": "code",
   "execution_count": 5,
   "metadata": {},
   "outputs": [
    {
     "name": "stdout",
     "output_type": "stream",
     "text": [
      "{0, 1, 2, 3, 4}\n",
      "{0, 1, 2}\n",
      "\n",
      "{0, 1, 2, 3, 4}\n",
      "{0, 1, 2}\n"
     ]
    }
   ],
   "source": [
    "a = {0,1,2}\n",
    "b = {2,3,4}\n",
    "\n",
    "print(a.union(b))\n",
    "print(a, \"\\n\")\n",
    "\n",
    "print(a | b)\n",
    "print(a)"
   ]
  },
  {
   "cell_type": "markdown",
   "metadata": {},
   "source": [
    "## Intersection"
   ]
  },
  {
   "cell_type": "code",
   "execution_count": 8,
   "metadata": {
    "scrolled": true
   },
   "outputs": [
    {
     "name": "stdout",
     "output_type": "stream",
     "text": [
      "{2}\n",
      "{0, 1, 2} \n",
      "\n",
      "{2}\n",
      "{0, 1, 2}\n"
     ]
    }
   ],
   "source": [
    "a = {0,1,2}\n",
    "b = {2,3,4}\n",
    "\n",
    "print(a.intersection(b))\n",
    "print(a, '\\n')\n",
    "\n",
    "print(a & b)\n",
    "print(a)"
   ]
  },
  {
   "cell_type": "markdown",
   "metadata": {},
   "source": [
    "## Difference"
   ]
  },
  {
   "cell_type": "code",
   "execution_count": 11,
   "metadata": {},
   "outputs": [
    {
     "name": "stdout",
     "output_type": "stream",
     "text": [
      "{0, 1}\n",
      "{0, 1, 2} \n",
      "\n",
      "{0, 1}\n",
      "{0, 1, 2}\n"
     ]
    }
   ],
   "source": [
    "a = {0,1,2}\n",
    "b = {2,3,4}\n",
    "\n",
    "print(a.difference(b))\n",
    "print(a, '\\n')\n",
    "\n",
    "print(a - b)\n",
    "print(a)"
   ]
  },
  {
   "cell_type": "markdown",
   "metadata": {},
   "source": [
    "## Symmetric Difference\n",
    "\n",
    "Elements those are exists in either one of set but not in both."
   ]
  },
  {
   "cell_type": "code",
   "execution_count": 13,
   "metadata": {
    "scrolled": false
   },
   "outputs": [
    {
     "name": "stdout",
     "output_type": "stream",
     "text": [
      "{0, 1, 3, 4}\n",
      "{0, 1, 2} \n",
      "\n",
      "{0, 1, 3, 4}\n",
      "{0, 1, 2}\n"
     ]
    }
   ],
   "source": [
    "a = {0,1,2}\n",
    "b = {2,3,4}\n",
    "\n",
    "print(a.symmetric_difference(b))\n",
    "print(a, '\\n')\n",
    "\n",
    "print(a ^ b)\n",
    "print(a)"
   ]
  },
  {
   "cell_type": "markdown",
   "metadata": {},
   "source": [
    "# Mutable Set Operations\n",
    "-------------"
   ]
  },
  {
   "cell_type": "markdown",
   "metadata": {},
   "source": [
    "## Union"
   ]
  },
  {
   "cell_type": "code",
   "execution_count": 17,
   "metadata": {},
   "outputs": [
    {
     "name": "stdout",
     "output_type": "stream",
     "text": [
      "None\n",
      "{0, 1, 2, 3, 4}\n"
     ]
    }
   ],
   "source": [
    "a = {0,1,2}\n",
    "b = {2,3,4}\n",
    "\n",
    "print(a.update(b))\n",
    "print(a)"
   ]
  },
  {
   "cell_type": "code",
   "execution_count": 23,
   "metadata": {},
   "outputs": [
    {
     "name": "stdout",
     "output_type": "stream",
     "text": [
      "{0, 1, 2, 3, 4}\n"
     ]
    }
   ],
   "source": [
    "a = {0,1,2}\n",
    "b = {2,3,4}\n",
    "\n",
    "a |= b\n",
    "print(a)"
   ]
  },
  {
   "cell_type": "markdown",
   "metadata": {},
   "source": [
    "## Intersection"
   ]
  },
  {
   "cell_type": "code",
   "execution_count": 24,
   "metadata": {},
   "outputs": [
    {
     "name": "stdout",
     "output_type": "stream",
     "text": [
      "None\n",
      "{2}\n"
     ]
    }
   ],
   "source": [
    "a = {0,1,2}\n",
    "b = {2,3,4}\n",
    "\n",
    "print(a.intersection_update(b))\n",
    "print(a)"
   ]
  },
  {
   "cell_type": "code",
   "execution_count": 26,
   "metadata": {},
   "outputs": [
    {
     "name": "stdout",
     "output_type": "stream",
     "text": [
      "{2}\n"
     ]
    }
   ],
   "source": [
    "a = {0,1,2}\n",
    "b = {2,3,4}\n",
    "\n",
    "a &= b\n",
    "print(a)"
   ]
  },
  {
   "cell_type": "markdown",
   "metadata": {},
   "source": [
    "## Difference"
   ]
  },
  {
   "cell_type": "code",
   "execution_count": 27,
   "metadata": {},
   "outputs": [
    {
     "name": "stdout",
     "output_type": "stream",
     "text": [
      "None\n",
      "{0, 1}\n"
     ]
    }
   ],
   "source": [
    "a = {0,1,2}\n",
    "b = {2,3,4}\n",
    "\n",
    "print(a.difference_update(b))\n",
    "print(a)"
   ]
  },
  {
   "cell_type": "code",
   "execution_count": 28,
   "metadata": {},
   "outputs": [
    {
     "name": "stdout",
     "output_type": "stream",
     "text": [
      "{0, 1}\n"
     ]
    }
   ],
   "source": [
    "a = {0,1,2}\n",
    "b = {2,3,4}\n",
    "\n",
    "a -= b\n",
    "print(a)"
   ]
  },
  {
   "cell_type": "markdown",
   "metadata": {},
   "source": [
    "## Symmetric Difference"
   ]
  },
  {
   "cell_type": "code",
   "execution_count": 29,
   "metadata": {},
   "outputs": [
    {
     "name": "stdout",
     "output_type": "stream",
     "text": [
      "None\n",
      "{0, 1, 3, 4}\n"
     ]
    }
   ],
   "source": [
    "a = {0,1,2}\n",
    "b = {2,3,4}\n",
    "\n",
    "print(a.symmetric_difference_update(b))\n",
    "print(a)"
   ]
  },
  {
   "cell_type": "code",
   "execution_count": 30,
   "metadata": {},
   "outputs": [
    {
     "name": "stdout",
     "output_type": "stream",
     "text": [
      "{0, 1, 3, 4}\n"
     ]
    }
   ],
   "source": [
    "a = {0,1,2}\n",
    "b = {2,3,4}\n",
    "\n",
    "a ^= b\n",
    "print(a)"
   ]
  },
  {
   "cell_type": "markdown",
   "metadata": {},
   "source": [
    "# Check Subset"
   ]
  },
  {
   "cell_type": "code",
   "execution_count": 48,
   "metadata": {},
   "outputs": [
    {
     "name": "stdout",
     "output_type": "stream",
     "text": [
      "True\n",
      "True\n",
      "False\n",
      "\n",
      "True\n",
      "True\n",
      "\n",
      "False\n",
      "True\n"
     ]
    }
   ],
   "source": [
    "a = {0,1,2}\n",
    "b = {0, 1, 2, 3, 4, 5, 6, 7, 8, 9}\n",
    "c = {1, 2, 3, 4}\n",
    "\n",
    "print(a.issubset(b))\n",
    "print(c.issubset(b))\n",
    "print(a.issubset(c))\n",
    "print()\n",
    "\n",
    "print(a < b)\n",
    "print(b > c)\n",
    "print()\n",
    "\n",
    "print(a < a)  # strict subset\n",
    "print(a <= a) # subset"
   ]
  }
 ],
 "metadata": {
  "kernelspec": {
   "display_name": "Python 3",
   "language": "python",
   "name": "python3"
  },
  "language_info": {
   "codemirror_mode": {
    "name": "ipython",
    "version": 3
   },
   "file_extension": ".py",
   "mimetype": "text/x-python",
   "name": "python",
   "nbconvert_exporter": "python",
   "pygments_lexer": "ipython3",
   "version": "3.7.2"
  }
 },
 "nbformat": 4,
 "nbformat_minor": 2
}
