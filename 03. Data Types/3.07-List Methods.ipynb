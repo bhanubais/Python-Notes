{
 "cells": [
  {
   "cell_type": "markdown",
   "metadata": {},
   "source": [
    "# Number of Elements in a list\n",
    "\n",
    "**`len(obj, /)`**: Return the number of items in a container."
   ]
  },
  {
   "cell_type": "code",
   "execution_count": 35,
   "metadata": {
    "scrolled": true
   },
   "outputs": [
    {
     "name": "stdout",
     "output_type": "stream",
     "text": [
      "10\n"
     ]
    }
   ],
   "source": [
    "alist = list('abcdefabcd')\n",
    "\n",
    "print(len(alist))"
   ]
  },
  {
   "cell_type": "markdown",
   "metadata": {},
   "source": [
    "# Sorting / Reversing\n",
    "\n",
    "## Immutable Sorting\n",
    "\n",
    " - **`sorted(iterable, /, *, key=None, reverse=False)`**"
   ]
  },
  {
   "cell_type": "code",
   "execution_count": 7,
   "metadata": {
    "scrolled": true
   },
   "outputs": [
    {
     "name": "stdout",
     "output_type": "stream",
     "text": [
      "[9, 6, 0, 3]\n",
      "\n",
      "[0, 3, 6, 9]\n",
      "[9, 6, 3, 0]\n",
      "\n",
      "[9, 6, 0, 3]\n"
     ]
    }
   ],
   "source": [
    "alist = [9,6,0,3]\n",
    "print(alist)\n",
    "print()\n",
    "\n",
    "print(sorted(alist))\n",
    "print(sorted(alist, reverse=True))\n",
    "print()\n",
    "\n",
    "print(alist) # Doesn't change"
   ]
  },
  {
   "cell_type": "code",
   "execution_count": 15,
   "metadata": {},
   "outputs": [
    {
     "name": "stdout",
     "output_type": "stream",
     "text": [
      "['ram', 'krishna', 'murli', 'manohar']\n",
      "\n",
      "['krishna', 'manohar', 'murli', 'ram']\n",
      "['ram', 'murli', 'manohar', 'krishna']\n",
      "\n",
      "['ram', 'krishna', 'murli', 'manohar']\n"
     ]
    }
   ],
   "source": [
    "names = 'ram krishna murli manohar'.split()\n",
    "print(names)\n",
    "print()\n",
    "\n",
    "print(sorted(names))\n",
    "print(sorted(names, reverse=True))\n",
    "print()\n",
    "\n",
    "print(names) # Doesn't Change"
   ]
  },
  {
   "cell_type": "markdown",
   "metadata": {},
   "source": [
    "## Mutable Sorting\n",
    "\n",
    " - **`sort(self, /, *, key=None, reverse=False)`**"
   ]
  },
  {
   "cell_type": "code",
   "execution_count": 12,
   "metadata": {
    "scrolled": false
   },
   "outputs": [
    {
     "name": "stdout",
     "output_type": "stream",
     "text": [
      "[9, 6, 0, 3]\n",
      "\n",
      "None\n",
      "[0, 3, 6, 9]\n",
      "\n",
      "None\n",
      "[9, 6, 3, 0]\n"
     ]
    }
   ],
   "source": [
    "alist = [9,6,0,3]\n",
    "print(alist)\n",
    "print()\n",
    "\n",
    "print(alist.sort())\n",
    "print(alist) # Changed\n",
    "print()\n",
    "\n",
    "print(alist.sort(reverse=True))\n",
    "print(alist) # Changed"
   ]
  },
  {
   "cell_type": "code",
   "execution_count": 17,
   "metadata": {},
   "outputs": [
    {
     "name": "stdout",
     "output_type": "stream",
     "text": [
      "['ram', 'krishna', 'murli', 'manohar']\n",
      "\n",
      "None\n",
      "['krishna', 'manohar', 'murli', 'ram']\n",
      "\n",
      "None\n",
      "['ram', 'murli', 'manohar', 'krishna']\n"
     ]
    }
   ],
   "source": [
    "names = 'ram krishna murli manohar'.split()\n",
    "print(names)\n",
    "print()\n",
    "\n",
    "print(names.sort())\n",
    "print(names) # Changed\n",
    "print()\n",
    "\n",
    "print(names.sort(reverse=True))\n",
    "print(names) # Changed"
   ]
  },
  {
   "cell_type": "markdown",
   "metadata": {},
   "source": [
    " ## Mutable Reverse\n",
    " \n",
    " - **`reverse(self, /)`**\n",
    " - There is none built-in Immutable sorting method for list in Python"
   ]
  },
  {
   "cell_type": "code",
   "execution_count": 14,
   "metadata": {},
   "outputs": [
    {
     "name": "stdout",
     "output_type": "stream",
     "text": [
      "[9, 6, 0, 3]\n",
      "\n",
      "None\n",
      "[3, 0, 6, 9]\n"
     ]
    }
   ],
   "source": [
    "alist = [9,6,0,3]\n",
    "print(alist)\n",
    "print()\n",
    "\n",
    "print(alist.reverse())\n",
    "print(alist) # Changed"
   ]
  },
  {
   "cell_type": "code",
   "execution_count": 19,
   "metadata": {
    "scrolled": true
   },
   "outputs": [
    {
     "name": "stdout",
     "output_type": "stream",
     "text": [
      "['ram', 'krishna', 'murli', 'manohar']\n",
      "\n",
      "None\n",
      "['manohar', 'murli', 'krishna', 'ram']\n"
     ]
    }
   ],
   "source": [
    "names = 'ram krishna murli manohar'.split()\n",
    "print(names)\n",
    "print()\n",
    "\n",
    "print(names.reverse())\n",
    "print(names) # Changed"
   ]
  },
  {
   "cell_type": "markdown",
   "metadata": {},
   "source": [
    "# `count(self, value, /)`\n",
    "\n",
    "**Return number of occurrences of value.**"
   ]
  },
  {
   "cell_type": "code",
   "execution_count": 5,
   "metadata": {},
   "outputs": [
    {
     "name": "stdout",
     "output_type": "stream",
     "text": [
      "6\n",
      "0\n",
      "0\n"
     ]
    }
   ],
   "source": [
    "alist = list('abcdefgabcdefabcdeabcdabcaba')\n",
    "\n",
    "print(alist.count('b'))\n",
    "print(alist.count('z'))\n",
    "print(alist.count(459))"
   ]
  },
  {
   "cell_type": "markdown",
   "metadata": {},
   "source": [
    "# Split a string\n",
    "\n",
    "**`astr.split(self, /, sep=None, maxsplit=-1)`**\n",
    "\n",
    " - **`sep`**: The delimiter according which to split the string. None (the default value) means split according to any whitespace, and discard empty strings from the result.\n",
    " - **`maxsplit`**: Maximum number of splits to do. -1 (the default value) means no limit. Split 'maxsplit' number of items and leave rest without split in next element."
   ]
  },
  {
   "cell_type": "code",
   "execution_count": 10,
   "metadata": {
    "scrolled": true
   },
   "outputs": [
    {
     "name": "stdout",
     "output_type": "stream",
     "text": [
      "['Maximum', 'Desires,', 'Line', 'Graphics,', 'Grey', 'Studio,', 'Kamine', 'Infotech']\n",
      "['Maximum', 'Desires,', 'Line Graphics, Grey Studio, Kamine Infotech']\n",
      "\n",
      "['Maximum Desires', ' Line Graphics', ' Grey Studio', ' Kamine Infotech']\n",
      "['Maximum Desires', ' Line Graphics', ' Grey Studio, Kamine Infotech']\n"
     ]
    }
   ],
   "source": [
    "quote1 = 'Maximum Desires, Line Graphics, Grey Studio, Kamine Infotech'\n",
    "\n",
    "print(quote1.split())\n",
    "print(quote1.split(maxsplit=2))\n",
    "print()\n",
    "\n",
    "print(quote1.split(','))\n",
    "print(quote1.split(',', maxsplit=2))\n"
   ]
  },
  {
   "cell_type": "markdown",
   "metadata": {},
   "source": [
    "# Concatenate a list\n",
    "\n",
    "**`astr.join(self, iterable, /)`**\n",
    "\n",
    " - Concatenate any number of strings.\n",
    " - The string whose method is called is inserted in between each given string. The result is returned as a new string."
   ]
  },
  {
   "cell_type": "code",
   "execution_count": 13,
   "metadata": {
    "scrolled": true
   },
   "outputs": [
    {
     "name": "stdout",
     "output_type": "stream",
     "text": [
      "'abc'\n",
      "'a-b-c'\n"
     ]
    }
   ],
   "source": [
    "alist = ['a', 'b', 'c']\n",
    "print(repr(''.join(alist)))\n",
    "print(repr('-'.join(alist)))"
   ]
  },
  {
   "cell_type": "markdown",
   "metadata": {},
   "source": [
    "# Mathematical operations on a list"
   ]
  },
  {
   "cell_type": "code",
   "execution_count": 14,
   "metadata": {
    "scrolled": false
   },
   "outputs": [
    {
     "name": "stdout",
     "output_type": "stream",
     "text": [
      "4123\n",
      "1\n",
      "4974\n",
      "9\n"
     ]
    }
   ],
   "source": [
    "alist = [54,654,4123,5,84,1,32,15,6]\n",
    "print(max(alist))\t# 4123\n",
    "print(min(alist))\t# 1\n",
    "print(sum(alist))\t# 4974\n",
    "print(len(alist))\t# 9"
   ]
  },
  {
   "cell_type": "markdown",
   "metadata": {},
   "source": [
    "# Enumerating a list"
   ]
  },
  {
   "cell_type": "code",
   "execution_count": 16,
   "metadata": {},
   "outputs": [
    {
     "name": "stdout",
     "output_type": "stream",
     "text": [
      "dogs\n",
      "cats\n",
      "turtles\n",
      "rabbits\n"
     ]
    }
   ],
   "source": [
    "pets = [\"dogs\", \"cats\", \"turtles\", \"rabbits\"]\n",
    "for p in pets:\n",
    "    print(p)"
   ]
  },
  {
   "cell_type": "code",
   "execution_count": 17,
   "metadata": {
    "scrolled": true
   },
   "outputs": [
    {
     "name": "stdout",
     "output_type": "stream",
     "text": [
      "0 dogs\n",
      "1 cats\n",
      "2 turtles\n",
      "3 rabbits\n"
     ]
    }
   ],
   "source": [
    "for i, p in enumerate(pets):\n",
    "    print(i, p)"
   ]
  },
  {
   "cell_type": "code",
   "execution_count": 18,
   "metadata": {},
   "outputs": [
    {
     "name": "stdout",
     "output_type": "stream",
     "text": [
      "7 dogs\n",
      "8 cats\n",
      "9 turtles\n",
      "10 rabbits\n"
     ]
    }
   ],
   "source": [
    "for i, p in enumerate(pets, 7):\n",
    "    print(i, p)"
   ]
  },
  {
   "cell_type": "markdown",
   "metadata": {},
   "source": [
    "# List Comprehensions"
   ]
  },
  {
   "cell_type": "markdown",
   "metadata": {},
   "source": [
    "### Example 1:\n",
    "\n",
    "create a list of all possible coordinates given by (i,j,k) on a 3D grid where the sum of i+j+k is not equal to N. Here *0<=i<=x; 0<=j<=y; 0<=k<=z*.\n",
    "\n",
    "Please take N = 2 for demonstration purpose.\n",
    "\n",
    "Also Bound Cordinate plane to not to stuck in infinite loop."
   ]
  },
  {
   "cell_type": "code",
   "execution_count": 23,
   "metadata": {},
   "outputs": [],
   "source": [
    "# Bounding Coordinate System\n",
    "X, Y, Z = 2, 2, 2\n",
    "\n",
    "# Other Global Variables:\n",
    "N = 2\n",
    "output = list()"
   ]
  },
  {
   "cell_type": "code",
   "execution_count": 24,
   "metadata": {},
   "outputs": [
    {
     "name": "stdout",
     "output_type": "stream",
     "text": [
      "[[0, 0, 0], [0, 0, 1], [0, 1, 0], [0, 1, 2], [0, 2, 1], [0, 2, 2], [1, 0, 0], [1, 0, 2], [1, 1, 1], [1, 1, 2], [1, 2, 0], [1, 2, 1], [1, 2, 2], [2, 0, 1], [2, 0, 2], [2, 1, 0], [2, 1, 1], [2, 1, 2], [2, 2, 0], [2, 2, 1], [2, 2, 2]]\n"
     ]
    }
   ],
   "source": [
    "# Generic Method\n",
    "# =========================\n",
    "for i in range(X+1):\n",
    "    for j in range(Y+1):\n",
    "        for k in range(Z+1):\n",
    "            if i+j+k != N:\n",
    "                output.append([i, j, k])\n",
    "                \n",
    "print(output)"
   ]
  },
  {
   "cell_type": "code",
   "execution_count": 32,
   "metadata": {
    "scrolled": true
   },
   "outputs": [
    {
     "name": "stdout",
     "output_type": "stream",
     "text": [
      "[[0, 0, 0], [0, 0, 1], [0, 1, 0], [0, 1, 2], [0, 2, 1], [0, 2, 2], [1, 0, 0], [1, 0, 2], [1, 1, 1], [1, 1, 2], [1, 2, 0], [1, 2, 1], [1, 2, 2], [2, 0, 1], [2, 0, 2], [2, 1, 0], [2, 1, 1], [2, 1, 2], [2, 2, 0], [2, 2, 1], [2, 2, 2]]\n"
     ]
    }
   ],
   "source": [
    "# List comprehensians Method\n",
    "# ===========================\n",
    "output = list([i, j, k] for i in range(X+1) \\\n",
    "              for j in range (Y+1) \\\n",
    "              for k in range(Z+1) \\\n",
    "              if i+j+k != N)\n",
    "\n",
    "print(output)"
   ]
  }
 ],
 "metadata": {
  "kernelspec": {
   "display_name": "Python 3",
   "language": "python",
   "name": "python3"
  },
  "language_info": {
   "codemirror_mode": {
    "name": "ipython",
    "version": 3
   },
   "file_extension": ".py",
   "mimetype": "text/x-python",
   "name": "python",
   "nbconvert_exporter": "python",
   "pygments_lexer": "ipython3",
   "version": "3.7.2"
  }
 },
 "nbformat": 4,
 "nbformat_minor": 2
}
