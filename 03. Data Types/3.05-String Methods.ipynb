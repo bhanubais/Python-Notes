{
 "cells": [
  {
   "cell_type": "markdown",
   "metadata": {},
   "source": [
    "# Type Cases\n",
    "------------"
   ]
  },
  {
   "cell_type": "code",
   "execution_count": 5,
   "metadata": {},
   "outputs": [
    {
     "name": "stdout",
     "output_type": "stream",
     "text": [
      "The quick brown fox\n",
      "The Quick Brown Fox\n",
      "THE QUICK BROWN FOX\n",
      "the quick brown fox\n",
      "ThE QuicK BRowN fOx\n"
     ]
    }
   ],
   "source": [
    "s = \"tHe qUICk brOWn FoX\"\n",
    "print(s.capitalize())   # The quick brown fox\n",
    "print(s.title())        # The Quick Brown Fox\n",
    "print(s.upper())        # THE QUICK BROWN FOX\n",
    "print(s.lower())        # the quick brown fox\n",
    "print(s.swapcase())     # ThE QuicK BRowN fOx"
   ]
  },
  {
   "cell_type": "markdown",
   "metadata": {},
   "source": [
    "# Testing\n",
    "-------------\n",
    "\n",
    "### Alphabets only"
   ]
  },
  {
   "cell_type": "code",
   "execution_count": 1,
   "metadata": {
    "scrolled": true
   },
   "outputs": [
    {
     "name": "stdout",
     "output_type": "stream",
     "text": [
      "True\n",
      "False\n",
      "False\n",
      "False\n",
      "False\n"
     ]
    }
   ],
   "source": [
    "print('ladiIJJ'.isalpha())   # True\n",
    "print('343535'.isalpha())    # False\n",
    "print('2323dkdi'.isalpha())  # False\n",
    "print(''.isalpha())          # False\n",
    "print('#$#lai'.isalpha())    # False"
   ]
  },
  {
   "cell_type": "markdown",
   "metadata": {},
   "source": [
    "### Alphabets or Numerics Only"
   ]
  },
  {
   "cell_type": "code",
   "execution_count": 2,
   "metadata": {
    "scrolled": true
   },
   "outputs": [
    {
     "name": "stdout",
     "output_type": "stream",
     "text": [
      "True\n",
      "True\n",
      "True\n",
      "False\n",
      "False\n",
      "False\n"
     ]
    }
   ],
   "source": [
    "print('546'.isalnum())       # True\n",
    "print('abc'.isalnum())       # True\n",
    "print('abcd2342'.isalnum())  # True\n",
    "print(''.isalnum())          # False\n",
    "print('ab cd2342'.isalnum()) # False (space)\n",
    "print('5d46$'.isalnum())     # False ($)"
   ]
  },
  {
   "cell_type": "markdown",
   "metadata": {},
   "source": [
    "### Digits Only"
   ]
  },
  {
   "cell_type": "code",
   "execution_count": 3,
   "metadata": {},
   "outputs": [
    {
     "name": "stdout",
     "output_type": "stream",
     "text": [
      "True\n",
      "False\n",
      "False\n",
      "False\n",
      "False\n",
      "False\n"
     ]
    }
   ],
   "source": [
    "print('343535'.isdigit())    # True\n",
    "print('34 3535'.isdigit())   # False (space)\n",
    "print('ladiIJJ'.isdigit())   # False\n",
    "print('2323dkdi'.isdigit())  # False\n",
    "print(''.isdigit())          # False\n",
    "print('#$#lai'.isdigit())    # False"
   ]
  },
  {
   "cell_type": "markdown",
   "metadata": {},
   "source": [
    "### White Spaces Only"
   ]
  },
  {
   "cell_type": "code",
   "execution_count": 4,
   "metadata": {
    "scrolled": true
   },
   "outputs": [
    {
     "name": "stdout",
     "output_type": "stream",
     "text": [
      "True\n",
      "True\n",
      "True\n",
      "True\n",
      "False\n",
      "False\n",
      "False\n",
      "False\n"
     ]
    }
   ],
   "source": [
    "print(' '.isspace())             # True\n",
    "print('      '.isspace())        # True\n",
    "print('\\t'.isspace())            # True\n",
    "print('\\t  \\n '.isspace())       # True\n",
    "print('ki lkad'.isspace())       # False\n",
    "print('ki lk ad'.isspace())      # False\n",
    "print('kilk\\tad'.isspace())      # False\n",
    "print(''.isspace())              # False"
   ]
  },
  {
   "cell_type": "markdown",
   "metadata": {},
   "source": [
    "### Is lowercase?\n",
    "\n",
    "If given string contains alphabet(s), whether these all are lowercase?"
   ]
  },
  {
   "cell_type": "code",
   "execution_count": 6,
   "metadata": {},
   "outputs": [
    {
     "name": "stdout",
     "output_type": "stream",
     "text": [
      "True\n",
      "True\n",
      "True\n",
      "False\n",
      "False\n",
      "False\n",
      "False\n"
     ]
    }
   ],
   "source": [
    "print('lkfdaislkl'.islower())        # True\n",
    "print('513dfdf4'.islower())          # True\n",
    "print('51#$\\t#%\\n3dfdf4'.islower())  # True\n",
    "print('lkfDSFdaislkl'.islower())     # False\n",
    "print('KLDFIJL'.islower())           # False\n",
    "print('51366654'.islower())          # False\n",
    "print(''.islower())                  # False"
   ]
  },
  {
   "cell_type": "markdown",
   "metadata": {},
   "source": [
    "### Is UPPERCASE?\n",
    "\n",
    "If given string contains alphabet(s), whether these all are UPPERCASE?"
   ]
  },
  {
   "cell_type": "code",
   "execution_count": 7,
   "metadata": {},
   "outputs": [
    {
     "name": "stdout",
     "output_type": "stream",
     "text": [
      "True\n",
      "True\n",
      "True\n",
      "False\n",
      "False\n",
      "False\n",
      "False\n"
     ]
    }
   ],
   "source": [
    "print('KLDFIJL'.isupper())           # True\n",
    "print('513DFDF4'.isupper())          # True\n",
    "print('51#$\\t#%\\n3DFFD4'.isupper())  # True\n",
    "print('lkfDSFdaislkl'.isupper())     # False\n",
    "print('lkfdaislkl'.isupper())        # False\n",
    "print('51366654'.isupper())          # False\n",
    "print(''.isupper())                  # False"
   ]
  },
  {
   "cell_type": "markdown",
   "metadata": {},
   "source": [
    "### Is Titlecase?\n",
    "\n",
    "If givent string contains word(s), whether these all are TitleCase?"
   ]
  },
  {
   "cell_type": "code",
   "execution_count": 22,
   "metadata": {
    "scrolled": true
   },
   "outputs": [
    {
     "name": "stdout",
     "output_type": "stream",
     "text": [
      "True\n",
      "False\n",
      "False\n",
      "\n",
      "True\n",
      "True\n",
      "True\n"
     ]
    }
   ],
   "source": [
    "print('The Brows Fox.'.istitle())    # True\n",
    "print('The brows fox.'.istitle())    # False\n",
    "print('The brows Fox.'.istitle())    # False\n",
    "print()\n",
    "print('232The Brown'.istitle())      # True\n",
    "print('The Brown @#'.istitle())      # True\n",
    "print('The #$% Brown @#'.istitle())  # True"
   ]
  },
  {
   "cell_type": "markdown",
   "metadata": {},
   "source": [
    "### Starts with"
   ]
  },
  {
   "cell_type": "code",
   "execution_count": 21,
   "metadata": {},
   "outputs": [
    {
     "name": "stdout",
     "output_type": "stream",
     "text": [
      "True\n",
      "True\n",
      "True\n",
      "\n",
      "True\n",
      "True\n",
      "False\n"
     ]
    }
   ],
   "source": [
    "print('mnpabcdefghij'.startswith('mn'))        # True\n",
    "print('abcdefghij'.startswith(('abc', 'zyx'))) # True (starts with 'abc' or 'zyx')\n",
    "print('zyxbcdehij'.startswith(('abc', 'zyx'))) # True\n",
    "print()\n",
    "print('mnpabcdefghij'.startswith(('abc', 'zyx'), 3))  # True (ignore first 3 characters)\n",
    "print('mnxyzpq'.startswith('xyz', 2, 5))       # True (Search within indexed 2 to 5th)\n",
    "print('mnxyzpq'.startswith('xyz', 2, 4))       # False"
   ]
  },
  {
   "cell_type": "markdown",
   "metadata": {},
   "source": [
    "### Ends with"
   ]
  },
  {
   "cell_type": "code",
   "execution_count": 24,
   "metadata": {
    "scrolled": false
   },
   "outputs": [
    {
     "name": "stdout",
     "output_type": "stream",
     "text": [
      "True\n",
      "True\n",
      "True\n",
      "True\n",
      "\n",
      "True\n",
      "False\n",
      "False\n",
      "False\n"
     ]
    }
   ],
   "source": [
    "print('abcdxyz'.endswith('yz'))            # True\n",
    "print('abcdxyz'.endswith('xyz'))           # True\n",
    "print('abcdefgh'.endswith(('gh', 'yz')))   # True\n",
    "print('abcdefyz'.endswith(('gh', 'yz')))   # True\n",
    "print()\n",
    "print('ab pqrs xyz'.endswith('rs', 1, 7))  # True\n",
    "print('ab pqrs xyz'.endswith('rs', 1, 6))  # False\n",
    "print('ab pqrs xyz'.endswith('rs', 1, 8))  # False\n",
    "print('abcdxyz'.endswith('xy'))            # False"
   ]
  },
  {
   "cell_type": "markdown",
   "metadata": {},
   "source": [
    "# Join sequencial Data\n",
    "--------------\n",
    "\n",
    "This method join sequencial Data which has string elements.\n",
    "\n",
    "In case of dictionary, This method apply only on keys."
   ]
  },
  {
   "cell_type": "code",
   "execution_count": 33,
   "metadata": {
    "scrolled": false
   },
   "outputs": [
    {
     "name": "stdout",
     "output_type": "stream",
     "text": [
      "a--b--c--d\n",
      "abc--ghi\n",
      "abc--ghi\n",
      "abc--ghi\n",
      "\n",
      "+abc+abc+abc+\n",
      "\n"
     ]
    }
   ],
   "source": [
    "print('--'.join('abcd'))\n",
    "print('--'.join(['abc', 'ghi']))\n",
    "print('--'.join(('abc', 'ghi')))\n",
    "print('--'.join({'abc': 23, 'ghi': 54}))\n",
    "print()\n",
    "print('abc'.join('++++'))\n",
    "\n",
    "# NOTE: This will not produce any result.\n",
    "print('abc'.join(''))"
   ]
  },
  {
   "cell_type": "markdown",
   "metadata": {},
   "source": [
    "# String Alignment Methods\n",
    "----------\n",
    "\n",
    "### Left Align:"
   ]
  },
  {
   "cell_type": "code",
   "execution_count": 61,
   "metadata": {
    "scrolled": false
   },
   "outputs": [
    {
     "name": "stdout",
     "output_type": "stream",
     "text": [
      "'abc       '\n",
      "'abc.......'\n",
      "'abc+++++++'\n",
      "'0000xxxxxx'\n",
      "\n",
      "'-3.1400000'\n",
      "'abcdefghijklmnopqrstuvwxyz'\n"
     ]
    }
   ],
   "source": [
    "# Using .ljust() Method\n",
    "\n",
    "print(repr('abc'.ljust(10)))\n",
    "print(repr('abc'.ljust(10, '.')))\n",
    "print(repr('abc'.ljust(10, '+')))\n",
    "print(repr(('0'*4).ljust(10, 'x')))\n",
    "print()\n",
    "print(repr('-3.14'.ljust(10, '0')))\n",
    "print(repr('abcdefghijklmnopqrstuvwxyz'.ljust(10, '+')))"
   ]
  },
  {
   "cell_type": "code",
   "execution_count": 44,
   "metadata": {
    "scrolled": true
   },
   "outputs": [
    {
     "name": "stdout",
     "output_type": "stream",
     "text": [
      "'abc       '\n",
      "'abc.......'\n",
      "'abc+++++++'\n",
      "'0000xxxxxx'\n"
     ]
    }
   ],
   "source": [
    "# Using .format() Method\n",
    "\n",
    "print(repr('{:<10}'.format('abc')))\n",
    "print(repr('{:.<10}'.format('abc')))\n",
    "print(repr('{:+<10}'.format('abc')))\n",
    "print(repr('{:x<10}'.format('0'*4)))"
   ]
  },
  {
   "cell_type": "markdown",
   "metadata": {},
   "source": [
    "### Right Align:"
   ]
  },
  {
   "cell_type": "code",
   "execution_count": 62,
   "metadata": {
    "scrolled": false
   },
   "outputs": [
    {
     "name": "stdout",
     "output_type": "stream",
     "text": [
      "'       abc'\n",
      "'.......abc'\n",
      "'+++++++abc'\n",
      "'xxxxxx0000'\n",
      "\n",
      "'00000-3.14'\n",
      "'abcdefghijklmnopqrstuvwxyz'\n"
     ]
    }
   ],
   "source": [
    "# Using .rjust() Method\n",
    "\n",
    "print(repr('abc'.rjust(10)))\n",
    "print(repr('abc'.rjust(10, '.')))\n",
    "print(repr('abc'.rjust(10, '+')))\n",
    "print(repr(('0'*4).rjust(10, 'x')))\n",
    "print()\n",
    "print(repr('-3.14'.rjust(10, '0')))\n",
    "print(repr('abcdefghijklmnopqrstuvwxyz'.rjust(10, '+')))"
   ]
  },
  {
   "cell_type": "code",
   "execution_count": 58,
   "metadata": {
    "scrolled": false
   },
   "outputs": [
    {
     "name": "stdout",
     "output_type": "stream",
     "text": [
      "'       abc'\n",
      "'.......abc'\n",
      "'+++++++abc'\n",
      "'xxxxxx0000'\n",
      "\n",
      "'+++++-3.14'\n",
      "'abcdefghijklmnopqrstuvwxyz'\n"
     ]
    }
   ],
   "source": [
    "# Using .format() Method\n",
    "\n",
    "print(repr('{:>10}'.format('abc')))\n",
    "print(repr('{:.>10}'.format('abc')))\n",
    "print(repr('{:+>10}'.format('abc')))\n",
    "print(repr('{:x>10}'.format('0'*4)))\n",
    "print()\n",
    "print(repr('{:+>10}'.format('-3.14')))\n",
    "print(repr('{:+>10}'.format('abcdefghijklmnopqrstuvwxyz')))"
   ]
  },
  {
   "cell_type": "code",
   "execution_count": 64,
   "metadata": {},
   "outputs": [
    {
     "name": "stdout",
     "output_type": "stream",
     "text": [
      "'0000000abc'\n",
      "'0000002222'\n",
      "\n",
      "'-000003.14'\n",
      "'abcdefghijklmnopqrstuvwxyz'\n"
     ]
    }
   ],
   "source": [
    "# zero filling: Right align with zeros as filler\n",
    "\n",
    "print(repr('abc'.zfill(10)))\n",
    "print(repr(('2'*4).zfill(10)))\n",
    "print()\n",
    "print(repr('-3.14'.zfill(10))) # NOTE '-' sign\n",
    "print(repr('abcdefghijklmnopqrstuvwxyz'.zfill(10)))"
   ]
  },
  {
   "cell_type": "markdown",
   "metadata": {},
   "source": [
    "### Center Align:"
   ]
  },
  {
   "cell_type": "code",
   "execution_count": 65,
   "metadata": {
    "scrolled": false
   },
   "outputs": [
    {
     "name": "stdout",
     "output_type": "stream",
     "text": [
      "'   abc    '\n",
      "'...abc....'\n",
      "'+++abc++++'\n",
      "'xxx0000xxx'\n",
      "\n",
      "'00-3.14000'\n",
      "'abcdefghijklmnopqrstuvwxyz'\n"
     ]
    }
   ],
   "source": [
    "# Using .center() Method\n",
    "\n",
    "print(repr('abc'.center(10)))\n",
    "print(repr('abc'.center(10, '.')))\n",
    "print(repr('abc'.center(10, '+')))\n",
    "print(repr(('0'*4).center(10, 'x')))\n",
    "print()\n",
    "print(repr('-3.14'.center(10, '0')))\n",
    "print(repr('abcdefghijklmnopqrstuvwxyz'.center(10, '+')))"
   ]
  },
  {
   "cell_type": "code",
   "execution_count": 66,
   "metadata": {
    "scrolled": false
   },
   "outputs": [
    {
     "name": "stdout",
     "output_type": "stream",
     "text": [
      "'   abc    '\n",
      "'...abc....'\n",
      "'+++abc++++'\n",
      "'xxx0000xxx'\n",
      "\n",
      "'++-3.14+++'\n",
      "'abcdefghijklmnopqrstuvwxyz'\n"
     ]
    }
   ],
   "source": [
    "# Using .format() Method\n",
    "\n",
    "print(repr('{:^10}'.format('abc')))\n",
    "print(repr('{:.^10}'.format('abc')))\n",
    "print(repr('{:+^10}'.format('abc')))\n",
    "print(repr('{:x^10}'.format('0'*4)))\n",
    "print()\n",
    "print(repr('{:+^10}'.format('-3.14')))\n",
    "print(repr('{:+^10}'.format('abcdefghijklmnopqrstuvwxyz')))"
   ]
  },
  {
   "cell_type": "markdown",
   "metadata": {},
   "source": [
    "# text wrap\n",
    "------------"
   ]
  },
  {
   "cell_type": "code",
   "execution_count": 81,
   "metadata": {
    "scrolled": true
   },
   "outputs": [
    {
     "name": "stdout",
     "output_type": "stream",
     "text": [
      "Lorem ipsum dolor sit amet, consectetur\n",
      "adipisicing  elit. Iste in reprehenderit\n",
      "laudantium assumenda ab dolore,  ducimus\n",
      "pariatur mollitia. Beatae quaerat nihil,\n",
      "error quis  earum nesciunt assumenda\n",
      "obcaecati in, quam cupiditate  dolorum\n",
      "delectus exercitationem. Sequi dolorem\n",
      "ea fugit  tempora, veniam accusamus\n",
      "distinctio amet, sunt fugiat  repellat,\n",
      "corporis dolorum, velit optio eligendi\n",
      "obcaecati  incidunt autem. Nostrum ipsum\n",
      "magnam maxime sint impedit  ipsam,\n",
      "officiis natus reiciendis est voluptatem\n",
      "voluptatum,  iure provident odit fugit\n",
      "deleniti. At debitis minus, quod  itaque\n",
      "optio est esse. Voluptate ratione,\n",
      "recusandae dolore  provident voluptas at\n",
      "rerum voluptatum magni, doloribus  harum\n",
      "ut commodi ipsam ullam quo laborum\n",
      "beatae cum ea.\n"
     ]
    }
   ],
   "source": [
    "import textwrap\n",
    "\n",
    "s = '''Lorem ipsum dolor sit amet, consectetur\n",
    "adipisicing  elit. Iste in reprehenderit\n",
    "laudantium assumenda ab dolore,  ducimus\n",
    "pariatur mollitia. Beatae quaerat nihil,\n",
    "error quis  earum nesciunt assumenda\n",
    "obcaecati in, quam cupiditate  dolorum\n",
    "delectus exercitationem. Sequi dolorem\n",
    "ea fugit  tempora, veniam accusamus\n",
    "distinctio amet, sunt fugiat  repellat,\n",
    "corporis dolorum, velit optio eligendi\n",
    "obcaecati  incidunt autem. Nostrum ipsum\n",
    "magnam maxime sint impedit  ipsam,\n",
    "officiis natus reiciendis est voluptatem\n",
    "voluptatum,  iure provident odit fugit\n",
    "deleniti. At debitis minus, quod  itaque\n",
    "optio est esse. Voluptate ratione,\n",
    "recusandae dolore  provident voluptas at\n",
    "rerum voluptatum magni, doloribus  harum\n",
    "ut commodi ipsam ullam quo laborum\n",
    "beatae cum ea.'''\n",
    "\n",
    "print(s)"
   ]
  },
  {
   "cell_type": "code",
   "execution_count": 82,
   "metadata": {},
   "outputs": [
    {
     "name": "stdout",
     "output_type": "stream",
     "text": [
      "Lorem ipsum dolor sit amet, consectetur adipisicing  elit. Iste in reprehenderit\n",
      "laudantium assumenda ab dolore,  ducimus pariatur mollitia. Beatae quaerat\n",
      "nihil, error quis  earum nesciunt assumenda obcaecati in, quam cupiditate\n",
      "dolorum delectus exercitationem. Sequi dolorem ea fugit  tempora, veniam\n",
      "accusamus distinctio amet, sunt fugiat  repellat, corporis dolorum, velit optio\n",
      "eligendi obcaecati  incidunt autem. Nostrum ipsum magnam maxime sint impedit\n",
      "ipsam, officiis natus reiciendis est voluptatem voluptatum,  iure provident odit\n",
      "fugit deleniti. At debitis minus, quod  itaque optio est esse. Voluptate\n",
      "ratione, recusandae dolore  provident voluptas at rerum voluptatum magni,\n",
      "doloribus  harum ut commodi ipsam ullam quo laborum beatae cum ea.\n"
     ]
    }
   ],
   "source": [
    "print(textwrap.fill(s, 80))"
   ]
  },
  {
   "cell_type": "code",
   "execution_count": 83,
   "metadata": {
    "scrolled": true
   },
   "outputs": [
    {
     "name": "stdout",
     "output_type": "stream",
     "text": [
      "['Lorem ipsum dolor sit amet, consectetur adipisicing  elit. Iste in reprehenderit', 'laudantium assumenda ab dolore,  ducimus pariatur mollitia. Beatae quaerat', 'nihil, error quis  earum nesciunt assumenda obcaecati in, quam cupiditate', 'dolorum delectus exercitationem. Sequi dolorem ea fugit  tempora, veniam', 'accusamus distinctio amet, sunt fugiat  repellat, corporis dolorum, velit optio', 'eligendi obcaecati  incidunt autem. Nostrum ipsum magnam maxime sint impedit', 'ipsam, officiis natus reiciendis est voluptatem voluptatum,  iure provident odit', 'fugit deleniti. At debitis minus, quod  itaque optio est esse. Voluptate', 'ratione, recusandae dolore  provident voluptas at rerum voluptatum magni,', 'doloribus  harum ut commodi ipsam ullam quo laborum beatae cum ea.']\n"
     ]
    }
   ],
   "source": [
    "print(textwrap.wrap(s, 80))"
   ]
  },
  {
   "cell_type": "markdown",
   "metadata": {},
   "source": [
    "# Remove whitespaces or characters\n",
    "--------------"
   ]
  },
  {
   "cell_type": "markdown",
   "metadata": {},
   "source": [
    "## From Left side"
   ]
  },
  {
   "cell_type": "code",
   "execution_count": 9,
   "metadata": {},
   "outputs": [
    {
     "name": "stdout",
     "output_type": "stream",
     "text": [
      "'spacious      '\n",
      "'example.com'\n",
      "'ample.com'\n",
      "'ample.com'\n"
     ]
    }
   ],
   "source": [
    "# Remove Simple Whitespaces\n",
    "print(repr('     spacious      '.lstrip()))        # 'spacious       '\n",
    "\n",
    "# Remove Specific Characters\n",
    "print(repr('www.example.com'.lstrip('cmo.wz')))    # 'example.com'\n",
    "print(repr('www.example.com'.lstrip('xw.ye')))     # 'ample.com'\n",
    "print(repr('  www.example.com'.lstrip('x w.ye')))  # 'ample.com'"
   ]
  },
  {
   "cell_type": "markdown",
   "metadata": {},
   "source": [
    "## From Right Side"
   ]
  },
  {
   "cell_type": "code",
   "execution_count": 5,
   "metadata": {},
   "outputs": [
    {
     "name": "stdout",
     "output_type": "stream",
     "text": [
      "'     spacious'\n",
      "'     spacious'\n",
      "'www.example'\n",
      "'www.example.co'\n"
     ]
    }
   ],
   "source": [
    "# Remove Simple Whitespaces\n",
    "print(repr('     spacious      '.rstrip()))        # '     spacious'\n",
    "\n",
    "# Remove Specific Characters\n",
    "print(repr('     spacious    \\n'.rstrip()))        # '     spacious'\n",
    "print(repr('www.example.com'.rstrip('cmo.wz')))    # 'www.example'\n",
    "print(repr('www.example.com'.rstrip('mxw.ye')))    # 'www.example.co'"
   ]
  },
  {
   "cell_type": "markdown",
   "metadata": {},
   "source": [
    "## From Both Side"
   ]
  },
  {
   "cell_type": "code",
   "execution_count": 10,
   "metadata": {},
   "outputs": [
    {
     "name": "stdout",
     "output_type": "stream",
     "text": [
      "'spacious'\n",
      "'example'\n",
      "'ample.co'\n"
     ]
    }
   ],
   "source": [
    "# Remove Simple Whitespaces\n",
    "print(repr('     spacious      '.strip()))         # 'spacious'\n",
    "\n",
    "# Remove Specific Characters\n",
    "print(repr('www.example.com'.strip('cmo.wz')))     # 'example'\n",
    "print(repr('www.example.com'.strip('mxw.ye')))     # 'ample.co'"
   ]
  },
  {
   "cell_type": "markdown",
   "metadata": {},
   "source": [
    "# Searching Methods\n",
    "-----------------\n",
    "\n",
    "## Simple Search"
   ]
  },
  {
   "cell_type": "code",
   "execution_count": 84,
   "metadata": {
    "scrolled": true
   },
   "outputs": [
    {
     "name": "stdout",
     "output_type": "stream",
     "text": [
      "True\n",
      "False\n",
      "False\n"
     ]
    }
   ],
   "source": [
    "print('Py' in 'My favourate Python')   # True\n",
    "print('py' in 'My favourate Python')   # False\n",
    "print('Car' in 'My favourate Python')  # False"
   ]
  },
  {
   "cell_type": "markdown",
   "metadata": {},
   "source": [
    "##  Return index from Left side"
   ]
  },
  {
   "cell_type": "markdown",
   "metadata": {},
   "source": [
    "### `S.index(sub[, start[, end]]) -> int`\n",
    " \n",
    " - Get index number from left side\n",
    " - **Raise ValueError on failure**\n",
    " - we can also contrast search by providing contexts. (Optional)"
   ]
  },
  {
   "cell_type": "code",
   "execution_count": 2,
   "metadata": {
    "scrolled": false
   },
   "outputs": [
    {
     "name": "stdout",
     "output_type": "stream",
     "text": [
      "0\n",
      "3\n",
      "3\n",
      "11\n",
      "11\n"
     ]
    },
    {
     "ename": "ValueError",
     "evalue": "substring not found",
     "output_type": "error",
     "traceback": [
      "\u001b[1;31m------------------------------------------------------------\u001b[0m",
      "\u001b[1;31mValueError\u001b[0m                 Traceback (most recent call last)",
      "\u001b[1;32m<ipython-input-2-a9a189d5ac36>\u001b[0m in \u001b[0;36m<module>\u001b[1;34m\u001b[0m\n\u001b[0;32m      4\u001b[0m \u001b[0mprint\u001b[0m\u001b[1;33m(\u001b[0m\u001b[1;34m'abcdefpr djdefku lsi'\u001b[0m\u001b[1;33m.\u001b[0m\u001b[0mindex\u001b[0m\u001b[1;33m(\u001b[0m\u001b[1;34m'def'\u001b[0m\u001b[1;33m,\u001b[0m \u001b[1;36m4\u001b[0m\u001b[1;33m)\u001b[0m\u001b[1;33m)\u001b[0m      \u001b[1;31m# 11\u001b[0m\u001b[1;33m\u001b[0m\u001b[1;33m\u001b[0m\u001b[0m\n\u001b[0;32m      5\u001b[0m \u001b[0mprint\u001b[0m\u001b[1;33m(\u001b[0m\u001b[1;34m'abcdefpr djdefku lsi'\u001b[0m\u001b[1;33m.\u001b[0m\u001b[0mindex\u001b[0m\u001b[1;33m(\u001b[0m\u001b[1;34m'def'\u001b[0m\u001b[1;33m,\u001b[0m \u001b[1;36m4\u001b[0m\u001b[1;33m,\u001b[0m \u001b[1;36m15\u001b[0m\u001b[1;33m)\u001b[0m\u001b[1;33m)\u001b[0m  \u001b[1;31m# 11\u001b[0m\u001b[1;33m\u001b[0m\u001b[1;33m\u001b[0m\u001b[0m\n\u001b[1;32m----> 6\u001b[1;33m \u001b[0mprint\u001b[0m\u001b[1;33m(\u001b[0m\u001b[1;34m'abcdefpr djdefku lsi'\u001b[0m\u001b[1;33m.\u001b[0m\u001b[0mindex\u001b[0m\u001b[1;33m(\u001b[0m\u001b[1;34m'def'\u001b[0m\u001b[1;33m,\u001b[0m \u001b[1;36m4\u001b[0m\u001b[1;33m,\u001b[0m \u001b[1;36m12\u001b[0m\u001b[1;33m)\u001b[0m\u001b[1;33m)\u001b[0m\u001b[1;33m\u001b[0m\u001b[1;33m\u001b[0m\u001b[0m\n\u001b[0m",
      "\u001b[1;31mValueError\u001b[0m: substring not found"
     ]
    }
   ],
   "source": [
    "print(''.index(''))\n",
    "print('abcdefpr djdefku lsi'.index('def'))         # 3\n",
    "print('abcdefpr djdefku lsi'.index('def', 3))      # 3\n",
    "print('abcdefpr djdefku lsi'.index('def', 4))      # 11\n",
    "print('abcdefpr djdefku lsi'.index('def', 4, 15))  # 11\n",
    "print('abcdefpr djdefku lsi'.index('def', 4, 12))  # ValueError"
   ]
  },
  {
   "cell_type": "markdown",
   "metadata": {},
   "source": [
    "### `S.find(sub[, start[, end]]) -> int`\n",
    "\n",
    " - Search index from left side\n",
    " - **Return -1 on failure.**"
   ]
  },
  {
   "cell_type": "code",
   "execution_count": 5,
   "metadata": {},
   "outputs": [
    {
     "name": "stdout",
     "output_type": "stream",
     "text": [
      "3\n",
      "3\n",
      "11\n",
      "11\n",
      "-1\n"
     ]
    }
   ],
   "source": [
    "print('abcdefpr djdefku lsi'.find('def'))          # 3\n",
    "print('abcdefpr djdefku lsi'.find('def', 3))       # 3\n",
    "print('abcdefpr djdefku lsi'.find('def', 4))       # 11\n",
    "print('abcdefpr djdefku lsi'.find('def', 4, 15))   # 11\n",
    "print('abcdefpr djdefku lsi'.find('def', 4, 12))   # -1 (NOT found)"
   ]
  },
  {
   "cell_type": "markdown",
   "metadata": {},
   "source": [
    "##  Return index from Right side"
   ]
  },
  {
   "cell_type": "markdown",
   "metadata": {},
   "source": [
    "### `S.rindex(sub[, start[, end]]) -> int`\n",
    " \n",
    " - Get index number from right side\n",
    " - **Raise ValueError on failure**\n",
    " - we can also contrast search by providing contexts. (Optional)"
   ]
  },
  {
   "cell_type": "code",
   "execution_count": 3,
   "metadata": {
    "scrolled": false
   },
   "outputs": [
    {
     "name": "stdout",
     "output_type": "stream",
     "text": [
      "0\n",
      "3\n",
      "3\n",
      "3\n",
      "8\n",
      "9\n"
     ]
    },
    {
     "ename": "ValueError",
     "evalue": "substring not found",
     "output_type": "error",
     "traceback": [
      "\u001b[1;31m------------------------------------------------------------\u001b[0m",
      "\u001b[1;31mValueError\u001b[0m                 Traceback (most recent call last)",
      "\u001b[1;32m<ipython-input-3-a71bc61e1205>\u001b[0m in \u001b[0;36m<module>\u001b[1;34m\u001b[0m\n\u001b[0;32m      5\u001b[0m \u001b[0mprint\u001b[0m\u001b[1;33m(\u001b[0m\u001b[1;34m\"111111111\"\u001b[0m\u001b[1;33m.\u001b[0m\u001b[0mrindex\u001b[0m\u001b[1;33m(\u001b[0m\u001b[1;34m\"1\"\u001b[0m\u001b[1;33m)\u001b[0m\u001b[1;33m)\u001b[0m \u001b[1;31m# 8\u001b[0m\u001b[1;33m\u001b[0m\u001b[1;33m\u001b[0m\u001b[0m\n\u001b[0;32m      6\u001b[0m \u001b[0mprint\u001b[0m\u001b[1;33m(\u001b[0m\u001b[1;34m\"222222222\"\u001b[0m\u001b[1;33m.\u001b[0m\u001b[0mrindex\u001b[0m\u001b[1;33m(\u001b[0m\u001b[1;34m\"\"\u001b[0m\u001b[1;33m)\u001b[0m\u001b[1;33m)\u001b[0m  \u001b[1;31m# 9\u001b[0m\u001b[1;33m\u001b[0m\u001b[1;33m\u001b[0m\u001b[0m\n\u001b[1;32m----> 7\u001b[1;33m \u001b[0mprint\u001b[0m\u001b[1;33m(\u001b[0m\u001b[1;34m'aaaa'\u001b[0m\u001b[1;33m.\u001b[0m\u001b[0mrindex\u001b[0m\u001b[1;33m(\u001b[0m\u001b[1;34m'b'\u001b[0m\u001b[1;33m)\u001b[0m\u001b[1;33m)\u001b[0m      \u001b[1;31m# Value Error (if didn't found)\u001b[0m\u001b[1;33m\u001b[0m\u001b[1;33m\u001b[0m\u001b[0m\n\u001b[0m\u001b[0;32m      8\u001b[0m \u001b[0mprint\u001b[0m\u001b[1;33m(\u001b[0m\u001b[1;34m\"\"\u001b[0m\u001b[1;33m.\u001b[0m\u001b[0mrindex\u001b[0m\u001b[1;33m(\u001b[0m\u001b[1;34m\"3\"\u001b[0m\u001b[1;33m)\u001b[0m\u001b[1;33m)\u001b[0m          \u001b[1;31m# Value Error\u001b[0m\u001b[1;33m\u001b[0m\u001b[1;33m\u001b[0m\u001b[0m\n",
      "\u001b[1;31mValueError\u001b[0m: substring not found"
     ]
    }
   ],
   "source": [
    "print(\"\".rindex(\"\"))           # 0\n",
    "print('aaaa'.rindex('a'))      # 3\n",
    "print('aaaadf'.rindex('a'))    # 3\n",
    "print('aaaaa'.rindex('aa'))    # 3\n",
    "print(\"111111111\".rindex(\"1\")) # 8\n",
    "print(\"222222222\".rindex(\"\"))  # 9\n",
    "print('aaaa'.rindex('b'))      # ValueError (if didn't found)\n",
    "print(\"\".rindex(\"3\"))          # ValueError"
   ]
  },
  {
   "cell_type": "markdown",
   "metadata": {},
   "source": [
    "### `S.rfind(sub[, start[, end]]) -> int`\n",
    "\n",
    " - Search index from right side\n",
    " - **Return -1 on failure.**"
   ]
  },
  {
   "cell_type": "code",
   "execution_count": 1,
   "metadata": {
    "scrolled": true
   },
   "outputs": [
    {
     "name": "stdout",
     "output_type": "stream",
     "text": [
      "3\n",
      "3\n",
      "3\n",
      "8\n",
      "9\n",
      "0\n",
      "-1\n",
      "-1\n"
     ]
    }
   ],
   "source": [
    "print('aaaa'.rfind('a'))       # 3\n",
    "print('aaaadf'.rfind('a'))     # 3\n",
    "print('aaaaa'.rfind('aa'))     # 3\n",
    "print(\"111111111\".rfind(\"1\"))  # 8\n",
    "print(\"222222222\".rfind(\"\"))   # 9\n",
    "print(\"\".rfind(\"\"))            # 0\n",
    "print('aaaa'.rfind('b'))       # -1 (if didn't found)\n",
    "print(\"\".rfind(\"3\"))           # -1"
   ]
  },
  {
   "cell_type": "markdown",
   "metadata": {},
   "source": [
    "## Non-overlapping occurrences\n",
    "\n",
    "### `S.count(sub[, start[, end]]) -> int`\n",
    "\n",
    " - Return number of occurrence\n",
    " - **Return 0 if not found**"
   ]
  },
  {
   "cell_type": "code",
   "execution_count": 16,
   "metadata": {},
   "outputs": [
    {
     "name": "stdout",
     "output_type": "stream",
     "text": [
      "2\n",
      "3\n",
      "3\n",
      "2\n",
      "1\n",
      "12\n",
      "8\n",
      "0\n",
      "0\n"
     ]
    }
   ],
   "source": [
    "print('abcd abcdef cbdb'.count('abc'))     # 2\n",
    "print('aaaaaa'.count('aa'))                # 3\n",
    "print('aaaaaaa'.count('aa'))               # 3\n",
    "print('aaa baaa caa'.count('aa', 2))       # 2\n",
    "print('aaa baaa caa'.count('aa', 2, 7))    # 1\n",
    "print('00101010010011010001'.count('0'))   # 12\n",
    "print('00101010010011010001'.count('1'))   # 8\n",
    "print('abcd abcdef cbdb'.count('zyd'))     # 0 (if didn't found)\n",
    "print('aaa baaa caa'.count('aa', 2, 6))    # 0"
   ]
  },
  {
   "cell_type": "markdown",
   "metadata": {},
   "source": [
    "# Replacing String\n",
    "-----------\n",
    "\n",
    "There are two methods\n",
    " 1. string's replace() method\n",
    " 2. Regular Expression: We will discuss it in dedicated section"
   ]
  },
  {
   "cell_type": "code",
   "execution_count": 13,
   "metadata": {},
   "outputs": [
    {
     "name": "stdout",
     "output_type": "stream",
     "text": [
      "a....bci...jhi\n"
     ]
    }
   ],
   "source": [
    "# Simple replace: '0' to '.'\n",
    "\n",
    "print('a0000bci000jhi'.replace('0', '.'))"
   ]
  },
  {
   "cell_type": "code",
   "execution_count": 15,
   "metadata": {
    "scrolled": false
   },
   "outputs": [
    {
     "name": "stdout",
     "output_type": "stream",
     "text": [
      "a...0bci000jhi\n"
     ]
    }
   ],
   "source": [
    "# replace only fixed number of characters\n",
    "# replacing '0' by '.' with only 3 occurance.\n",
    "\n",
    "print('a0000bci000jhi'.replace('0', '.', 3))"
   ]
  },
  {
   "cell_type": "markdown",
   "metadata": {},
   "source": [
    "# Other Useful Methods\n",
    "---------------"
   ]
  },
  {
   "cell_type": "markdown",
   "metadata": {},
   "source": [
    "## Convert Tabs into spaces\n",
    "\n",
    " - Expand Tabs into spaces **to maintain fixed width of column**.\n",
    " - Default value if 8\n",
    "\n",
    "`'01\\t012\\t0123\\t01234'.expandtabs()`\n",
    "<pre>\n",
    "01      012     0123    01234\n",
    "└──────┘└──────┘└──────┘\n",
    "    8       8       8   \n",
    "</pre>\n",
    "\n",
    "`'01\\t012\\t0123\\t01234'.expandtabs(3)`\n",
    "<pre>\n",
    "01 012   0123  01234\n",
    "└─┘└─┘└─┘└─┘└─┘\n",
    "3  3  3  3  3 \n",
    "</pre>"
   ]
  },
  {
   "cell_type": "code",
   "execution_count": 23,
   "metadata": {},
   "outputs": [
    {
     "name": "stdout",
     "output_type": "stream",
     "text": [
      "'abcd\\tzydk\\t\\tkdj'\n",
      "abcd\tzydk\t\tkdj\n"
     ]
    }
   ],
   "source": [
    "astr = 'abcd\\tzydk\\t\\tkdj'\n",
    "\n",
    "print(repr(astr))\n",
    "print(astr)"
   ]
  },
  {
   "cell_type": "code",
   "execution_count": 25,
   "metadata": {
    "scrolled": true
   },
   "outputs": [
    {
     "name": "stdout",
     "output_type": "stream",
     "text": [
      "abcd    zydk            kdj\n"
     ]
    }
   ],
   "source": [
    "print(astr.expandtabs())"
   ]
  },
  {
   "cell_type": "code",
   "execution_count": 24,
   "metadata": {},
   "outputs": [
    {
     "name": "stdout",
     "output_type": "stream",
     "text": [
      "abcd zydk  kdj\n"
     ]
    }
   ],
   "source": [
    "print(astr.expandtabs(1))"
   ]
  },
  {
   "cell_type": "code",
   "execution_count": 26,
   "metadata": {
    "scrolled": true
   },
   "outputs": [
    {
     "name": "stdout",
     "output_type": "stream",
     "text": [
      "abcd      zydk                kdj\n"
     ]
    }
   ],
   "source": [
    "print(astr.expandtabs(10))"
   ]
  },
  {
   "cell_type": "markdown",
   "metadata": {},
   "source": [
    "## Devide a string from given separator\n",
    "\n",
    "- Partition the string into three parts using the given separator.\n",
    "- Return 3-tuple containing the part before the separator, the separator itself, and the part after it.\n",
    "- If separator is not found, return a 3-tuple containing the original and two empty strings."
   ]
  },
  {
   "cell_type": "code",
   "execution_count": 33,
   "metadata": {
    "scrolled": true
   },
   "outputs": [
    {
     "name": "stdout",
     "output_type": "stream",
     "text": [
      "('abc', ' ', 'de fghi jk')\n",
      "('abcdifghijklmn', '', '')\n",
      "('abc', 'd', 'ifghijdklmn')\n",
      "('abcdi', 'fg', 'hijklmn')\n",
      "\n",
      "('abcdifghijklmn', '', '')\n"
     ]
    }
   ],
   "source": [
    "# Partition from Left side\n",
    "\n",
    "print('abc de fghi jk'.partition(' '))  # ('abc', ' ', 'de fghi jk')\n",
    "print('abcdifghijklmn'.partition(' '))  # ('abcdifghijklmn', '', '')\n",
    "print('abcdifghijdklmn'.partition('d')) # ('abc', 'd', 'ifghijdklmn')\n",
    "print('abcdifghijklmn'.partition('fg')) # ('abcdi', 'fg', 'hijklmn')\n",
    "print()\n",
    "\n",
    "# Note this\n",
    "print('abcdifghijklmn'.partition('pg')) # ('abcdifghijklmn', '', '')"
   ]
  },
  {
   "cell_type": "code",
   "execution_count": 34,
   "metadata": {
    "scrolled": true
   },
   "outputs": [
    {
     "name": "stdout",
     "output_type": "stream",
     "text": [
      "('abc de fghi', ' ', 'jk')\n",
      "('', '', 'abcdifghijklmn')\n",
      "('abcdi', 'f', 'ghijklmn')\n",
      "('abcdi', 'fg', 'hijklmn')\n",
      "\n",
      "('', '', 'abcdifghijklmn')\n"
     ]
    }
   ],
   "source": [
    "# Partition from Right side\n",
    "\n",
    "print('abc de fghi jk'.rpartition(' '))  # ('abc de fghi', ' ', 'jk')\n",
    "print('abcdifghijklmn'.rpartition(' '))  # ('', '', 'abcdifghijklmn')\n",
    "print('abcdifghijklmn'.rpartition('f'))  # ('abcdi', 'f', 'ghijklmn')\n",
    "print('abcdifghijklmn'.rpartition('fg')) # ('abcdi', 'fg', 'hijklmn')\n",
    "print()\n",
    "\n",
    "# Note this\n",
    "print('abcdifghijklmn'.rpartition('pg')) # ('', '', 'abcdifghijklmn')"
   ]
  },
  {
   "cell_type": "markdown",
   "metadata": {},
   "source": [
    "## String to List"
   ]
  },
  {
   "cell_type": "code",
   "execution_count": 36,
   "metadata": {},
   "outputs": [
    {
     "name": "stdout",
     "output_type": "stream",
     "text": [
      "['a', 'b', 'c', 'd', 'e', 'f', 'g', 'h', 'i', 'j', 'k']\n"
     ]
    }
   ],
   "source": [
    "print(list('abcdefghijk'))"
   ]
  },
  {
   "cell_type": "code",
   "execution_count": 40,
   "metadata": {},
   "outputs": [
    {
     "name": "stdout",
     "output_type": "stream",
     "text": [
      "['a', 'b', 'c', 'd', 'f']\n",
      "['1', '2', '3', '4']\n"
     ]
    }
   ],
   "source": [
    "print('a b c d f'.split())\n",
    "print(' 1 2  \\t 3 4  '.split())"
   ]
  },
  {
   "cell_type": "code",
   "execution_count": 38,
   "metadata": {},
   "outputs": [
    {
     "name": "stdout",
     "output_type": "stream",
     "text": [
      "['a', 'b', '', 'c', 'd', 'e']\n"
     ]
    }
   ],
   "source": [
    "print('a>b>>c>d>e'.split('>'))"
   ]
  },
  {
   "cell_type": "code",
   "execution_count": 41,
   "metadata": {},
   "outputs": [
    {
     "name": "stdout",
     "output_type": "stream",
     "text": [
      "['ab c', '', 'de fh', 'kl']\n",
      "['ab c\\n', '\\n', 'de fh\\r', 'kl\\r\\n']\n"
     ]
    }
   ],
   "source": [
    "# Split by Newline Character\n",
    "\n",
    "print('ab c\\n\\nde fh\\rkl\\r\\n'.splitlines())\n",
    "print('ab c\\n\\nde fh\\rkl\\r\\n'.splitlines(True))"
   ]
  }
 ],
 "metadata": {
  "kernelspec": {
   "display_name": "Python 3",
   "language": "python",
   "name": "python3"
  },
  "language_info": {
   "codemirror_mode": {
    "name": "ipython",
    "version": 3
   },
   "file_extension": ".py",
   "mimetype": "text/x-python",
   "name": "python",
   "nbconvert_exporter": "python",
   "pygments_lexer": "ipython3",
   "version": "3.7.2"
  }
 },
 "nbformat": 4,
 "nbformat_minor": 2
}
