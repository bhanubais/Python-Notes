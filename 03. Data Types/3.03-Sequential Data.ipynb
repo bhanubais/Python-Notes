{
 "cells": [
  {
   "cell_type": "markdown",
   "metadata": {},
   "source": [
    "## Sequential Data Types\n",
    "\n",
    " - **string** : Immutable\n",
    " - **byte sequence** : Immutable\n",
    " - **byte array** : Mutable\n",
    " - **list** : Mutable\n",
    " - **tuple** : Immutable\n",
    " - **range object** : Immutable"
   ]
  },
  {
   "cell_type": "markdown",
   "metadata": {},
   "source": [
    "### Defining Items"
   ]
  },
  {
   "cell_type": "code",
   "execution_count": 2,
   "metadata": {},
   "outputs": [],
   "source": [
    "a_strg = \"Lorem ipsum dolor sit amet, consectetur adipisicing elit\"\n",
    "a_byte = b'none text based content i.e. jpg, png, exe, etc.'\n",
    "a_list = [\"Jaipur\", \"Chandigarh\", \"Muraina\", \"Delhi\"]\n",
    "a_tupl = (\"John\", \"Krishnan\", \"Tom\", \"Jesicca\")\n",
    "a_rang = range(5, 50, 5)"
   ]
  },
  {
   "cell_type": "markdown",
   "metadata": {},
   "source": [
    "### Accessing Items\n",
    "\n",
    "Element of Sequential Data Type can be access by index number.\n",
    "\n",
    "`a_seq_data[start : end : step]`"
   ]
  },
  {
   "cell_type": "code",
   "execution_count": 2,
   "metadata": {},
   "outputs": [
    {
     "name": "stdout",
     "output_type": "stream",
     "text": [
      "e\n",
      "101\n",
      "Delhi\n",
      "Jesicca\n",
      "20\n"
     ]
    }
   ],
   "source": [
    "print(a_strg[3])\n",
    "print(a_byte[3])\n",
    "print(a_list[3])\n",
    "print(a_tupl[3])\n",
    "print(a_rang[3])"
   ]
  },
  {
   "cell_type": "code",
   "execution_count": 3,
   "metadata": {
    "scrolled": true
   },
   "outputs": [
    {
     "name": "stdout",
     "output_type": "stream",
     "text": [
      "t\n",
      "46\n",
      "Delhi\n",
      "Jesicca\n",
      "45\n"
     ]
    }
   ],
   "source": [
    "print(a_strg[-1])\n",
    "print(a_byte[-1])\n",
    "print(a_list[-1])\n",
    "print(a_tupl[-1])\n",
    "print(a_rang[-1])"
   ]
  },
  {
   "cell_type": "code",
   "execution_count": 4,
   "metadata": {},
   "outputs": [
    {
     "name": "stdout",
     "output_type": "stream",
     "text": [
      "Lor\n",
      "b'non'\n",
      "['Jaipur', 'Chandigarh', 'Muraina']\n",
      "('John', 'Krishnan', 'Tom')\n",
      "range(5, 20, 5)\n"
     ]
    }
   ],
   "source": [
    "print(a_strg[:3])\n",
    "print(a_byte[:3])\n",
    "print(a_list[:3])\n",
    "print(a_tupl[:3])\n",
    "print(a_rang[:3])"
   ]
  },
  {
   "cell_type": "code",
   "execution_count": 5,
   "metadata": {},
   "outputs": [
    {
     "name": "stdout",
     "output_type": "stream",
     "text": [
      "or\n",
      "b'on'\n",
      "['Chandigarh', 'Muraina']\n",
      "('Krishnan', 'Tom')\n",
      "range(10, 20, 5)\n"
     ]
    }
   ],
   "source": [
    "print(a_strg[1:3])\n",
    "print(a_byte[1:3])\n",
    "print(a_list[1:3])\n",
    "print(a_tupl[1:3])\n",
    "print(a_rang[1:3])"
   ]
  },
  {
   "cell_type": "code",
   "execution_count": 6,
   "metadata": {
    "scrolled": true
   },
   "outputs": [
    {
     "name": "stdout",
     "output_type": "stream",
     "text": [
      "56\n",
      "48\n",
      "4\n",
      "4\n",
      "9\n"
     ]
    }
   ],
   "source": [
    "print(len(a_strg))\n",
    "print(len(a_byte))\n",
    "print(len(a_list))\n",
    "print(len(a_tupl))\n",
    "print(len(a_rang))"
   ]
  },
  {
   "cell_type": "code",
   "execution_count": 10,
   "metadata": {
    "scrolled": true
   },
   "outputs": [
    {
     "name": "stdout",
     "output_type": "stream",
     "text": [
      "True\n",
      "True\n",
      "True\n",
      "True\n",
      "False\n"
     ]
    }
   ],
   "source": [
    "print(\"sit\" in a_strg)\n",
    "print(103 in a_byte)\n",
    "print(\"Jaipur\" in a_list)\n",
    "print(\"Tom\" in a_tupl)\n",
    "print(\"25\" in a_rang)"
   ]
  },
  {
   "cell_type": "markdown",
   "metadata": {},
   "source": [
    "## Updating an Element\n",
    "\n",
    "We can update a sequencial data type (must be mutable) using index number."
   ]
  },
  {
   "cell_type": "code",
   "execution_count": 9,
   "metadata": {
    "scrolled": true
   },
   "outputs": [
    {
     "name": "stdout",
     "output_type": "stream",
     "text": [
      "Delhi\n"
     ]
    }
   ],
   "source": [
    "print(a_list[3])"
   ]
  },
  {
   "cell_type": "code",
   "execution_count": 10,
   "metadata": {},
   "outputs": [
    {
     "name": "stdout",
     "output_type": "stream",
     "text": [
      "Chennai\n"
     ]
    }
   ],
   "source": [
    "a_list[3] = \"Chennai\"\n",
    "\n",
    "print(a_list[3])"
   ]
  },
  {
   "cell_type": "markdown",
   "metadata": {},
   "source": [
    "## Repetitions in sequential Data\n",
    "\n",
    "Sequencial Data can be repeat my multiplying with an integer (denoting number of repetition)."
   ]
  },
  {
   "cell_type": "code",
   "execution_count": 3,
   "metadata": {
    "scrolled": true
   },
   "outputs": [
    {
     "name": "stdout",
     "output_type": "stream",
     "text": [
      "Lorem ipsum dolor sit amet, consectetur adipisicing elitLorem ipsum dolor sit amet, consectetur adipisicing elit\n",
      "b'none text based content i.e. jpg, png, exe, etc.none text based content i.e. jpg, png, exe, etc.'\n",
      "['Jaipur', 'Chandigarh', 'Muraina', 'Delhi', 'Jaipur', 'Chandigarh', 'Muraina', 'Delhi']\n",
      "('John', 'Krishnan', 'Tom', 'Jesicca', 'John', 'Krishnan', 'Tom', 'Jesicca')\n"
     ]
    }
   ],
   "source": [
    "print(a_strg * 2)\n",
    "print(a_byte * 2)\n",
    "print(a_list * 2)\n",
    "print(a_tupl * 2)"
   ]
  },
  {
   "cell_type": "markdown",
   "metadata": {},
   "source": [
    "### Pitfalls in Repetitions"
   ]
  },
  {
   "cell_type": "code",
   "execution_count": 7,
   "metadata": {},
   "outputs": [
    {
     "name": "stdout",
     "output_type": "stream",
     "text": [
      "['a', 'b', 'c']\n",
      "[['a', 'b', 'c'], ['a', 'b', 'c']]\n"
     ]
    }
   ],
   "source": [
    "x = ['a', 'b', 'c']\n",
    "y = [x] * 2\n",
    "\n",
    "print(x)\n",
    "print(y)"
   ]
  },
  {
   "cell_type": "code",
   "execution_count": 8,
   "metadata": {
    "scrolled": false
   },
   "outputs": [
    {
     "name": "stdout",
     "output_type": "stream",
     "text": [
      "[None, 'b', 'c']\n",
      "[[None, 'b', 'c'], [None, 'b', 'c']]\n"
     ]
    }
   ],
   "source": [
    "y[0][0] = None\n",
    "\n",
    "print(x)\n",
    "print(y)"
   ]
  }
 ],
 "metadata": {
  "kernelspec": {
   "display_name": "Python 3",
   "language": "python",
   "name": "python3"
  },
  "language_info": {
   "codemirror_mode": {
    "name": "ipython",
    "version": 3
   },
   "file_extension": ".py",
   "mimetype": "text/x-python",
   "name": "python",
   "nbconvert_exporter": "python",
   "pygments_lexer": "ipython3",
   "version": "3.7.2"
  }
 },
 "nbformat": 4,
 "nbformat_minor": 2
}
