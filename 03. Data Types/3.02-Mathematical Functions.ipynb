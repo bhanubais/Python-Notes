{
 "cells": [
  {
   "cell_type": "markdown",
   "metadata": {},
   "source": [
    "## Mathematical Functions\n",
    "\n",
    "`from math import *`\n",
    "\n",
    "Following are some useful mathmatical Functions\n",
    "\n",
    "| Python     | Math     | Description                         |\n",
    "|------------|----------|-------------------------------------|\n",
    "| pi         | π        | An approximation of π               |\n",
    "| ε          | e        | Am approximation of epsilon         |\n",
    "| .          | .        | .                                   |\n",
    "| sin(x)     | sin x    | The Sine of x                       |\n",
    "| cos(x)     | cos x    | The Cosine of x                     |\n",
    "| tan(x)     | tan x    | The Tangent of x                    |\n",
    "| asin(x)    | arcsin x | The inverse of sin(x)               |\n",
    "| acos(x)    | arccos x | The inverse of cos(x)               |\n",
    "| atan(x)    | arctan x | The inverse of tan(x)               |\n",
    "| .          | .        | .                                   |\n",
    "| log(x)     | ln x     | The natural (base e) logarithm of x |\n",
    "| log10(x)   | log10 x  | The common (base 10) logarithm of x |\n",
    "| log2(x)    | log2 x   | The common (base 2) logarithm of x  |\n",
    "| exp(x)     | e^x      | The exponential of x                |\n",
    "| .          | .        | .                                   |\n",
    "| ceil(x)    | ⌈x⌉      | The smallest integer >= x           |\n",
    "| floor(x)   | ⌊x⌋      | The largest integer <= x            |\n",
    "| .          | .        | .                                   |\n",
    "| sqrt(x)    | x^0.5    | Square root of  a positive number   |\n",
    "| degrees(r) | rad->deg | Radians to Degrees                  |\n",
    "| radians(d) | deg->rad | Degrees to Radians                  |"
   ]
  },
  {
   "cell_type": "code",
   "execution_count": 1,
   "metadata": {},
   "outputs": [],
   "source": [
    "from math import *"
   ]
  },
  {
   "cell_type": "code",
   "execution_count": 20,
   "metadata": {},
   "outputs": [
    {
     "data": {
      "text/plain": [
       "['__doc__',\n",
       " '__loader__',\n",
       " '__name__',\n",
       " '__package__',\n",
       " '__spec__',\n",
       " 'acos',\n",
       " 'acosh',\n",
       " 'asin',\n",
       " 'asinh',\n",
       " 'atan',\n",
       " 'atan2',\n",
       " 'atanh',\n",
       " 'ceil',\n",
       " 'copysign',\n",
       " 'cos',\n",
       " 'cosh',\n",
       " 'degrees',\n",
       " 'e',\n",
       " 'erf',\n",
       " 'erfc',\n",
       " 'exp',\n",
       " 'expm1',\n",
       " 'fabs',\n",
       " 'factorial',\n",
       " 'floor',\n",
       " 'fmod',\n",
       " 'frexp',\n",
       " 'fsum',\n",
       " 'gamma',\n",
       " 'gcd',\n",
       " 'hypot',\n",
       " 'inf',\n",
       " 'isclose',\n",
       " 'isfinite',\n",
       " 'isinf',\n",
       " 'isnan',\n",
       " 'ldexp',\n",
       " 'lgamma',\n",
       " 'log',\n",
       " 'log10',\n",
       " 'log1p',\n",
       " 'log2',\n",
       " 'modf',\n",
       " 'nan',\n",
       " 'pi',\n",
       " 'pow',\n",
       " 'radians',\n",
       " 'remainder',\n",
       " 'sin',\n",
       " 'sinh',\n",
       " 'sqrt',\n",
       " 'tan',\n",
       " 'tanh',\n",
       " 'tau',\n",
       " 'trunc']"
      ]
     },
     "execution_count": 20,
     "metadata": {},
     "output_type": "execute_result"
    }
   ],
   "source": [
    "# All available mathmatical functions\n",
    "\n",
    "import math\n",
    "dir(math)"
   ]
  },
  {
   "cell_type": "code",
   "execution_count": 21,
   "metadata": {},
   "outputs": [
    {
     "name": "stdout",
     "output_type": "stream",
     "text": [
      "3.141592653589793\n",
      "2.718281828459045\n"
     ]
    }
   ],
   "source": [
    "print(pi)\n",
    "print(e)"
   ]
  },
  {
   "cell_type": "code",
   "execution_count": 3,
   "metadata": {
    "scrolled": true
   },
   "outputs": [
    {
     "name": "stdout",
     "output_type": "stream",
     "text": [
      "1.0\n",
      "1.5707963267948966\n"
     ]
    }
   ],
   "source": [
    "print(sin(pi/2))\n",
    "print(asin(1))"
   ]
  },
  {
   "cell_type": "code",
   "execution_count": 6,
   "metadata": {},
   "outputs": [
    {
     "name": "stdout",
     "output_type": "stream",
     "text": [
      "0.0\n",
      "1.0\n"
     ]
    }
   ],
   "source": [
    "print(log(1))\n",
    "print(log(e))"
   ]
  },
  {
   "cell_type": "code",
   "execution_count": 8,
   "metadata": {},
   "outputs": [
    {
     "name": "stdout",
     "output_type": "stream",
     "text": [
      "0.0\n",
      "1.0\n",
      "2.0\n"
     ]
    }
   ],
   "source": [
    "print(log10(1))\n",
    "print(log10(10))\n",
    "print(log10(100))"
   ]
  },
  {
   "cell_type": "code",
   "execution_count": 9,
   "metadata": {},
   "outputs": [
    {
     "name": "stdout",
     "output_type": "stream",
     "text": [
      "0.0\n",
      "2.0\n",
      "5.0\n"
     ]
    }
   ],
   "source": [
    "print(log2(1))\n",
    "print(log2(4))\n",
    "print(log2(32))"
   ]
  },
  {
   "cell_type": "code",
   "execution_count": 11,
   "metadata": {},
   "outputs": [
    {
     "name": "stdout",
     "output_type": "stream",
     "text": [
      "1.0\n",
      "2.718281828459045\n",
      "7.38905609893065\n",
      "1.6487212707001282\n"
     ]
    }
   ],
   "source": [
    "print(exp(0))\n",
    "print(exp(1))\n",
    "print(exp(2))\n",
    "print(exp(1/2)) # sqrt(e)"
   ]
  },
  {
   "cell_type": "code",
   "execution_count": 14,
   "metadata": {},
   "outputs": [
    {
     "name": "stdout",
     "output_type": "stream",
     "text": [
      "4\n",
      "3\n"
     ]
    }
   ],
   "source": [
    "print(ceil(pi))\n",
    "print(floor(pi))"
   ]
  },
  {
   "cell_type": "code",
   "execution_count": 16,
   "metadata": {},
   "outputs": [
    {
     "name": "stdout",
     "output_type": "stream",
     "text": [
      "0.0\n",
      "1.4142135623730951\n",
      "16.0\n"
     ]
    }
   ],
   "source": [
    "# Accepts only positive\n",
    "\n",
    "print(sqrt(0))\n",
    "print(sqrt(2))\n",
    "print(sqrt(256))"
   ]
  },
  {
   "cell_type": "code",
   "execution_count": 17,
   "metadata": {},
   "outputs": [
    {
     "ename": "ValueError",
     "evalue": "math domain error",
     "output_type": "error",
     "traceback": [
      "\u001b[1;31m------------------------------------------------------------\u001b[0m",
      "\u001b[1;31mValueError\u001b[0m                 Traceback (most recent call last)",
      "\u001b[1;32m<ipython-input-17-84fde6a6eea1>\u001b[0m in \u001b[0;36m<module>\u001b[1;34m\u001b[0m\n\u001b[1;32m----> 1\u001b[1;33m \u001b[0msqrt\u001b[0m\u001b[1;33m(\u001b[0m\u001b[1;33m-\u001b[0m\u001b[1;36m2\u001b[0m\u001b[1;33m)\u001b[0m\u001b[1;33m\u001b[0m\u001b[1;33m\u001b[0m\u001b[0m\n\u001b[0m",
      "\u001b[1;31mValueError\u001b[0m: math domain error"
     ]
    }
   ],
   "source": [
    "sqrt(-2)"
   ]
  },
  {
   "cell_type": "code",
   "execution_count": 18,
   "metadata": {
    "scrolled": true
   },
   "outputs": [
    {
     "name": "stdout",
     "output_type": "stream",
     "text": [
      "180.0\n",
      "3.141592653589793\n"
     ]
    }
   ],
   "source": [
    "print(degrees(pi))\n",
    "print(radians(180))"
   ]
  }
 ],
 "metadata": {
  "kernelspec": {
   "display_name": "Python 3",
   "language": "python",
   "name": "python3"
  },
  "language_info": {
   "codemirror_mode": {
    "name": "ipython",
    "version": 3
   },
   "file_extension": ".py",
   "mimetype": "text/x-python",
   "name": "python",
   "nbconvert_exporter": "python",
   "pygments_lexer": "ipython3",
   "version": "3.7.2"
  }
 },
 "nbformat": 4,
 "nbformat_minor": 2
}
