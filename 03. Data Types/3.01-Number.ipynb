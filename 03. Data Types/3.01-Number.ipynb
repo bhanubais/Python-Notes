{
 "cells": [
  {
   "cell_type": "markdown",
   "metadata": {},
   "source": [
    "# Number\n",
    "\n",
    "In Python there are 3 types of numbers.\n",
    "\n",
    "1. **int**: Integers, Binary, Octal, Hexadecimal\n",
    "2. **float**: Decimal Numbers\n",
    "3. **complex**: Complex Numbers"
   ]
  },
  {
   "cell_type": "code",
   "execution_count": 1,
   "metadata": {
    "scrolled": true
   },
   "outputs": [
    {
     "name": "stdout",
     "output_type": "stream",
     "text": [
      "<class 'int'>\n",
      "<class 'int'>\n",
      "<class 'int'>\n",
      "<class 'int'>\n",
      "\n",
      "<class 'float'>\n",
      "<class 'complex'>\n"
     ]
    }
   ],
   "source": [
    "print(type(8))      # Integer\n",
    "print(type(0b1010)) # Binary\n",
    "print(type(0o570))  # Octal\n",
    "print(type(0x45af)) # Hexadecimal\n",
    "print()\n",
    "\n",
    "print(type(8.))     # Decimal\n",
    "print(type(5 + 3j)) # Complex"
   ]
  },
  {
   "cell_type": "markdown",
   "metadata": {},
   "source": [
    "## Number System\n",
    "\n",
    "We can write an integet in different number systm in python using following functions: `int()`, `bin()`, `oct()`, `hex()`"
   ]
  },
  {
   "cell_type": "code",
   "execution_count": 20,
   "metadata": {
    "scrolled": true
   },
   "outputs": [
    {
     "name": "stdout",
     "output_type": "stream",
     "text": [
      "40\n",
      "0b101000\n",
      "0o50\n",
      "0x28\n"
     ]
    }
   ],
   "source": [
    "print(40)        # Decimal\n",
    "print(bin(40))   # Binary\n",
    "print(oct(40))   # Octal\n",
    "print(hex(40))   # Hexadecimal"
   ]
  },
  {
   "cell_type": "code",
   "execution_count": 22,
   "metadata": {
    "scrolled": true
   },
   "outputs": [
    {
     "name": "stdout",
     "output_type": "stream",
     "text": [
      "40\n",
      "40\n",
      "40\n"
     ]
    }
   ],
   "source": [
    "print(0b101000)\n",
    "print(0o50)\n",
    "print(0x28)"
   ]
  },
  {
   "cell_type": "code",
   "execution_count": 25,
   "metadata": {},
   "outputs": [
    {
     "name": "stdout",
     "output_type": "stream",
     "text": [
      "40\n",
      "40\n",
      "40\n"
     ]
    }
   ],
   "source": [
    "print(int(0b101000))\n",
    "print(int(0o50))\n",
    "print(int(0x28))"
   ]
  },
  {
   "cell_type": "code",
   "execution_count": 26,
   "metadata": {},
   "outputs": [
    {
     "name": "stdout",
     "output_type": "stream",
     "text": [
      "40.0\n",
      "40.0\n",
      "40.0\n"
     ]
    }
   ],
   "source": [
    "print(float(0b101000))\n",
    "print(float(0o50))\n",
    "print(float(0x28))"
   ]
  },
  {
   "cell_type": "markdown",
   "metadata": {},
   "source": [
    "## Useful Operators\n",
    "\n",
    "Following Operators can be applied to all Numeric Types\n",
    "\n",
    "\n",
    "| Operator Name        | Operator             | Description                   |\n",
    "|----------------------|----------------------|-------------------------------|\n",
    "| Unary Plus           | +x                   |                               |\n",
    "| Unary Minux          | -x                   | Converting into opposite sign |\n",
    "| ...                  | ...                  | ...                           |\n",
    "| Addition             | x + y                |                               |\n",
    "| Substraction         | x - y                |                               |\n",
    "| Multiplication       | x * y                |                               |\n",
    "| Devision             | x / y                |                               |\n",
    "| Floor Division       | x // y               |                               |\n",
    "| Modulo/Remainder     | x % y                |                               |\n",
    "| Exponentiation       | x ** n               | x^n                           |\n",
    "| ...                  | ...                  | ...                           |\n",
    "| Boolean Or           | a or b               |                               |\n",
    "| Boolean And          | a and b              |                               |\n",
    "| Boolean Not          | not a                |                               |\n",
    "| ...                  | ...                  | ...                           |\n",
    "| Comparison Operators | <, <=, >, >=, ==, != |                               |\n",
    "| ...                  | ...                  | ...                           |\n",
    "| Bitwise Negation     | ~x                   |                               |\n",
    "| Bitwise Or           | x \\| y               |                               |\n",
    "| Bitwise And          | x & y                |                               |\n",
    "| Bitwise XOR          | x ^ y                |                               |\n",
    "| Bitwise Left Shift   | x << a               |                               |\n",
    "| Bitwise Right Shift  | x >> a               |                               |"
   ]
  },
  {
   "cell_type": "markdown",
   "metadata": {},
   "source": [
    "### Exponentiation\n",
    "\n",
    "This is Unique Power of Python Language"
   ]
  },
  {
   "cell_type": "code",
   "execution_count": 4,
   "metadata": {},
   "outputs": [
    {
     "name": "stdout",
     "output_type": "stream",
     "text": [
      "8\n",
      "1.4142135623730951\n"
     ]
    }
   ],
   "source": [
    "print(2 ** 3)   # 2^3\n",
    "print(2 ** 0.5) # Squareroot of 2"
   ]
  },
  {
   "cell_type": "markdown",
   "metadata": {},
   "source": [
    "### Division and Modulus/Remainder"
   ]
  },
  {
   "cell_type": "code",
   "execution_count": 2,
   "metadata": {},
   "outputs": [
    {
     "name": "stdout",
     "output_type": "stream",
     "text": [
      "3.3333333333333335\n",
      "3\n",
      "1\n"
     ]
    }
   ],
   "source": [
    "print(10 / 3)\n",
    "print(10 // 3)\n",
    "print(10 % 3)"
   ]
  },
  {
   "cell_type": "code",
   "execution_count": 3,
   "metadata": {},
   "outputs": [
    {
     "name": "stdout",
     "output_type": "stream",
     "text": [
      "-3.3333333333333335\n",
      "-4\n",
      "2\n"
     ]
    }
   ],
   "source": [
    "print(-10 / 3)\n",
    "print(-10 // 3)\n",
    "print(-10 % 3)"
   ]
  },
  {
   "cell_type": "code",
   "execution_count": 4,
   "metadata": {},
   "outputs": [
    {
     "name": "stdout",
     "output_type": "stream",
     "text": [
      "-3.3333333333333335\n",
      "-4\n",
      "-2\n"
     ]
    }
   ],
   "source": [
    "print(10 / -3)\n",
    "print(10 // -3)\n",
    "print(10 % -3)"
   ]
  },
  {
   "cell_type": "code",
   "execution_count": 5,
   "metadata": {},
   "outputs": [
    {
     "name": "stdout",
     "output_type": "stream",
     "text": [
      "3.3333333333333335\n",
      "3\n",
      "-1\n"
     ]
    }
   ],
   "source": [
    "print(-10 / -3)\n",
    "print(-10 // -3)\n",
    "print(-10 % -3)"
   ]
  },
  {
   "cell_type": "markdown",
   "metadata": {},
   "source": [
    "## Built-in Numerical Fuctions\n",
    "\n",
    "| function name          | .           | Description                                          |\n",
    "|------------------------|-------------|------------------------------------------------------|\n",
    "| abs(x)                 | [x]         | Convert in Positive Number                           |\n",
    "| round(x)               | .           | Round to Nearest Integer                             |\n",
    "| round(x, n)            | .           | Round to Nearest Floating Number with 'n' precision. |\n",
    "| round(x, -n)           | .           | See Example to Better Understand                     |\n",
    "| divmod(x, y)           | (x//y, x%y) | Return Quotient and Remainder Simultaneously         |\n",
    "| pow(x, n)              | x^^n        | Raise x to the power n                               |\n",
    "| sum(iterable)          | .           | Sum of the Numbers in an iterable Data type          |\n",
    "| min(iterable/literals) | .           | Return Smallest Number in an iterable Data type      |\n",
    "| max(iterable/literals) | .           | Return Biggest Number in an iterable Data type       |"
   ]
  },
  {
   "cell_type": "code",
   "execution_count": 6,
   "metadata": {},
   "outputs": [
    {
     "name": "stdout",
     "output_type": "stream",
     "text": [
      "0\n",
      "2.3\n",
      "2.3\n"
     ]
    }
   ],
   "source": [
    "print(abs(0))\n",
    "print(abs(2.3))\n",
    "print(abs(-2.3))"
   ]
  },
  {
   "cell_type": "code",
   "execution_count": 8,
   "metadata": {},
   "outputs": [
    {
     "name": "stdout",
     "output_type": "stream",
     "text": [
      "2\n",
      "2\n",
      "3\n",
      "3\n"
     ]
    }
   ],
   "source": [
    "print(round(2.3))\n",
    "print(round(2.5))\n",
    "print(round(2.50000001))\n",
    "print(round(2.7))"
   ]
  },
  {
   "cell_type": "code",
   "execution_count": 10,
   "metadata": {},
   "outputs": [
    {
     "name": "stdout",
     "output_type": "stream",
     "text": [
      "3141593.0\n",
      "3141592.654\n",
      "3142000.0\n"
     ]
    }
   ],
   "source": [
    "print(round(3141592.653589793, 0))\n",
    "print(round(3141592.653589793, 3))\n",
    "print(round(3141592.653589793, -3))"
   ]
  },
  {
   "cell_type": "code",
   "execution_count": 6,
   "metadata": {
    "scrolled": true
   },
   "outputs": [
    {
     "name": "stdout",
     "output_type": "stream",
     "text": [
      "(3, 1)\n",
      "(-4, 2)\n",
      "(-4, -2)\n",
      "(3, -1)\n"
     ]
    }
   ],
   "source": [
    "print(divmod(10, 3))\n",
    "print(divmod(-10, 3))\n",
    "print(divmod(10, -3))\n",
    "print(divmod(-10, -3))"
   ]
  },
  {
   "cell_type": "code",
   "execution_count": 14,
   "metadata": {},
   "outputs": [
    {
     "name": "stdout",
     "output_type": "stream",
     "text": [
      "8\n",
      "5.0\n",
      "2.0\n"
     ]
    }
   ],
   "source": [
    "print(pow(2, 3))\n",
    "print(pow(25, 0.5))\n",
    "print(pow(8, (1/3)))"
   ]
  },
  {
   "cell_type": "code",
   "execution_count": 20,
   "metadata": {},
   "outputs": [
    {
     "name": "stdout",
     "output_type": "stream",
     "text": [
      "49.5\n",
      "49.5\n"
     ]
    }
   ],
   "source": [
    "print(sum((1.1, 2.2, 3.3, 4.4, 5.5, 6.6, 7.7, 8.8, 9.9))) # tuple\n",
    "print(sum([1.1, 2.2, 3.3, 4.4, 5.5, 6.6, 7.7, 8.8, 9.9])) # list"
   ]
  },
  {
   "cell_type": "code",
   "execution_count": 30,
   "metadata": {},
   "outputs": [
    {
     "name": "stdout",
     "output_type": "stream",
     "text": [
      "-60\n"
     ]
    },
    {
     "ename": "TypeError",
     "evalue": "unsupported operand type(s) for +: 'int' and 'str'",
     "output_type": "error",
     "traceback": [
      "\u001b[1;31m------------------------------------------------------------\u001b[0m",
      "\u001b[1;31mTypeError\u001b[0m                  Traceback (most recent call last)",
      "\u001b[1;32m<ipython-input-30-fde8323cf068>\u001b[0m in \u001b[0;36m<module>\u001b[1;34m\u001b[0m\n\u001b[0;32m      5\u001b[0m \u001b[1;33m\u001b[0m\u001b[0m\n\u001b[0;32m      6\u001b[0m \u001b[1;31m# DOESN'T work for Values\u001b[0m\u001b[1;33m\u001b[0m\u001b[1;33m\u001b[0m\u001b[1;33m\u001b[0m\u001b[0m\n\u001b[1;32m----> 7\u001b[1;33m \u001b[0mprint\u001b[0m\u001b[1;33m(\u001b[0m\u001b[0msum\u001b[0m\u001b[1;33m(\u001b[0m\u001b[1;33m{\u001b[0m\u001b[1;34m'x'\u001b[0m\u001b[1;33m:\u001b[0m \u001b[1;36m10\u001b[0m\u001b[1;33m,\u001b[0m \u001b[1;34m'y'\u001b[0m\u001b[1;33m:\u001b[0m \u001b[1;36m20\u001b[0m\u001b[1;33m}\u001b[0m\u001b[1;33m)\u001b[0m\u001b[1;33m)\u001b[0m\u001b[1;33m\u001b[0m\u001b[1;33m\u001b[0m\u001b[0m\n\u001b[0m",
      "\u001b[1;31mTypeError\u001b[0m: unsupported operand type(s) for +: 'int' and 'str'"
     ]
    }
   ],
   "source": [
    "# Works only key values in dictionary\n",
    "\n",
    "# works for Keys Only\n",
    "print(sum({-10: 'x', -20: 'y', -30: 'z'}))\n",
    "\n",
    "# DOESN'T work for Values\n",
    "print(sum({'x': 10, 'y': 20}))"
   ]
  },
  {
   "cell_type": "code",
   "execution_count": 31,
   "metadata": {},
   "outputs": [
    {
     "name": "stdout",
     "output_type": "stream",
     "text": [
      "3\n",
      "-30\n",
      "x\n"
     ]
    }
   ],
   "source": [
    "print(min(8, 5, 3, 10, 12))\n",
    "\n",
    "# Works for Keys and Values Both in Dictionary\n",
    "print(min({-10: 'x', -20: 'y', -30: 'z'}))\n",
    "print(min({'x': 10, 'y': 20}))"
   ]
  },
  {
   "cell_type": "code",
   "execution_count": 32,
   "metadata": {},
   "outputs": [
    {
     "name": "stdout",
     "output_type": "stream",
     "text": [
      "12\n",
      "-10\n",
      "y\n"
     ]
    }
   ],
   "source": [
    "print(max(8, 5, 3, 10, 12))\n",
    "\n",
    "# Works for Keys and Values Both in Dictionary\n",
    "print(max({-10: 'x', -20: 'y', -30: 'z'}))\n",
    "print(max({'x': 10, 'y': 20}))"
   ]
  }
 ],
 "metadata": {
  "kernelspec": {
   "display_name": "Python 3",
   "language": "python",
   "name": "python3"
  },
  "language_info": {
   "codemirror_mode": {
    "name": "ipython",
    "version": 3
   },
   "file_extension": ".py",
   "mimetype": "text/x-python",
   "name": "python",
   "nbconvert_exporter": "python",
   "pygments_lexer": "ipython3",
   "version": "3.8.2"
  }
 },
 "nbformat": 4,
 "nbformat_minor": 4
}
