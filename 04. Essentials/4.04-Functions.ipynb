{
 "cells": [
  {
   "attachments": {},
   "cell_type": "markdown",
   "metadata": {},
   "source": [
    "# Functions\n",
    "\n",
    "Organize your code into “paragraphs” - capture a complete thought and “name it”\n",
    "\n",
    "Don’t repeat yourself - make it work once and then reuse it\n",
    "\n",
    "If something gets too long or complex, break it up into logical chunks and put those chunks in functions\n",
    "\n",
    "Make a library of common stuff that you do over and over - perhaps share this with your friends...\n",
    "\n",
    "## Arguments vs Parameters\n",
    "\n",
    " - A **Parameter** is a variable which we use in th `function` definition. It is a \"handle\" that allows the code in the function to access the **arguments** for a particular `function` invocation.\n",
    " - An **argument** is a value we pass into the `function` as its input when we call the `function`.\n",
    " - We use **arguments** so we can direct the `function` to do different kinds of work when we call it at **different** times.\n",
    " - We put the **arguments** in parentheses after the **name** of the function\n",
    "\n",
    "## Void (non-fruitful) Functions\n",
    "\n",
    " - When a function does not return a value, we call it a **“void”** function\n",
    " - Functions that return values are “fruitful” functions\n",
    " - **Void** functions are “not fruitful”"
   ]
  }
 ],
 "metadata": {
  "kernelspec": {
   "display_name": "Python 3",
   "language": "python",
   "name": "python3"
  },
  "language_info": {
   "codemirror_mode": {
    "name": "ipython",
    "version": 3
   },
   "file_extension": ".py",
   "mimetype": "text/x-python",
   "name": "python",
   "nbconvert_exporter": "python",
   "pygments_lexer": "ipython3",
   "version": "3.7.2"
  }
 },
 "nbformat": 4,
 "nbformat_minor": 2
}
