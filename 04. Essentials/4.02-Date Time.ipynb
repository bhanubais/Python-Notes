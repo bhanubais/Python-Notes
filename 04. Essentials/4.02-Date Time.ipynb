{
 "cells": [
  {
   "cell_type": "markdown",
   "metadata": {},
   "source": [
    "# Date Time\n",
    "\n",
    "`datetime` module provide processing to fast implementation of date and time."
   ]
  },
  {
   "cell_type": "markdown",
   "metadata": {},
   "source": [
    "## Create date and time\n",
    "\n",
    "`date(year, month, day) --> date object`\n",
    "\n",
    "`time([hour[, minute[, second[, microsecond[, tzinfo]]]]]) --> a time object`\n",
    "\n",
    "`datetime(year, month, day[, hour[, minute[, second[, microsecond[,tzinfo]]]]]) --> datetime object`"
   ]
  },
  {
   "cell_type": "code",
   "execution_count": 1,
   "metadata": {},
   "outputs": [],
   "source": [
    "# Calling datetime module\n",
    "import datetime as dt"
   ]
  },
  {
   "cell_type": "code",
   "execution_count": 2,
   "metadata": {},
   "outputs": [
    {
     "name": "stdout",
     "output_type": "stream",
     "text": [
      "2019-08-12\n",
      "1983-04-01\n"
     ]
    }
   ],
   "source": [
    "# Creating Date\n",
    "d1 = dt.date(2019, 8, 12)\n",
    "d2 = dt.date(1983, 4, 1)\n",
    "\n",
    "print(d1)\n",
    "print(d2)"
   ]
  },
  {
   "cell_type": "code",
   "execution_count": 3,
   "metadata": {},
   "outputs": [
    {
     "name": "stdout",
     "output_type": "stream",
     "text": [
      "00:00:00\n",
      "08:00:00\n",
      "10:50:23\n",
      "22:15:30\n"
     ]
    }
   ],
   "source": [
    "# Creating Time\n",
    "t1 = dt.time()\n",
    "t2 = dt.time(8)\n",
    "t3 = dt.time(10, 50, 23)\n",
    "t4 = dt.time(22, 15, 30)\n",
    "\n",
    "print(t1)\n",
    "print(t2)\n",
    "print(t3)\n",
    "print(t4)"
   ]
  },
  {
   "cell_type": "code",
   "execution_count": 4,
   "metadata": {
    "scrolled": true
   },
   "outputs": [
    {
     "name": "stdout",
     "output_type": "stream",
     "text": [
      "2019-08-12 12:57:08.964814\n",
      "1982-06-04 10:30:15\n",
      "2001-02-10 00:00:00\n"
     ]
    }
   ],
   "source": [
    "# Create Date and Time alltogether\n",
    "\n",
    "dt1 = dt.datetime.now()\n",
    "dt2 = dt.datetime(1982, 6, 4, 10, 30, 15)\n",
    "dt3 = dt.datetime.strptime('2/10/01', '%m/%d/%y')\n",
    "\n",
    "print(dt1)\n",
    "print(dt2)\n",
    "print(dt3)"
   ]
  },
  {
   "cell_type": "code",
   "execution_count": 5,
   "metadata": {},
   "outputs": [
    {
     "name": "stdout",
     "output_type": "stream",
     "text": [
      "2015-05-02 19:54:36+05:30\n"
     ]
    }
   ],
   "source": [
    "# Create Date and Time with TimeZone\n",
    "\n",
    "dt4 = dt.datetime.strptime('Sat 02 May 2015 19:54:36 +0530', '%a %d %b %Y %H:%M:%S %z')\n",
    "\n",
    "print(dt4)"
   ]
  },
  {
   "cell_type": "markdown",
   "metadata": {},
   "source": [
    "## Display date and time\n",
    "\n",
    "`strftime(...) format -> strftime() style string`\n",
    "\n",
    "[Code reference](http://strftime.org/) \n",
    "\n",
    "| %a  | Weekday as locale’s abbreviated name.                                                                                                                                            | Mon                      |\n",
    "|-----|----------------------------------------------------------------------------------------------------------------------------------------------------------------------------------|--------------------------|\n",
    "| %A  | Weekday as locale’s full name.                                                                                                                                                   | Monday                   |\n",
    "| %w  | Weekday as a decimal number, where 0 is Sunday and 6 is Saturday.                                                                                                                | 1                        |\n",
    "| %d  | Day of the month as a zero-padded decimal number.                                                                                                                                | 30                       |\n",
    "| %-d | Day of the month as a decimal number. (Platform specific)                                                                                                                        | 30                       |\n",
    "| %b  | Month as locale’s abbreviated name.                                                                                                                                              | Sep                      |\n",
    "| %B  | Month as locale’s full name.                                                                                                                                                     | September                |\n",
    "| %m  | Month as a zero-padded decimal number.                                                                                                                                           | 09                       |\n",
    "| %-m | Month as a decimal number. (Platform specific)                                                                                                                                   | 9                        |\n",
    "| %y  | Year without century as a zero-padded decimal number.                                                                                                                            | 13                       |\n",
    "| %Y  | Year with century as a decimal number.                                                                                                                                           | 2013                     |\n",
    "| %H  | Hour (24-hour clock) as a zero-padded decimal number.                                                                                                                            | 07                       |\n",
    "| %-H | Hour (24-hour clock) as a decimal number. (Platform specific)                                                                                                                    | 7                        |\n",
    "| %I  | Hour (12-hour clock) as a zero-padded decimal number.                                                                                                                            | 07                       |\n",
    "| %-I | Hour (12-hour clock) as a decimal number. (Platform specific)                                                                                                                    | 7                        |\n",
    "| %p  | Locale’s equivalent of either AM or PM.                                                                                                                                          | AM                       |\n",
    "| %M  | Minute as a zero-padded decimal number.                                                                                                                                          | 06                       |\n",
    "| %-M | Minute as a decimal number. (Platform specific)                                                                                                                                  | 6                        |\n",
    "| %S  | Second as a zero-padded decimal number.                                                                                                                                          | 05                       |\n",
    "| %-S | Second as a decimal number. (Platform specific)                                                                                                                                  | 5                        |\n",
    "| %f  | Microsecond as a decimal number, zero-padded on the left.                                                                                                                        | 000000                   |\n",
    "| %z  | UTC offset in the form +HHMM or -HHMM (empty string if the the object is naive).                                                                                                 |                          |\n",
    "| %Z  | Time zone name (empty string if the object is naive).                                                                                                                            |                          |\n",
    "| %j  | Day of the year as a zero-padded decimal number.                                                                                                                                 | 273                      |\n",
    "| %-j | Day of the year as a decimal number. (Platform specific)                                                                                                                         | 273                      |\n",
    "| %U  | Week number of the year (Sunday as the first day of the week) as a zero padded decimal number. All days in a new year preceding the first Sunday are considered to be in week 0. | 39                       |\n",
    "| %W  | Week number of the year (Monday as the first day of the week) as a decimal number. All days in a new year preceding the first Monday are considered to be in week 0.             | 39                       |\n",
    "| %c  | Locale’s appropriate date and time representation.                                                                                                                               | Mon Sep 30 07:06:05 2013 |\n",
    "| %x  | Locale’s appropriate date representation.                                                                                                                                        | 09/30/13                 |\n",
    "| %X  | Locale’s appropriate time representation.                                                                                                                                        | 07:06:05                 |\n",
    "| %%  | A literal '%' character.                                                                                                                                                         | %                        |"
   ]
  },
  {
   "cell_type": "code",
   "execution_count": 6,
   "metadata": {},
   "outputs": [
    {
     "name": "stdout",
     "output_type": "stream",
     "text": [
      "Monday, 08-12-19\n",
      "12 August 2019\n",
      "Fri Apr  1 00:00:00 1983\n"
     ]
    }
   ],
   "source": [
    "# Display Date\n",
    "\n",
    "print(d1.strftime('%A, %m-%d-%y'))\n",
    "print(d1.strftime('%d %B %Y'))\n",
    "print(d2.strftime('%c'))"
   ]
  },
  {
   "cell_type": "code",
   "execution_count": 7,
   "metadata": {
    "scrolled": true
   },
   "outputs": [
    {
     "name": "stdout",
     "output_type": "stream",
     "text": [
      "10:15:30 PM\n",
      "22:15:30\n"
     ]
    }
   ],
   "source": [
    "# Display Time\n",
    "\n",
    "print(t4.strftime('%I:%M:%S %p'))\n",
    "print(t4.strftime('%X'))"
   ]
  },
  {
   "cell_type": "markdown",
   "metadata": {},
   "source": [
    "## `timedelta`: Difference between two date/time\n",
    "\n",
    "When we substract two dates we get `timedelta` object\n",
    "\n",
    "Difference between two datetime values."
   ]
  },
  {
   "cell_type": "code",
   "execution_count": 8,
   "metadata": {
    "scrolled": true
   },
   "outputs": [
    {
     "name": "stdout",
     "output_type": "stream",
     "text": [
      "13282 days, 0:00:00\n",
      "13282\n",
      "0\n",
      "0\n",
      "1147564800.0\n"
     ]
    }
   ],
   "source": [
    "past_date = dt.date(1983, 4, 1)\n",
    "today = dt.date.today()\n",
    "\n",
    "# timedelta object\n",
    "difference = today - past_date\n",
    "\n",
    "print(difference)\n",
    "print(difference.days)\n",
    "print(difference.seconds)\n",
    "print(difference.microseconds)\n",
    "print(difference.total_seconds())"
   ]
  },
  {
   "cell_type": "code",
   "execution_count": 9,
   "metadata": {
    "scrolled": true
   },
   "outputs": [
    {
     "name": "stdout",
     "output_type": "stream",
     "text": [
      "13583 days, 2:26:57.241952\n"
     ]
    }
   ],
   "source": [
    "dt1 = dt.datetime.now()\n",
    "dt2 = dt.datetime(1982, 6, 4, 10, 30, 15)\n",
    "\n",
    "dtd = dt1 - dt2\n",
    "\n",
    "print(dtd)"
   ]
  },
  {
   "cell_type": "code",
   "execution_count": 10,
   "metadata": {},
   "outputs": [
    {
     "name": "stdout",
     "output_type": "stream",
     "text": [
      "Mon Aug 12 12:57:12 2019\n",
      "Wed Sep 11 12:57:12 2019\n"
     ]
    }
   ],
   "source": [
    "# Add 30 days from today\n",
    "\n",
    "today = dt.datetime.now()\n",
    "after = today + dt.timedelta(30)\n",
    "\n",
    "print(today.strftime('%c'))\n",
    "print(after.strftime('%c'))"
   ]
  },
  {
   "cell_type": "code",
   "execution_count": 11,
   "metadata": {
    "scrolled": true
   },
   "outputs": [
    {
     "name": "stdout",
     "output_type": "stream",
     "text": [
      "88200.0\n"
     ]
    }
   ],
   "source": [
    "# Total Seconds between two dates\n",
    "\n",
    "dt1 = dt.datetime.strptime('Sat 02 May 2015 19:54:36 +0530', '%a %d %b %Y %H:%M:%S %z')\n",
    "dt2 = dt.datetime.strptime('Fri 01 May 2015 13:54:36 -0000', '%a %d %b %Y %H:%M:%S %z')\n",
    "\n",
    "print((dt1 - dt2).total_seconds())"
   ]
  }
 ],
 "metadata": {
  "kernelspec": {
   "display_name": "Python 3",
   "language": "python",
   "name": "python3"
  },
  "language_info": {
   "codemirror_mode": {
    "name": "ipython",
    "version": 3
   },
   "file_extension": ".py",
   "mimetype": "text/x-python",
   "name": "python",
   "nbconvert_exporter": "python",
   "pygments_lexer": "ipython3",
   "version": "3.7.2"
  }
 },
 "nbformat": 4,
 "nbformat_minor": 2
}
