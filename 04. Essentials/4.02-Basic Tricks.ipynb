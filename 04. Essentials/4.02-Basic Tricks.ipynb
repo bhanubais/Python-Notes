{
 "cells": [
  {
   "cell_type": "markdown",
   "metadata": {},
   "source": [
    "# Basic Tricks"
   ]
  },
  {
   "cell_type": "markdown",
   "metadata": {},
   "source": [
    "## Extracting Unique digits from a string\n",
    "\n",
    "`\n",
    "extract_digits('adf4ads6fasd3f26') -> '3462'\n",
    "extract_digits('') -> ''\n",
    "extract_digits('546576165') -> '16754'\n",
    "extract_digits('dfadsrewrd') -> ''\n",
    "`"
   ]
  },
  {
   "cell_type": "code",
   "execution_count": 1,
   "metadata": {},
   "outputs": [],
   "source": [
    "# Method: 1\n",
    "import string\n",
    "\n",
    "def extract_digits(astr: str) -> str:\n",
    "    return ''.join(set(string.digits).intersection(set(astr)))"
   ]
  },
  {
   "cell_type": "code",
   "execution_count": 2,
   "metadata": {},
   "outputs": [],
   "source": [
    "# Method: 2\n",
    "import re\n",
    "\n",
    "def extract_digits(astr: str) -> str:\n",
    "    return ''.join(set(re.findall(r'[0-9]', astr)))"
   ]
  },
  {
   "cell_type": "code",
   "execution_count": 3,
   "metadata": {},
   "outputs": [
    {
     "name": "stdout",
     "output_type": "stream",
     "text": [
      "False\n",
      "True\n",
      "False\n",
      "True\n"
     ]
    }
   ],
   "source": [
    "print(extract_digits('adf4ads6fasd3f26') == '3462')\n",
    "print(extract_digits('') == '')\n",
    "print(extract_digits('546576165') == '16754')\n",
    "print(extract_digits('dfadsrewrd') == '')"
   ]
  }
 ],
 "metadata": {
  "kernelspec": {
   "display_name": "Python 3",
   "language": "python",
   "name": "python3"
  },
  "language_info": {
   "codemirror_mode": {
    "name": "ipython",
    "version": 3
   },
   "file_extension": ".py",
   "mimetype": "text/x-python",
   "name": "python",
   "nbconvert_exporter": "python",
   "pygments_lexer": "ipython3",
   "version": "3.8.2"
  }
 },
 "nbformat": 4,
 "nbformat_minor": 4
}
